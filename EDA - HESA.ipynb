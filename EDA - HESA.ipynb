{
 "cells": [
  {
   "cell_type": "code",
   "metadata": {
    "id": "sFwQUGfXEor2",
    "deepnote_to_be_reexecuted": false,
    "source_hash": "a70c5aba",
    "execution_start": 1661021802734,
    "execution_millis": 1222,
    "cell_id": "42d41b01-9d1b-4226-80f7-edf31c092973",
    "deepnote_cell_type": "code",
    "deepnote_cell_height": 166
   },
   "source": "# import packages\nimport pandas as pd\nimport numpy as np\nimport matplotlib.pyplot as plt\nimport seaborn as sns\nimport json",
   "execution_count": 1,
   "outputs": []
  },
  {
   "cell_type": "markdown",
   "source": "# EDA - Investigation of structure, quality and content",
   "metadata": {
    "id": "X68IxnekEwd2",
    "cell_id": "00001-63c49eea-623c-4808-8246-599655344112",
    "deepnote_cell_type": "markdown",
    "deepnote_cell_height": 134
   }
  },
  {
   "cell_type": "markdown",
   "source": "## Load dataset",
   "metadata": {
    "id": "zNzFSihtKV_V",
    "cell_id": "00002-b26cde52-cec2-40fa-b771-73c959d5c77c",
    "deepnote_cell_type": "markdown",
    "deepnote_cell_height": 70
   }
  },
  {
   "cell_type": "code",
   "source": "#import dataset\n#dataset .xlsx sudah diclean di excel\n#https://gis.bnpb.go.id/\ndf = pd.read_csv('./dataset/PetaBencana_Dataset.csv')\ndf",
   "metadata": {
    "colab": {
     "base_uri": "https://localhost:8080/",
     "height": 317
    },
    "id": "iwVlkN_nDgN8",
    "outputId": "e0c3c589-e520-491a-bb4e-55b1900077d2",
    "deepnote_to_be_reexecuted": false,
    "source_hash": "e30cfb2f",
    "execution_start": 1661021803961,
    "execution_millis": 560,
    "cell_id": "00003-60ab9a2f-67e4-4a89-9662-c3f65e21da57",
    "deepnote_cell_type": "code",
    "deepnote_cell_height": 683.796875
   },
   "execution_count": 2,
   "outputs": [
    {
     "output_type": "execute_result",
     "execution_count": 2,
     "data": {
      "application/vnd.deepnote.dataframe.v3+json": {
       "column_count": 21,
       "row_count": 4235,
       "columns": [
        {
         "name": "pkey",
         "dtype": "int64",
         "stats": {
          "unique_count": 4230,
          "nan_count": 0,
          "min": "94941",
          "max": "299728",
          "histogram": [
           {
            "bin_start": 94941,
            "bin_end": 115419.7,
            "count": 1844
           },
           {
            "bin_start": 115419.7,
            "bin_end": 135898.4,
            "count": 3
           },
           {
            "bin_start": 135898.4,
            "bin_end": 156377.1,
            "count": 34
           },
           {
            "bin_start": 156377.1,
            "bin_end": 176855.8,
            "count": 126
           },
           {
            "bin_start": 176855.8,
            "bin_end": 197334.5,
            "count": 293
           },
           {
            "bin_start": 197334.5,
            "bin_end": 217813.2,
            "count": 149
           },
           {
            "bin_start": 217813.2,
            "bin_end": 238291.9,
            "count": 484
           },
           {
            "bin_start": 238291.9,
            "bin_end": 258770.6,
            "count": 318
           },
           {
            "bin_start": 258770.6,
            "bin_end": 279249.30000000005,
            "count": 345
           },
           {
            "bin_start": 279249.30000000005,
            "bin_end": 299728,
            "count": 639
           }
          ]
         }
        },
        {
         "name": "date",
         "dtype": "object",
         "stats": {
          "unique_count": 463,
          "nan_count": 0,
          "categories": [
           {
            "name": "25/02/2020",
            "count": 423
           },
           {
            "name": "24/02/2020",
            "count": 386
           },
           {
            "name": "461 others",
            "count": 3426
           }
          ]
         }
        },
        {
         "name": "time",
         "dtype": "object",
         "stats": {
          "unique_count": 2497,
          "nan_count": 0,
          "categories": [
           {
            "name": "1",
            "count": 838
           },
           {
            "name": "0",
            "count": 737
           },
           {
            "name": "2495 others",
            "count": 2660
           }
          ]
         }
        },
        {
         "name": "source",
         "dtype": "object",
         "stats": {
          "unique_count": 3,
          "nan_count": 0,
          "categories": [
           {
            "name": "grasp",
            "count": 3382
           },
           {
            "name": "qlue",
            "count": 665
           },
           {
            "name": "detik",
            "count": 188
           }
          ]
         }
        },
        {
         "name": "status",
         "dtype": "object",
         "stats": {
          "unique_count": 1,
          "nan_count": 0,
          "categories": [
           {
            "name": "confirmed",
            "count": 4235
           }
          ]
         }
        },
        {
         "name": "url",
         "dtype": "object",
         "stats": {
          "unique_count": 3565,
          "nan_count": 665,
          "categories": [
           {
            "name": "d9eb102c-87ff-4c08-9a58-a9751077007d",
            "count": 2
           },
           {
            "name": "3564 others",
            "count": 3568
           },
           {
            "name": "Missing",
            "count": 665
           }
          ]
         }
        },
        {
         "name": "image_url",
         "dtype": "object",
         "stats": {
          "unique_count": 3249,
          "nan_count": 901,
          "categories": [
           {
            "name": "https://lh3.googleusercontent.com/1nth291CbgiXY8oDog_A4f6FXsGGr3ck4dHf85b6i7G1dOA5YamnBgE-aLQVuazfUfHjFFHdHPaDwV55YLhdJASRPR0Q=s480-c",
            "count": 4
           },
           {
            "name": "3248 others",
            "count": 3330
           },
           {
            "name": "Missing",
            "count": 901
           }
          ]
         }
        },
        {
         "name": "disaster_type",
         "dtype": "object",
         "stats": {
          "unique_count": 6,
          "nan_count": 0,
          "categories": [
           {
            "name": "flood",
            "count": 4008
           },
           {
            "name": "earthquake",
            "count": 131
           },
           {
            "name": "4 others",
            "count": 96
           }
          ]
         }
        },
        {
         "name": "report_dat",
         "dtype": "object",
         "stats": {
          "unique_count": 558,
          "nan_count": 780,
          "categories": [
           {
            "name": "{ \"report_type\": \"flood\", \"flood_depth\": 44 }",
            "count": 198
           },
           {
            "name": "557 others",
            "count": 3257
           },
           {
            "name": "Missing",
            "count": 780
           }
          ]
         }
        },
        {
         "name": "tags",
         "dtype": "object",
         "stats": {
          "unique_count": 1006,
          "nan_count": 0,
          "categories": [
           {
            "name": "{ \"district_id\": null, \"local_area_id\": null, \"instance_region_code\": \"ID-JB\" }",
            "count": 640
           },
           {
            "name": "{ \"district_id\": null, \"local_area_id\": null, \"instance_region_code\": \"ID-BT\" }",
            "count": 167
           },
           {
            "name": "1004 others",
            "count": 3428
           }
          ]
         }
        },
        {
         "name": "title",
         "dtype": "object",
         "stats": {
          "unique_count": 187,
          "nan_count": 4047,
          "categories": [
           {
            "name": "Jalan Pati-Tayu Banjir, Beberapa Kendaraan Mogok",
            "count": 2
           },
           {
            "name": "186 others",
            "count": 186
           },
           {
            "name": "Missing",
            "count": 4047
           }
          ]
         }
        },
        {
         "name": "ID_Desa",
         "dtype": "float64",
         "stats": {
          "unique_count": 1268,
          "nan_count": 8,
          "min": "1103030001.0",
          "max": "9420020002.0",
          "histogram": [
           {
            "bin_start": 1103030001,
            "bin_end": 1934729001.1,
            "count": 96
           },
           {
            "bin_start": 1934729001.1,
            "bin_end": 2766428001.2,
            "count": 3
           },
           {
            "bin_start": 2766428001.2,
            "bin_end": 3598127001.3,
            "count": 3425
           },
           {
            "bin_start": 3598127001.3,
            "bin_end": 4429826001.4,
            "count": 215
           },
           {
            "bin_start": 4429826001.4,
            "bin_end": 5261525001.5,
            "count": 67
           },
           {
            "bin_start": 5261525001.5,
            "bin_end": 6093224001.6,
            "count": 22
           },
           {
            "bin_start": 6093224001.6,
            "bin_end": 6924923001.7,
            "count": 301
           },
           {
            "bin_start": 6924923001.7,
            "bin_end": 7756622001.8,
            "count": 84
           },
           {
            "bin_start": 7756622001.8,
            "bin_end": 8588321001.900001,
            "count": 4
           },
           {
            "bin_start": 8588321001.900001,
            "bin_end": 9420020002,
            "count": 10
           }
          ]
         }
        },
        {
         "name": "ID_Kec",
         "dtype": "float64",
         "stats": {
          "unique_count": 677,
          "nan_count": 8,
          "min": "1103030.0",
          "max": "9420020.0",
          "histogram": [
           {
            "bin_start": 1103030,
            "bin_end": 1934729,
            "count": 96
           },
           {
            "bin_start": 1934729,
            "bin_end": 2766428,
            "count": 3
           },
           {
            "bin_start": 2766428,
            "bin_end": 3598127,
            "count": 3425
           },
           {
            "bin_start": 3598127,
            "bin_end": 4429826,
            "count": 215
           },
           {
            "bin_start": 4429826,
            "bin_end": 5261525,
            "count": 67
           },
           {
            "bin_start": 5261525,
            "bin_end": 6093224,
            "count": 22
           },
           {
            "bin_start": 6093224,
            "bin_end": 6924923,
            "count": 301
           },
           {
            "bin_start": 6924923,
            "bin_end": 7756622,
            "count": 84
           },
           {
            "bin_start": 7756622,
            "bin_end": 8588321,
            "count": 4
           },
           {
            "bin_start": 8588321,
            "bin_end": 9420020,
            "count": 10
           }
          ]
         }
        },
        {
         "name": "ID_Kab",
         "dtype": "float64",
         "stats": {
          "unique_count": 238,
          "nan_count": 8,
          "min": "1103.0",
          "max": "9420.0",
          "histogram": [
           {
            "bin_start": 1103,
            "bin_end": 1934.7,
            "count": 96
           },
           {
            "bin_start": 1934.7,
            "bin_end": 2766.4,
            "count": 3
           },
           {
            "bin_start": 2766.4,
            "bin_end": 3598.1000000000004,
            "count": 3425
           },
           {
            "bin_start": 3598.1000000000004,
            "bin_end": 4429.8,
            "count": 215
           },
           {
            "bin_start": 4429.8,
            "bin_end": 5261.5,
            "count": 67
           },
           {
            "bin_start": 5261.5,
            "bin_end": 6093.200000000001,
            "count": 22
           },
           {
            "bin_start": 6093.200000000001,
            "bin_end": 6924.900000000001,
            "count": 301
           },
           {
            "bin_start": 6924.900000000001,
            "bin_end": 7756.6,
            "count": 84
           },
           {
            "bin_start": 7756.6,
            "bin_end": 8588.3,
            "count": 4
           },
           {
            "bin_start": 8588.3,
            "bin_end": 9420,
            "count": 10
           }
          ]
         }
        },
        {
         "name": "ID_Prov",
         "dtype": "float64",
         "stats": {
          "unique_count": 34,
          "nan_count": 8,
          "min": "11.0",
          "max": "94.0",
          "histogram": [
           {
            "bin_start": 11,
            "bin_end": 19.3,
            "count": 97
           },
           {
            "bin_start": 19.3,
            "bin_end": 27.6,
            "count": 2
           },
           {
            "bin_start": 27.6,
            "bin_end": 35.900000000000006,
            "count": 3425
           },
           {
            "bin_start": 35.900000000000006,
            "bin_end": 44.2,
            "count": 215
           },
           {
            "bin_start": 44.2,
            "bin_end": 52.5,
            "count": 71
           },
           {
            "bin_start": 52.5,
            "bin_end": 60.800000000000004,
            "count": 18
           },
           {
            "bin_start": 60.800000000000004,
            "bin_end": 69.10000000000001,
            "count": 301
           },
           {
            "bin_start": 69.10000000000001,
            "bin_end": 77.4,
            "count": 84
           },
           {
            "bin_start": 77.4,
            "bin_end": 85.7,
            "count": 4
           },
           {
            "bin_start": 85.7,
            "bin_end": 94,
            "count": 10
           }
          ]
         }
        },
        {
         "name": "Desa",
         "dtype": "object",
         "stats": {
          "unique_count": 1221,
          "nan_count": 8,
          "categories": [
           {
            "name": "Duri Kepa",
            "count": 91
           },
           {
            "name": "1220 others",
            "count": 4136
           },
           {
            "name": "Missing",
            "count": 8
           }
          ]
         }
        },
        {
         "name": "Kecamatan",
         "dtype": "object",
         "stats": {
          "unique_count": 667,
          "nan_count": 8,
          "categories": [
           {
            "name": "Kebon Jeruk",
            "count": 151
           },
           {
            "name": "666 others",
            "count": 4076
           },
           {
            "name": "Missing",
            "count": 8
           }
          ]
         }
        },
        {
         "name": "Kabupaten",
         "dtype": "object",
         "stats": {
          "unique_count": 223,
          "nan_count": 7,
          "categories": [
           {
            "name": "Jakarta Timur",
            "count": 681
           },
           {
            "name": "222 others",
            "count": 3547
           },
           {
            "name": "Missing",
            "count": 7
           }
          ]
         }
        },
        {
         "name": "Provinsi",
         "dtype": "object",
         "stats": {
          "unique_count": 34,
          "nan_count": 7,
          "categories": [
           {
            "name": "Daerah Khusus Ibukota Jakarta",
            "count": 2324
           },
           {
            "name": "33 others",
            "count": 1904
           },
           {
            "name": "Missing",
            "count": 7
           }
          ]
         }
        },
        {
         "name": "long",
         "dtype": "object",
         "stats": {
          "unique_count": 3844,
          "nan_count": 0,
          "categories": [
           {
            "name": "10.686.539",
            "count": 19
           },
           {
            "name": "10.777.668",
            "count": 10
           },
           {
            "name": "3842 others",
            "count": 4206
           }
          ]
         }
        },
        {
         "name": "lat",
         "dtype": "object",
         "stats": {
          "unique_count": 3786,
          "nan_count": 0,
          "categories": [
           {
            "name": "-617.469",
            "count": 14
           },
           {
            "name": "-617.539",
            "count": 11
           },
           {
            "name": "3784 others",
            "count": 4210
           }
          ]
         }
        },
        {
         "name": "_deepnote_index_column",
         "dtype": "int64"
        }
       ],
       "rows": [
        {
         "pkey": 94941,
         "date": "01/01/2020",
         "time": "0:03:02",
         "source": "grasp",
         "status": "confirmed",
         "url": "2042596d-b551-4ef2-803d-1ee964cf2278",
         "image_url": "https://images.petabencana.id/2042596d-b551-4ef2-803d-1ee964cf2278.jpg",
         "disaster_type": "flood",
         "report_dat": "{ \"report_type\": \"flood\", \"flood_depth\": 30 }",
         "tags": "{ \"district_id\": \"3174\", \"local_area_id\": \"125\", \"instance_region_code\": \"ID-JK\" }",
         "title": "nan",
         "ID_Desa": 3174020005,
         "ID_Kec": 3174020,
         "ID_Kab": 3174,
         "ID_Prov": 31,
         "Desa": "Duri Kepa",
         "Kecamatan": "Kebon Jeruk",
         "Kabupaten": "Jakarta Barat",
         "Provinsi": "Daerah Khusus Ibukota Jakarta",
         "long": "10.676.866",
         "lat": "-616.978",
         "_deepnote_index_column": 0
        },
        {
         "pkey": 95061,
         "date": "01/01/2020",
         "time": "0:43:02",
         "source": "grasp",
         "status": "confirmed",
         "url": "5a0ad45f-7020-43b7-882f-672487ebc6d8",
         "image_url": "https://images.petabencana.id/5a0ad45f-7020-43b7-882f-672487ebc6d8.jpg",
         "disaster_type": "flood",
         "report_dat": "{ \"points\": 1, \"flood_depth\": 80, \"report_type\": \"flood\" }",
         "tags": "{ \"district_id\": null, \"local_area_id\": null, \"instance_region_code\": \"ID-JK\" }",
         "title": "nan",
         "ID_Desa": 3275061004,
         "ID_Kec": 3275061,
         "ID_Kab": 3275,
         "ID_Prov": 32,
         "Desa": "Pejuang",
         "Kecamatan": "Medan Satria",
         "Kabupaten": "Bekasi",
         "Provinsi": "Jawa Barat",
         "long": "10.697.870",
         "lat": "-617.944",
         "_deepnote_index_column": 1
        },
        {
         "pkey": 95062,
         "date": "01/01/2020",
         "time": "1:14:53",
         "source": "grasp",
         "status": "confirmed",
         "url": "e065b40d-2084-48d6-b42f-1f98cb33e4cc",
         "image_url": "nan",
         "disaster_type": "flood",
         "report_dat": "{ \"points\": 1, \"flood_depth\": 51, \"report_type\": \"flood\" }",
         "tags": "{ \"district_id\": \"3172\", \"local_area_id\": \"1789\", \"instance_region_code\": \"ID-JK\" }",
         "title": "nan",
         "ID_Desa": 3172060004,
         "ID_Kec": 3172060,
         "ID_Kab": 3172,
         "ID_Prov": 31,
         "Desa": "Cipinang Muara",
         "Kecamatan": "Jatinegara",
         "Kabupaten": "Jakarta Timur",
         "Provinsi": "Daerah Khusus Ibukota Jakarta",
         "long": "10.689.100",
         "lat": "-623.449",
         "_deepnote_index_column": 2
        },
        {
         "pkey": 95063,
         "date": "01/01/2020",
         "time": "1:15:08",
         "source": "grasp",
         "status": "confirmed",
         "url": "7cb26903-b1c8-4be7-8b81-7014c8a83fbd",
         "image_url": "https://images.petabencana.id/7cb26903-b1c8-4be7-8b81-7014c8a83fbd.jpg",
         "disaster_type": "flood",
         "report_dat": "{ \"points\": 2, \"flood_depth\": 100, \"report_type\": \"flood\" }",
         "tags": "{ \"district_id\": null, \"local_area_id\": null, \"instance_region_code\": \"ID-JK\" }",
         "title": "nan",
         "ID_Desa": 3216061004,
         "ID_Kec": 3216061,
         "ID_Kab": 3216,
         "ID_Prov": 32,
         "Desa": "Mekarmukti",
         "Kecamatan": "Cikarang Utara",
         "Kabupaten": "Bekasi",
         "Provinsi": "Jawa Barat",
         "long": "10.716.189",
         "lat": "-630.170",
         "_deepnote_index_column": 3
        },
        {
         "pkey": 95064,
         "date": "01/01/2020",
         "time": "1:18:03",
         "source": "grasp",
         "status": "confirmed",
         "url": "570d2cb8-d5b6-404f-86ef-8a2a0d27f391",
         "image_url": "https://images.petabencana.id/570d2cb8-d5b6-404f-86ef-8a2a0d27f391.jpg",
         "disaster_type": "flood",
         "report_dat": "{ \"points\": 1, \"flood_depth\": 15, \"report_type\": \"flood\" }",
         "tags": "{ \"district_id\": \"3173\", \"local_area_id\": \"193\", \"instance_region_code\": \"ID-JK\" }",
         "title": "nan",
         "ID_Desa": 3173060002,
         "ID_Kec": 3173060,
         "ID_Kab": 3173,
         "ID_Prov": 31,
         "Desa": "Cempaka Baru",
         "Kecamatan": "Kemayoran",
         "Kabupaten": "Jakarta Pusat",
         "Provinsi": "Daerah Khusus Ibukota Jakarta",
         "long": "10.686.092",
         "lat": "-616.859",
         "_deepnote_index_column": 4
        },
        {
         "pkey": 95065,
         "date": "01/01/2020",
         "time": "1:25:02",
         "source": "grasp",
         "status": "confirmed",
         "url": "04b4f2a6-929c-47cc-8adb-7a1e16c88951",
         "image_url": "https://images.petabencana.id/04b4f2a6-929c-47cc-8adb-7a1e16c88951.jpg",
         "disaster_type": "flood",
         "report_dat": "{ \"report_type\": \"flood\", \"flood_depth\": 60 }",
         "tags": "{ \"district_id\": \"3174\", \"local_area_id\": \"220\", \"instance_region_code\": \"ID-JK\" }",
         "title": "nan",
         "ID_Desa": 3174010004,
         "ID_Kec": 3174010,
         "ID_Kab": 3174,
         "ID_Prov": 31,
         "Desa": "Meruya Utara",
         "Kecamatan": "Kembangan",
         "Kabupaten": "Jakarta Barat",
         "Provinsi": "Daerah Khusus Ibukota Jakarta",
         "long": "10.673.835",
         "lat": "-619.933",
         "_deepnote_index_column": 5
        },
        {
         "pkey": 95066,
         "date": "01/01/2020",
         "time": "1:33:59",
         "source": "grasp",
         "status": "confirmed",
         "url": "7d6aef62-364f-407e-af24-5666c8c0ca04",
         "image_url": "https://images.petabencana.id/7d6aef62-364f-407e-af24-5666c8c0ca04.jpg",
         "disaster_type": "flood",
         "report_dat": "{ \"report_type\": \"flood\", \"flood_depth\": 39 }",
         "tags": "{ \"district_id\": null, \"local_area_id\": null, \"instance_region_code\": \"ID-JK\" }",
         "title": "nan",
         "ID_Desa": 3275061004,
         "ID_Kec": 3275061,
         "ID_Kab": 3275,
         "ID_Prov": 32,
         "Desa": "Pejuang",
         "Kecamatan": "Medan Satria",
         "Kabupaten": "Bekasi",
         "Provinsi": "Jawa Barat",
         "long": "10.698.668",
         "lat": "-618.996",
         "_deepnote_index_column": 6
        },
        {
         "pkey": 95067,
         "date": "01/01/2020",
         "time": "1:43:07",
         "source": "grasp",
         "status": "confirmed",
         "url": "2114b7b1-9da6-421c-8d8e-ad4f2404cde3",
         "image_url": "https://images.petabencana.id/2114b7b1-9da6-421c-8d8e-ad4f2404cde3.jpg",
         "disaster_type": "flood",
         "report_dat": "{ \"report_type\": \"flood\", \"flood_depth\": 36 }",
         "tags": "{ \"district_id\": \"3174\", \"local_area_id\": \"241\", \"instance_region_code\": \"ID-JK\" }",
         "title": "nan",
         "ID_Desa": 3174010004,
         "ID_Kec": 3174010,
         "ID_Kab": 3174,
         "ID_Prov": 31,
         "Desa": "Meruya Utara",
         "Kecamatan": "Kembangan",
         "Kabupaten": "Jakarta Barat",
         "Provinsi": "Daerah Khusus Ibukota Jakarta",
         "long": "10.674.001",
         "lat": "-619.439",
         "_deepnote_index_column": 7
        },
        {
         "pkey": 95068,
         "date": "01/01/2020",
         "time": "2:05:36",
         "source": "grasp",
         "status": "confirmed",
         "url": "7662d562-9845-4d41-ab58-b939e4d89bf7",
         "image_url": "https://images.petabencana.id/7662d562-9845-4d41-ab58-b939e4d89bf7.jpg",
         "disaster_type": "flood",
         "report_dat": "{ \"report_type\": \"flood\", \"flood_depth\": 79 }",
         "tags": "{ \"district_id\": \"3174\", \"local_area_id\": \"938\", \"instance_region_code\": \"ID-JK\" }",
         "title": "nan",
         "ID_Desa": 3174070001,
         "ID_Kec": 3174070,
         "ID_Kab": 3174,
         "ID_Prov": 31,
         "Desa": "Duri Kosambi",
         "Kecamatan": "Cengkareng",
         "Kabupaten": "Jakarta Barat",
         "Provinsi": "Daerah Khusus Ibukota Jakarta",
         "long": "10.672.181",
         "lat": "-616.777",
         "_deepnote_index_column": 8
        },
        {
         "pkey": 95069,
         "date": "01/01/2020",
         "time": "2:04:34",
         "source": "detik",
         "status": "confirmed",
         "url": "https://pasangmata.detik.com/contribution/346984",
         "image_url": "https://akcdn.detik.net.id/community/data/media/thumbs-pasangmata/2020/01/01/346984-15778442741799653252.mp4-03.jpg",
         "disaster_type": "flood",
         "report_dat": "nan",
         "tags": "{ \"district_id\": null, \"local_area_id\": null, \"instance_region_code\": \"ID-JK\" }",
         "title": "Banjir di Taman Yasmin Raya Masjid Jami Ar-Raudhah Bekasi",
         "ID_Desa": 3275061004,
         "ID_Kec": 3275061,
         "ID_Kab": 3275,
         "ID_Prov": 32,
         "Desa": "Pejuang",
         "Kecamatan": "Medan Satria",
         "Kabupaten": "Bekasi",
         "Provinsi": "Jawa Barat",
         "long": "10.699.478",
         "lat": "-618.322",
         "_deepnote_index_column": 9
        }
       ]
      },
      "text/plain": "        pkey        date          time source     status  \\\n0      94941  01/01/2020       0:03:02  grasp  confirmed   \n1      95061  01/01/2020       0:43:02  grasp  confirmed   \n2      95062  01/01/2020       1:14:53  grasp  confirmed   \n3      95063  01/01/2020       1:15:08  grasp  confirmed   \n4      95064  01/01/2020       1:18:03  grasp  confirmed   \n...      ...         ...           ...    ...        ...   \n4230  299721  28/12/2021  01:23:43.144  grasp  confirmed   \n4231  299723  28/12/2021  08:00:13.901  grasp  confirmed   \n4232  299724  28/12/2021  10:49:48.763  grasp  confirmed   \n4233  299726  29/12/2021  07:22:30.000  detik  confirmed   \n4234  299728  30/12/2021  09:32:41.979  grasp  confirmed   \n\n                                                   url  \\\n0                 2042596d-b551-4ef2-803d-1ee964cf2278   \n1                 5a0ad45f-7020-43b7-882f-672487ebc6d8   \n2                 e065b40d-2084-48d6-b42f-1f98cb33e4cc   \n3                 7cb26903-b1c8-4be7-8b81-7014c8a83fbd   \n4                 570d2cb8-d5b6-404f-86ef-8a2a0d27f391   \n...                                                ...   \n4230              8f41806c-9d86-47a8-b52a-28cf0ec0a0be   \n4231              d1bcdbc7-1819-41aa-b5fe-34d0162bb084   \n4232              ee548663-23ad-4adb-8d85-f8c64b1fbb6c   \n4233  https://pasangmata.detik.com/contribution/363227   \n4234              14171753-a6db-40e7-8acf-31dec5dff2d6   \n\n                                              image_url disaster_type  \\\n0     https://images.petabencana.id/2042596d-b551-4e...         flood   \n1     https://images.petabencana.id/5a0ad45f-7020-43...         flood   \n2                                                   NaN         flood   \n3     https://images.petabencana.id/7cb26903-b1c8-4b...         flood   \n4     https://images.petabencana.id/570d2cb8-d5b6-40...         flood   \n...                                                 ...           ...   \n4230  https://images.petabencana.id/8f41806c-9d86-47...         flood   \n4231                                                NaN         flood   \n4232  https://images.petabencana.id/ee548663-23ad-4a...         flood   \n4233  https://akcdn.detik.net.id/community/pasma/202...         flood   \n4234  https://images.petabencana.id/14171753-a6db-40...         flood   \n\n                                             report_dat  \\\n0         { \"report_type\": \"flood\", \"flood_depth\": 30 }   \n1     { \"points\": 1, \"flood_depth\": 80, \"report_type...   \n2     { \"points\": 1, \"flood_depth\": 51, \"report_type...   \n3     { \"points\": 2, \"flood_depth\": 100, \"report_typ...   \n4     { \"points\": 1, \"flood_depth\": 15, \"report_type...   \n...                                                 ...   \n4230     { \"report_type\": \"flood\", \"flood_depth\": 103 }   \n4231      { \"report_type\": \"flood\", \"flood_depth\": 54 }   \n4232      { \"report_type\": \"flood\", \"flood_depth\": 19 }   \n4233                                                NaN   \n4234      { \"report_type\": \"flood\", \"flood_depth\": 22 }   \n\n                                                   tags  ...       ID_Desa  \\\n0     { \"district_id\": \"3174\", \"local_area_id\": \"125...  ...  3.174020e+09   \n1     { \"district_id\": null, \"local_area_id\": null, ...  ...  3.275061e+09   \n2     { \"district_id\": \"3172\", \"local_area_id\": \"178...  ...  3.172060e+09   \n3     { \"district_id\": null, \"local_area_id\": null, ...  ...  3.216061e+09   \n4     { \"district_id\": \"3173\", \"local_area_id\": \"193...  ...  3.173060e+09   \n...                                                 ...  ...           ...   \n4230  { \"district_id\": null, \"local_area_id\": null, ...  ...  6.404054e+09   \n4231  { \"district_id\": \"3173\", \"local_area_id\": \"678...  ...  3.173070e+09   \n4232  { \"district_id\": null, \"local_area_id\": null, ...  ...  3.207111e+09   \n4233  { \"district_id\": \"3172\", \"local_area_id\": \"267...  ...  3.172040e+09   \n4234  { \"district_id\": null, \"local_area_id\": null, ...  ...  5.102040e+09   \n\n         ID_Kec  ID_Kab  ID_Prov             Desa       Kecamatan  \\\n0     3174020.0  3174.0     31.0        Duri Kepa     Kebon Jeruk   \n1     3275061.0  3275.0     32.0          Pejuang    Medan Satria   \n2     3172060.0  3172.0     31.0   Cipinang Muara      Jatinegara   \n3     3216061.0  3216.0     32.0       Mekarmukti  Cikarang Utara   \n4     3173060.0  3173.0     31.0     Cempaka Baru       Kemayoran   \n...         ...     ...      ...              ...             ...   \n4230  6404054.0  6404.0     64.0   Karangan Hilir        Karangan   \n4231  3173070.0  3173.0     31.0     Karang Anyar     Sawah Besar   \n4232  3207111.0  3207.0     32.0        Purwajaya       Purwadadi   \n4233  3172040.0  3172.0     31.0  Cipinang Melayu         Makasar   \n4234  5102040.0  5102.0     51.0     Banjar Anyar          Kediri   \n\n          Kabupaten                       Provinsi           long          lat  \n0     Jakarta Barat  Daerah Khusus Ibukota Jakarta     10.676.866     -616.978  \n1            Bekasi                     Jawa Barat     10.697.870     -617.944  \n2     Jakarta Timur  Daerah Khusus Ibukota Jakarta     10.689.100     -623.449  \n3            Bekasi                     Jawa Barat     10.716.189     -630.170  \n4     Jakarta Pusat  Daerah Khusus Ibukota Jakarta     10.686.092     -616.859  \n...             ...                            ...            ...          ...  \n4230    Kutai Timur               Kalimantan Timur  1.176.655.040   13.510.431  \n4231  Jakarta Pusat  Daerah Khusus Ibukota Jakarta  1.068.276.215  -61.573.981  \n4232         Ciamis                     Jawa Barat  1.086.955.703  -74.600.767  \n4233  Jakarta Timur  Daerah Khusus Ibukota Jakarta  1.069.163.134  -62.516.120  \n4234        Tabanan                           Bali  1.151.423.004  -85.540.953  \n\n[4235 rows x 21 columns]",
      "text/html": "<div>\n<style scoped>\n    .dataframe tbody tr th:only-of-type {\n        vertical-align: middle;\n    }\n\n    .dataframe tbody tr th {\n        vertical-align: top;\n    }\n\n    .dataframe thead th {\n        text-align: right;\n    }\n</style>\n<table border=\"1\" class=\"dataframe\">\n  <thead>\n    <tr style=\"text-align: right;\">\n      <th></th>\n      <th>pkey</th>\n      <th>date</th>\n      <th>time</th>\n      <th>source</th>\n      <th>status</th>\n      <th>url</th>\n      <th>image_url</th>\n      <th>disaster_type</th>\n      <th>report_dat</th>\n      <th>tags</th>\n      <th>...</th>\n      <th>ID_Desa</th>\n      <th>ID_Kec</th>\n      <th>ID_Kab</th>\n      <th>ID_Prov</th>\n      <th>Desa</th>\n      <th>Kecamatan</th>\n      <th>Kabupaten</th>\n      <th>Provinsi</th>\n      <th>long</th>\n      <th>lat</th>\n    </tr>\n  </thead>\n  <tbody>\n    <tr>\n      <th>0</th>\n      <td>94941</td>\n      <td>01/01/2020</td>\n      <td>0:03:02</td>\n      <td>grasp</td>\n      <td>confirmed</td>\n      <td>2042596d-b551-4ef2-803d-1ee964cf2278</td>\n      <td>https://images.petabencana.id/2042596d-b551-4e...</td>\n      <td>flood</td>\n      <td>{ \"report_type\": \"flood\", \"flood_depth\": 30 }</td>\n      <td>{ \"district_id\": \"3174\", \"local_area_id\": \"125...</td>\n      <td>...</td>\n      <td>3.174020e+09</td>\n      <td>3174020.0</td>\n      <td>3174.0</td>\n      <td>31.0</td>\n      <td>Duri Kepa</td>\n      <td>Kebon Jeruk</td>\n      <td>Jakarta Barat</td>\n      <td>Daerah Khusus Ibukota Jakarta</td>\n      <td>10.676.866</td>\n      <td>-616.978</td>\n    </tr>\n    <tr>\n      <th>1</th>\n      <td>95061</td>\n      <td>01/01/2020</td>\n      <td>0:43:02</td>\n      <td>grasp</td>\n      <td>confirmed</td>\n      <td>5a0ad45f-7020-43b7-882f-672487ebc6d8</td>\n      <td>https://images.petabencana.id/5a0ad45f-7020-43...</td>\n      <td>flood</td>\n      <td>{ \"points\": 1, \"flood_depth\": 80, \"report_type...</td>\n      <td>{ \"district_id\": null, \"local_area_id\": null, ...</td>\n      <td>...</td>\n      <td>3.275061e+09</td>\n      <td>3275061.0</td>\n      <td>3275.0</td>\n      <td>32.0</td>\n      <td>Pejuang</td>\n      <td>Medan Satria</td>\n      <td>Bekasi</td>\n      <td>Jawa Barat</td>\n      <td>10.697.870</td>\n      <td>-617.944</td>\n    </tr>\n    <tr>\n      <th>2</th>\n      <td>95062</td>\n      <td>01/01/2020</td>\n      <td>1:14:53</td>\n      <td>grasp</td>\n      <td>confirmed</td>\n      <td>e065b40d-2084-48d6-b42f-1f98cb33e4cc</td>\n      <td>NaN</td>\n      <td>flood</td>\n      <td>{ \"points\": 1, \"flood_depth\": 51, \"report_type...</td>\n      <td>{ \"district_id\": \"3172\", \"local_area_id\": \"178...</td>\n      <td>...</td>\n      <td>3.172060e+09</td>\n      <td>3172060.0</td>\n      <td>3172.0</td>\n      <td>31.0</td>\n      <td>Cipinang Muara</td>\n      <td>Jatinegara</td>\n      <td>Jakarta Timur</td>\n      <td>Daerah Khusus Ibukota Jakarta</td>\n      <td>10.689.100</td>\n      <td>-623.449</td>\n    </tr>\n    <tr>\n      <th>3</th>\n      <td>95063</td>\n      <td>01/01/2020</td>\n      <td>1:15:08</td>\n      <td>grasp</td>\n      <td>confirmed</td>\n      <td>7cb26903-b1c8-4be7-8b81-7014c8a83fbd</td>\n      <td>https://images.petabencana.id/7cb26903-b1c8-4b...</td>\n      <td>flood</td>\n      <td>{ \"points\": 2, \"flood_depth\": 100, \"report_typ...</td>\n      <td>{ \"district_id\": null, \"local_area_id\": null, ...</td>\n      <td>...</td>\n      <td>3.216061e+09</td>\n      <td>3216061.0</td>\n      <td>3216.0</td>\n      <td>32.0</td>\n      <td>Mekarmukti</td>\n      <td>Cikarang Utara</td>\n      <td>Bekasi</td>\n      <td>Jawa Barat</td>\n      <td>10.716.189</td>\n      <td>-630.170</td>\n    </tr>\n    <tr>\n      <th>4</th>\n      <td>95064</td>\n      <td>01/01/2020</td>\n      <td>1:18:03</td>\n      <td>grasp</td>\n      <td>confirmed</td>\n      <td>570d2cb8-d5b6-404f-86ef-8a2a0d27f391</td>\n      <td>https://images.petabencana.id/570d2cb8-d5b6-40...</td>\n      <td>flood</td>\n      <td>{ \"points\": 1, \"flood_depth\": 15, \"report_type...</td>\n      <td>{ \"district_id\": \"3173\", \"local_area_id\": \"193...</td>\n      <td>...</td>\n      <td>3.173060e+09</td>\n      <td>3173060.0</td>\n      <td>3173.0</td>\n      <td>31.0</td>\n      <td>Cempaka Baru</td>\n      <td>Kemayoran</td>\n      <td>Jakarta Pusat</td>\n      <td>Daerah Khusus Ibukota Jakarta</td>\n      <td>10.686.092</td>\n      <td>-616.859</td>\n    </tr>\n    <tr>\n      <th>...</th>\n      <td>...</td>\n      <td>...</td>\n      <td>...</td>\n      <td>...</td>\n      <td>...</td>\n      <td>...</td>\n      <td>...</td>\n      <td>...</td>\n      <td>...</td>\n      <td>...</td>\n      <td>...</td>\n      <td>...</td>\n      <td>...</td>\n      <td>...</td>\n      <td>...</td>\n      <td>...</td>\n      <td>...</td>\n      <td>...</td>\n      <td>...</td>\n      <td>...</td>\n      <td>...</td>\n    </tr>\n    <tr>\n      <th>4230</th>\n      <td>299721</td>\n      <td>28/12/2021</td>\n      <td>01:23:43.144</td>\n      <td>grasp</td>\n      <td>confirmed</td>\n      <td>8f41806c-9d86-47a8-b52a-28cf0ec0a0be</td>\n      <td>https://images.petabencana.id/8f41806c-9d86-47...</td>\n      <td>flood</td>\n      <td>{ \"report_type\": \"flood\", \"flood_depth\": 103 }</td>\n      <td>{ \"district_id\": null, \"local_area_id\": null, ...</td>\n      <td>...</td>\n      <td>6.404054e+09</td>\n      <td>6404054.0</td>\n      <td>6404.0</td>\n      <td>64.0</td>\n      <td>Karangan Hilir</td>\n      <td>Karangan</td>\n      <td>Kutai Timur</td>\n      <td>Kalimantan Timur</td>\n      <td>1.176.655.040</td>\n      <td>13.510.431</td>\n    </tr>\n    <tr>\n      <th>4231</th>\n      <td>299723</td>\n      <td>28/12/2021</td>\n      <td>08:00:13.901</td>\n      <td>grasp</td>\n      <td>confirmed</td>\n      <td>d1bcdbc7-1819-41aa-b5fe-34d0162bb084</td>\n      <td>NaN</td>\n      <td>flood</td>\n      <td>{ \"report_type\": \"flood\", \"flood_depth\": 54 }</td>\n      <td>{ \"district_id\": \"3173\", \"local_area_id\": \"678...</td>\n      <td>...</td>\n      <td>3.173070e+09</td>\n      <td>3173070.0</td>\n      <td>3173.0</td>\n      <td>31.0</td>\n      <td>Karang Anyar</td>\n      <td>Sawah Besar</td>\n      <td>Jakarta Pusat</td>\n      <td>Daerah Khusus Ibukota Jakarta</td>\n      <td>1.068.276.215</td>\n      <td>-61.573.981</td>\n    </tr>\n    <tr>\n      <th>4232</th>\n      <td>299724</td>\n      <td>28/12/2021</td>\n      <td>10:49:48.763</td>\n      <td>grasp</td>\n      <td>confirmed</td>\n      <td>ee548663-23ad-4adb-8d85-f8c64b1fbb6c</td>\n      <td>https://images.petabencana.id/ee548663-23ad-4a...</td>\n      <td>flood</td>\n      <td>{ \"report_type\": \"flood\", \"flood_depth\": 19 }</td>\n      <td>{ \"district_id\": null, \"local_area_id\": null, ...</td>\n      <td>...</td>\n      <td>3.207111e+09</td>\n      <td>3207111.0</td>\n      <td>3207.0</td>\n      <td>32.0</td>\n      <td>Purwajaya</td>\n      <td>Purwadadi</td>\n      <td>Ciamis</td>\n      <td>Jawa Barat</td>\n      <td>1.086.955.703</td>\n      <td>-74.600.767</td>\n    </tr>\n    <tr>\n      <th>4233</th>\n      <td>299726</td>\n      <td>29/12/2021</td>\n      <td>07:22:30.000</td>\n      <td>detik</td>\n      <td>confirmed</td>\n      <td>https://pasangmata.detik.com/contribution/363227</td>\n      <td>https://akcdn.detik.net.id/community/pasma/202...</td>\n      <td>flood</td>\n      <td>NaN</td>\n      <td>{ \"district_id\": \"3172\", \"local_area_id\": \"267...</td>\n      <td>...</td>\n      <td>3.172040e+09</td>\n      <td>3172040.0</td>\n      <td>3172.0</td>\n      <td>31.0</td>\n      <td>Cipinang Melayu</td>\n      <td>Makasar</td>\n      <td>Jakarta Timur</td>\n      <td>Daerah Khusus Ibukota Jakarta</td>\n      <td>1.069.163.134</td>\n      <td>-62.516.120</td>\n    </tr>\n    <tr>\n      <th>4234</th>\n      <td>299728</td>\n      <td>30/12/2021</td>\n      <td>09:32:41.979</td>\n      <td>grasp</td>\n      <td>confirmed</td>\n      <td>14171753-a6db-40e7-8acf-31dec5dff2d6</td>\n      <td>https://images.petabencana.id/14171753-a6db-40...</td>\n      <td>flood</td>\n      <td>{ \"report_type\": \"flood\", \"flood_depth\": 22 }</td>\n      <td>{ \"district_id\": null, \"local_area_id\": null, ...</td>\n      <td>...</td>\n      <td>5.102040e+09</td>\n      <td>5102040.0</td>\n      <td>5102.0</td>\n      <td>51.0</td>\n      <td>Banjar Anyar</td>\n      <td>Kediri</td>\n      <td>Tabanan</td>\n      <td>Bali</td>\n      <td>1.151.423.004</td>\n      <td>-85.540.953</td>\n    </tr>\n  </tbody>\n</table>\n<p>4235 rows × 21 columns</p>\n</div>"
     },
     "metadata": {}
    }
   ]
  },
  {
   "cell_type": "markdown",
   "source": "## 1. Structure Investigation\n-  Exploring the general shape of the dataset, as well as the data types of your features.",
   "metadata": {
    "id": "56iIBoxQKM7g",
    "cell_id": "00005-3a8d6581-e12c-4280-8ca6-db59619fd15f",
    "deepnote_cell_type": "markdown",
    "deepnote_cell_height": 122.390625
   }
  },
  {
   "cell_type": "code",
   "metadata": {
    "colab": {
     "base_uri": "https://localhost:8080/"
    },
    "id": "i_ha_jVdFN44",
    "outputId": "0f5bb65f-faee-47b1-dd93-49aeb02e4fc3",
    "deepnote_to_be_reexecuted": false,
    "source_hash": "7f430124",
    "execution_start": 1661021804105,
    "execution_millis": 419,
    "cell_id": "00006-7bde0031-f772-44ea-9aba-92a7f40abad6",
    "deepnote_cell_type": "code",
    "deepnote_cell_height": 148.1875,
    "deepnote_output_heights": [
     20.1875
    ]
   },
   "source": "# Show size of the dataset\ndf.shape\n# conc: we know we have 4235 samples and 21 attrs",
   "execution_count": 3,
   "outputs": [
    {
     "output_type": "execute_result",
     "execution_count": 3,
     "data": {
      "text/plain": "(4235, 21)"
     },
     "metadata": {}
    }
   ]
  },
  {
   "cell_type": "code",
   "metadata": {
    "colab": {
     "base_uri": "https://localhost:8080/"
    },
    "id": "w0exir5FKl8f",
    "outputId": "f4404aed-b871-422a-df94-c0b801f50603",
    "deepnote_to_be_reexecuted": false,
    "source_hash": "5da1ff11",
    "execution_start": 1661021804153,
    "execution_millis": 373,
    "cell_id": "00008-5c162953-aa01-478e-8cfb-d325b2cac8c9",
    "deepnote_cell_type": "code",
    "deepnote_cell_height": 187.78125,
    "deepnote_output_heights": [
     77.796875
    ]
   },
   "source": "# Count how many times each data type is present in the dataset\npd.value_counts(df.dtypes)",
   "execution_count": 4,
   "outputs": [
    {
     "output_type": "execute_result",
     "execution_count": 4,
     "data": {
      "text/plain": "object     16\nfloat64     4\nint64       1\ndtype: int64"
     },
     "metadata": {}
    }
   ]
  },
  {
   "cell_type": "markdown",
   "source": "### 1.1. Structure of non-numerical features",
   "metadata": {
    "id": "XRGzA-wlK5OG",
    "cell_id": "00010-863267df-b8e6-437b-a4ed-cf4d411483b8",
    "deepnote_cell_type": "markdown",
    "deepnote_cell_height": 62
   }
  },
  {
   "cell_type": "code",
   "metadata": {
    "colab": {
     "base_uri": "https://localhost:8080/",
     "height": 206
    },
    "id": "0dAaDHKyKtSo",
    "outputId": "b22f7995-e072-46b0-9cb1-57007791bb8e",
    "deepnote_to_be_reexecuted": false,
    "source_hash": "bf7230ce",
    "execution_start": 1661021804154,
    "execution_millis": 374,
    "cell_id": "00011-980cbb00-4c6a-4ef9-8bc7-a503ccca430d",
    "deepnote_cell_type": "code",
    "deepnote_cell_height": 425
   },
   "source": "# Display non-numerical features\ndf.select_dtypes(exclude=\"number\").head()",
   "execution_count": 5,
   "outputs": [
    {
     "output_type": "execute_result",
     "execution_count": 5,
     "data": {
      "application/vnd.deepnote.dataframe.v3+json": {
       "column_count": 16,
       "row_count": 5,
       "columns": [
        {
         "name": "date",
         "dtype": "object",
         "stats": {
          "unique_count": 1,
          "nan_count": 0,
          "categories": [
           {
            "name": "01/01/2020",
            "count": 5
           }
          ]
         }
        },
        {
         "name": "time",
         "dtype": "object",
         "stats": {
          "unique_count": 5,
          "nan_count": 0,
          "categories": [
           {
            "name": "0:03:02",
            "count": 1
           },
           {
            "name": "0:43:02",
            "count": 1
           },
           {
            "name": "3 others",
            "count": 3
           }
          ]
         }
        },
        {
         "name": "source",
         "dtype": "object",
         "stats": {
          "unique_count": 1,
          "nan_count": 0,
          "categories": [
           {
            "name": "grasp",
            "count": 5
           }
          ]
         }
        },
        {
         "name": "status",
         "dtype": "object",
         "stats": {
          "unique_count": 1,
          "nan_count": 0,
          "categories": [
           {
            "name": "confirmed",
            "count": 5
           }
          ]
         }
        },
        {
         "name": "url",
         "dtype": "object",
         "stats": {
          "unique_count": 5,
          "nan_count": 0,
          "categories": [
           {
            "name": "2042596d-b551-4ef2-803d-1ee964cf2278",
            "count": 1
           },
           {
            "name": "5a0ad45f-7020-43b7-882f-672487ebc6d8",
            "count": 1
           },
           {
            "name": "3 others",
            "count": 3
           }
          ]
         }
        },
        {
         "name": "image_url",
         "dtype": "object",
         "stats": {
          "unique_count": 4,
          "nan_count": 1,
          "categories": [
           {
            "name": "https://images.petabencana.id/2042596d-b551-4ef2-803d-1ee964cf2278.jpg",
            "count": 1
           },
           {
            "name": "3 others",
            "count": 3
           },
           {
            "name": "Missing",
            "count": 1
           }
          ]
         }
        },
        {
         "name": "disaster_type",
         "dtype": "object",
         "stats": {
          "unique_count": 1,
          "nan_count": 0,
          "categories": [
           {
            "name": "flood",
            "count": 5
           }
          ]
         }
        },
        {
         "name": "report_dat",
         "dtype": "object",
         "stats": {
          "unique_count": 5,
          "nan_count": 0,
          "categories": [
           {
            "name": "{ \"report_type\": \"flood\", \"flood_depth\": 30 }",
            "count": 1
           },
           {
            "name": "{ \"points\": 1, \"flood_depth\": 80, \"report_type\": \"flood\" }",
            "count": 1
           },
           {
            "name": "3 others",
            "count": 3
           }
          ]
         }
        },
        {
         "name": "tags",
         "dtype": "object",
         "stats": {
          "unique_count": 4,
          "nan_count": 0,
          "categories": [
           {
            "name": "{ \"district_id\": null, \"local_area_id\": null, \"instance_region_code\": \"ID-JK\" }",
            "count": 2
           },
           {
            "name": "{ \"district_id\": \"3174\", \"local_area_id\": \"125\", \"instance_region_code\": \"ID-JK\" }",
            "count": 1
           },
           {
            "name": "2 others",
            "count": 2
           }
          ]
         }
        },
        {
         "name": "title",
         "dtype": "object",
         "stats": {
          "unique_count": 0,
          "nan_count": 5,
          "categories": [
           {
            "name": "Missing",
            "count": 5
           }
          ]
         }
        },
        {
         "name": "Desa",
         "dtype": "object",
         "stats": {
          "unique_count": 5,
          "nan_count": 0,
          "categories": [
           {
            "name": "Duri Kepa",
            "count": 1
           },
           {
            "name": "Pejuang",
            "count": 1
           },
           {
            "name": "3 others",
            "count": 3
           }
          ]
         }
        },
        {
         "name": "Kecamatan",
         "dtype": "object",
         "stats": {
          "unique_count": 5,
          "nan_count": 0,
          "categories": [
           {
            "name": "Kebon Jeruk",
            "count": 1
           },
           {
            "name": "Medan Satria",
            "count": 1
           },
           {
            "name": "3 others",
            "count": 3
           }
          ]
         }
        },
        {
         "name": "Kabupaten",
         "dtype": "object",
         "stats": {
          "unique_count": 4,
          "nan_count": 0,
          "categories": [
           {
            "name": "Bekasi",
            "count": 2
           },
           {
            "name": "Jakarta Barat",
            "count": 1
           },
           {
            "name": "2 others",
            "count": 2
           }
          ]
         }
        },
        {
         "name": "Provinsi",
         "dtype": "object",
         "stats": {
          "unique_count": 2,
          "nan_count": 0,
          "categories": [
           {
            "name": "Daerah Khusus Ibukota Jakarta",
            "count": 3
           },
           {
            "name": "Jawa Barat",
            "count": 2
           }
          ]
         }
        },
        {
         "name": "long",
         "dtype": "object",
         "stats": {
          "unique_count": 5,
          "nan_count": 0,
          "categories": [
           {
            "name": "10.676.866",
            "count": 1
           },
           {
            "name": "10.697.870",
            "count": 1
           },
           {
            "name": "3 others",
            "count": 3
           }
          ]
         }
        },
        {
         "name": "lat",
         "dtype": "object",
         "stats": {
          "unique_count": 5,
          "nan_count": 0,
          "categories": [
           {
            "name": "-616.978",
            "count": 1
           },
           {
            "name": "-617.944",
            "count": 1
           },
           {
            "name": "3 others",
            "count": 3
           }
          ]
         }
        },
        {
         "name": "_deepnote_index_column",
         "dtype": "int64"
        }
       ],
       "rows": [
        {
         "date": "01/01/2020",
         "time": "0:03:02",
         "source": "grasp",
         "status": "confirmed",
         "url": "2042596d-b551-4ef2-803d-1ee964cf2278",
         "image_url": "https://images.petabencana.id/2042596d-b551-4ef2-803d-1ee964cf2278.jpg",
         "disaster_type": "flood",
         "report_dat": "{ \"report_type\": \"flood\", \"flood_depth\": 30 }",
         "tags": "{ \"district_id\": \"3174\", \"local_area_id\": \"125\", \"instance_region_code\": \"ID-JK\" }",
         "title": "nan",
         "Desa": "Duri Kepa",
         "Kecamatan": "Kebon Jeruk",
         "Kabupaten": "Jakarta Barat",
         "Provinsi": "Daerah Khusus Ibukota Jakarta",
         "long": "10.676.866",
         "lat": "-616.978",
         "_deepnote_index_column": 0
        },
        {
         "date": "01/01/2020",
         "time": "0:43:02",
         "source": "grasp",
         "status": "confirmed",
         "url": "5a0ad45f-7020-43b7-882f-672487ebc6d8",
         "image_url": "https://images.petabencana.id/5a0ad45f-7020-43b7-882f-672487ebc6d8.jpg",
         "disaster_type": "flood",
         "report_dat": "{ \"points\": 1, \"flood_depth\": 80, \"report_type\": \"flood\" }",
         "tags": "{ \"district_id\": null, \"local_area_id\": null, \"instance_region_code\": \"ID-JK\" }",
         "title": "nan",
         "Desa": "Pejuang",
         "Kecamatan": "Medan Satria",
         "Kabupaten": "Bekasi",
         "Provinsi": "Jawa Barat",
         "long": "10.697.870",
         "lat": "-617.944",
         "_deepnote_index_column": 1
        },
        {
         "date": "01/01/2020",
         "time": "1:14:53",
         "source": "grasp",
         "status": "confirmed",
         "url": "e065b40d-2084-48d6-b42f-1f98cb33e4cc",
         "image_url": "nan",
         "disaster_type": "flood",
         "report_dat": "{ \"points\": 1, \"flood_depth\": 51, \"report_type\": \"flood\" }",
         "tags": "{ \"district_id\": \"3172\", \"local_area_id\": \"1789\", \"instance_region_code\": \"ID-JK\" }",
         "title": "nan",
         "Desa": "Cipinang Muara",
         "Kecamatan": "Jatinegara",
         "Kabupaten": "Jakarta Timur",
         "Provinsi": "Daerah Khusus Ibukota Jakarta",
         "long": "10.689.100",
         "lat": "-623.449",
         "_deepnote_index_column": 2
        },
        {
         "date": "01/01/2020",
         "time": "1:15:08",
         "source": "grasp",
         "status": "confirmed",
         "url": "7cb26903-b1c8-4be7-8b81-7014c8a83fbd",
         "image_url": "https://images.petabencana.id/7cb26903-b1c8-4be7-8b81-7014c8a83fbd.jpg",
         "disaster_type": "flood",
         "report_dat": "{ \"points\": 2, \"flood_depth\": 100, \"report_type\": \"flood\" }",
         "tags": "{ \"district_id\": null, \"local_area_id\": null, \"instance_region_code\": \"ID-JK\" }",
         "title": "nan",
         "Desa": "Mekarmukti",
         "Kecamatan": "Cikarang Utara",
         "Kabupaten": "Bekasi",
         "Provinsi": "Jawa Barat",
         "long": "10.716.189",
         "lat": "-630.170",
         "_deepnote_index_column": 3
        },
        {
         "date": "01/01/2020",
         "time": "1:18:03",
         "source": "grasp",
         "status": "confirmed",
         "url": "570d2cb8-d5b6-404f-86ef-8a2a0d27f391",
         "image_url": "https://images.petabencana.id/570d2cb8-d5b6-404f-86ef-8a2a0d27f391.jpg",
         "disaster_type": "flood",
         "report_dat": "{ \"points\": 1, \"flood_depth\": 15, \"report_type\": \"flood\" }",
         "tags": "{ \"district_id\": \"3173\", \"local_area_id\": \"193\", \"instance_region_code\": \"ID-JK\" }",
         "title": "nan",
         "Desa": "Cempaka Baru",
         "Kecamatan": "Kemayoran",
         "Kabupaten": "Jakarta Pusat",
         "Provinsi": "Daerah Khusus Ibukota Jakarta",
         "long": "10.686.092",
         "lat": "-616.859",
         "_deepnote_index_column": 4
        }
       ]
      },
      "text/plain": "         date     time source     status  \\\n0  01/01/2020  0:03:02  grasp  confirmed   \n1  01/01/2020  0:43:02  grasp  confirmed   \n2  01/01/2020  1:14:53  grasp  confirmed   \n3  01/01/2020  1:15:08  grasp  confirmed   \n4  01/01/2020  1:18:03  grasp  confirmed   \n\n                                    url  \\\n0  2042596d-b551-4ef2-803d-1ee964cf2278   \n1  5a0ad45f-7020-43b7-882f-672487ebc6d8   \n2  e065b40d-2084-48d6-b42f-1f98cb33e4cc   \n3  7cb26903-b1c8-4be7-8b81-7014c8a83fbd   \n4  570d2cb8-d5b6-404f-86ef-8a2a0d27f391   \n\n                                           image_url disaster_type  \\\n0  https://images.petabencana.id/2042596d-b551-4e...         flood   \n1  https://images.petabencana.id/5a0ad45f-7020-43...         flood   \n2                                                NaN         flood   \n3  https://images.petabencana.id/7cb26903-b1c8-4b...         flood   \n4  https://images.petabencana.id/570d2cb8-d5b6-40...         flood   \n\n                                          report_dat  \\\n0      { \"report_type\": \"flood\", \"flood_depth\": 30 }   \n1  { \"points\": 1, \"flood_depth\": 80, \"report_type...   \n2  { \"points\": 1, \"flood_depth\": 51, \"report_type...   \n3  { \"points\": 2, \"flood_depth\": 100, \"report_typ...   \n4  { \"points\": 1, \"flood_depth\": 15, \"report_type...   \n\n                                                tags title            Desa  \\\n0  { \"district_id\": \"3174\", \"local_area_id\": \"125...   NaN       Duri Kepa   \n1  { \"district_id\": null, \"local_area_id\": null, ...   NaN         Pejuang   \n2  { \"district_id\": \"3172\", \"local_area_id\": \"178...   NaN  Cipinang Muara   \n3  { \"district_id\": null, \"local_area_id\": null, ...   NaN      Mekarmukti   \n4  { \"district_id\": \"3173\", \"local_area_id\": \"193...   NaN    Cempaka Baru   \n\n        Kecamatan      Kabupaten                       Provinsi        long  \\\n0     Kebon Jeruk  Jakarta Barat  Daerah Khusus Ibukota Jakarta  10.676.866   \n1    Medan Satria         Bekasi                     Jawa Barat  10.697.870   \n2      Jatinegara  Jakarta Timur  Daerah Khusus Ibukota Jakarta  10.689.100   \n3  Cikarang Utara         Bekasi                     Jawa Barat  10.716.189   \n4       Kemayoran  Jakarta Pusat  Daerah Khusus Ibukota Jakarta  10.686.092   \n\n        lat  \n0  -616.978  \n1  -617.944  \n2  -623.449  \n3  -630.170  \n4  -616.859  ",
      "text/html": "<div>\n<style scoped>\n    .dataframe tbody tr th:only-of-type {\n        vertical-align: middle;\n    }\n\n    .dataframe tbody tr th {\n        vertical-align: top;\n    }\n\n    .dataframe thead th {\n        text-align: right;\n    }\n</style>\n<table border=\"1\" class=\"dataframe\">\n  <thead>\n    <tr style=\"text-align: right;\">\n      <th></th>\n      <th>date</th>\n      <th>time</th>\n      <th>source</th>\n      <th>status</th>\n      <th>url</th>\n      <th>image_url</th>\n      <th>disaster_type</th>\n      <th>report_dat</th>\n      <th>tags</th>\n      <th>title</th>\n      <th>Desa</th>\n      <th>Kecamatan</th>\n      <th>Kabupaten</th>\n      <th>Provinsi</th>\n      <th>long</th>\n      <th>lat</th>\n    </tr>\n  </thead>\n  <tbody>\n    <tr>\n      <th>0</th>\n      <td>01/01/2020</td>\n      <td>0:03:02</td>\n      <td>grasp</td>\n      <td>confirmed</td>\n      <td>2042596d-b551-4ef2-803d-1ee964cf2278</td>\n      <td>https://images.petabencana.id/2042596d-b551-4e...</td>\n      <td>flood</td>\n      <td>{ \"report_type\": \"flood\", \"flood_depth\": 30 }</td>\n      <td>{ \"district_id\": \"3174\", \"local_area_id\": \"125...</td>\n      <td>NaN</td>\n      <td>Duri Kepa</td>\n      <td>Kebon Jeruk</td>\n      <td>Jakarta Barat</td>\n      <td>Daerah Khusus Ibukota Jakarta</td>\n      <td>10.676.866</td>\n      <td>-616.978</td>\n    </tr>\n    <tr>\n      <th>1</th>\n      <td>01/01/2020</td>\n      <td>0:43:02</td>\n      <td>grasp</td>\n      <td>confirmed</td>\n      <td>5a0ad45f-7020-43b7-882f-672487ebc6d8</td>\n      <td>https://images.petabencana.id/5a0ad45f-7020-43...</td>\n      <td>flood</td>\n      <td>{ \"points\": 1, \"flood_depth\": 80, \"report_type...</td>\n      <td>{ \"district_id\": null, \"local_area_id\": null, ...</td>\n      <td>NaN</td>\n      <td>Pejuang</td>\n      <td>Medan Satria</td>\n      <td>Bekasi</td>\n      <td>Jawa Barat</td>\n      <td>10.697.870</td>\n      <td>-617.944</td>\n    </tr>\n    <tr>\n      <th>2</th>\n      <td>01/01/2020</td>\n      <td>1:14:53</td>\n      <td>grasp</td>\n      <td>confirmed</td>\n      <td>e065b40d-2084-48d6-b42f-1f98cb33e4cc</td>\n      <td>NaN</td>\n      <td>flood</td>\n      <td>{ \"points\": 1, \"flood_depth\": 51, \"report_type...</td>\n      <td>{ \"district_id\": \"3172\", \"local_area_id\": \"178...</td>\n      <td>NaN</td>\n      <td>Cipinang Muara</td>\n      <td>Jatinegara</td>\n      <td>Jakarta Timur</td>\n      <td>Daerah Khusus Ibukota Jakarta</td>\n      <td>10.689.100</td>\n      <td>-623.449</td>\n    </tr>\n    <tr>\n      <th>3</th>\n      <td>01/01/2020</td>\n      <td>1:15:08</td>\n      <td>grasp</td>\n      <td>confirmed</td>\n      <td>7cb26903-b1c8-4be7-8b81-7014c8a83fbd</td>\n      <td>https://images.petabencana.id/7cb26903-b1c8-4b...</td>\n      <td>flood</td>\n      <td>{ \"points\": 2, \"flood_depth\": 100, \"report_typ...</td>\n      <td>{ \"district_id\": null, \"local_area_id\": null, ...</td>\n      <td>NaN</td>\n      <td>Mekarmukti</td>\n      <td>Cikarang Utara</td>\n      <td>Bekasi</td>\n      <td>Jawa Barat</td>\n      <td>10.716.189</td>\n      <td>-630.170</td>\n    </tr>\n    <tr>\n      <th>4</th>\n      <td>01/01/2020</td>\n      <td>1:18:03</td>\n      <td>grasp</td>\n      <td>confirmed</td>\n      <td>570d2cb8-d5b6-404f-86ef-8a2a0d27f391</td>\n      <td>https://images.petabencana.id/570d2cb8-d5b6-40...</td>\n      <td>flood</td>\n      <td>{ \"points\": 1, \"flood_depth\": 15, \"report_type...</td>\n      <td>{ \"district_id\": \"3173\", \"local_area_id\": \"193...</td>\n      <td>NaN</td>\n      <td>Cempaka Baru</td>\n      <td>Kemayoran</td>\n      <td>Jakarta Pusat</td>\n      <td>Daerah Khusus Ibukota Jakarta</td>\n      <td>10.686.092</td>\n      <td>-616.859</td>\n    </tr>\n  </tbody>\n</table>\n</div>"
     },
     "metadata": {}
    }
   ]
  },
  {
   "cell_type": "code",
   "metadata": {
    "colab": {
     "base_uri": "https://localhost:8080/"
    },
    "id": "WRUjKArGN7nJ",
    "outputId": "979fb03d-9d85-4451-9d14-ae5419f6574c",
    "deepnote_to_be_reexecuted": false,
    "source_hash": "3e79609d",
    "execution_start": 1661021804177,
    "execution_millis": 352,
    "cell_id": "00012-403cf63e-ee9f-4c2a-9cd5-f1013a1a1d03",
    "deepnote_cell_type": "code",
    "deepnote_cell_height": 690
   },
   "source": "df.describe(exclude=\"number\").transpose()\n\n# unique value: url, image_url, tags, report, long, lat\n# non-unique value: disaster_type, source, provinsi, kabupaten, date, time,  ID_Desa, ID_Kec, Desa, Kecamatan\n# irrelevant: title, status\n# can be change to number : disaster_type",
   "execution_count": 6,
   "outputs": [
    {
     "output_type": "execute_result",
     "execution_count": 6,
     "data": {
      "application/vnd.deepnote.dataframe.v3+json": {
       "column_count": 4,
       "row_count": 16,
       "columns": [
        {
         "name": "count",
         "dtype": "object",
         "stats": {
          "unique_count": 7,
          "nan_count": 0,
          "categories": [
           {
            "name": "4235",
            "count": 8
           },
           {
            "name": "4227",
            "count": 2
           },
           {
            "name": "5 others",
            "count": 6
           }
          ]
         }
        },
        {
         "name": "unique",
         "dtype": "object",
         "stats": {
          "unique_count": 16,
          "nan_count": 0,
          "categories": [
           {
            "name": "463",
            "count": 1
           },
           {
            "name": "2497",
            "count": 1
           },
           {
            "name": "14 others",
            "count": 14
           }
          ]
         }
        },
        {
         "name": "top",
         "dtype": "object",
         "stats": {
          "unique_count": 16,
          "nan_count": 0,
          "categories": [
           {
            "name": "25/02/2020",
            "count": 1
           },
           {
            "name": "1",
            "count": 1
           },
           {
            "name": "14 others",
            "count": 14
           }
          ]
         }
        },
        {
         "name": "freq",
         "dtype": "object",
         "stats": {
          "unique_count": 15,
          "nan_count": 0,
          "categories": [
           {
            "name": "2",
            "count": 2
           },
           {
            "name": "423",
            "count": 1
           },
           {
            "name": "13 others",
            "count": 13
           }
          ]
         }
        },
        {
         "name": "_deepnote_index_column",
         "dtype": "object"
        }
       ],
       "rows": [
        {
         "count": "4235",
         "unique": "463",
         "top": "25/02/2020",
         "freq": "423",
         "_deepnote_index_column": "date"
        },
        {
         "count": "4235",
         "unique": "2497",
         "top": "1",
         "freq": "838",
         "_deepnote_index_column": "time"
        },
        {
         "count": "4235",
         "unique": "3",
         "top": "grasp",
         "freq": "3382",
         "_deepnote_index_column": "source"
        },
        {
         "count": "4235",
         "unique": "1",
         "top": "confirmed",
         "freq": "4235",
         "_deepnote_index_column": "status"
        },
        {
         "count": "3570",
         "unique": "3565",
         "top": "fe75c34a-22d4-47b9-9133-d3c019c5ec18",
         "freq": "2",
         "_deepnote_index_column": "url"
        },
        {
         "count": "3334",
         "unique": "3249",
         "top": "https://lh3.googleusercontent.com/1nth291CbgiXY8oDog_A4f6FXsGGr3ck4dHf85b6i7G1dOA5YamnBgE-aLQVuazfUfHjFFHdHPaDwV55YLhdJASRPR0Q=s480-c",
         "freq": "4",
         "_deepnote_index_column": "image_url"
        },
        {
         "count": "4235",
         "unique": "6",
         "top": "flood",
         "freq": "4008",
         "_deepnote_index_column": "disaster_type"
        },
        {
         "count": "3455",
         "unique": "558",
         "top": "{ \"report_type\": \"flood\", \"flood_depth\": 44 }",
         "freq": "198",
         "_deepnote_index_column": "report_dat"
        },
        {
         "count": "4235",
         "unique": "1006",
         "top": "{ \"district_id\": null, \"local_area_id\": null, \"instance_region_code\": \"ID-JB\" }",
         "freq": "640",
         "_deepnote_index_column": "tags"
        },
        {
         "count": "188",
         "unique": "187",
         "top": "Jalan Pati-Tayu Banjir, Beberapa Kendaraan Mogok",
         "freq": "2",
         "_deepnote_index_column": "title"
        }
       ]
      },
      "text/plain": "              count unique                                                top  \\\ndate           4235    463                                         25/02/2020   \ntime           4235   2497                                                  1   \nsource         4235      3                                              grasp   \nstatus         4235      1                                          confirmed   \nurl            3570   3565               fe75c34a-22d4-47b9-9133-d3c019c5ec18   \nimage_url      3334   3249  https://lh3.googleusercontent.com/1nth291CbgiX...   \ndisaster_type  4235      6                                              flood   \nreport_dat     3455    558      { \"report_type\": \"flood\", \"flood_depth\": 44 }   \ntags           4235   1006  { \"district_id\": null, \"local_area_id\": null, ...   \ntitle           188    187   Jalan Pati-Tayu Banjir, Beberapa Kendaraan Mogok   \nDesa           4227   1221                                          Duri Kepa   \nKecamatan      4227    667                                        Kebon Jeruk   \nKabupaten      4228    223                                      Jakarta Timur   \nProvinsi       4228     34                      Daerah Khusus Ibukota Jakarta   \nlong           4235   3844                                         10.686.539   \nlat            4235   3786                                           -617.469   \n\n               freq  \ndate            423  \ntime            838  \nsource         3382  \nstatus         4235  \nurl               2  \nimage_url         4  \ndisaster_type  4008  \nreport_dat      198  \ntags            640  \ntitle             2  \nDesa             91  \nKecamatan       151  \nKabupaten       681  \nProvinsi       2324  \nlong             19  \nlat              14  ",
      "text/html": "<div>\n<style scoped>\n    .dataframe tbody tr th:only-of-type {\n        vertical-align: middle;\n    }\n\n    .dataframe tbody tr th {\n        vertical-align: top;\n    }\n\n    .dataframe thead th {\n        text-align: right;\n    }\n</style>\n<table border=\"1\" class=\"dataframe\">\n  <thead>\n    <tr style=\"text-align: right;\">\n      <th></th>\n      <th>count</th>\n      <th>unique</th>\n      <th>top</th>\n      <th>freq</th>\n    </tr>\n  </thead>\n  <tbody>\n    <tr>\n      <th>date</th>\n      <td>4235</td>\n      <td>463</td>\n      <td>25/02/2020</td>\n      <td>423</td>\n    </tr>\n    <tr>\n      <th>time</th>\n      <td>4235</td>\n      <td>2497</td>\n      <td>1</td>\n      <td>838</td>\n    </tr>\n    <tr>\n      <th>source</th>\n      <td>4235</td>\n      <td>3</td>\n      <td>grasp</td>\n      <td>3382</td>\n    </tr>\n    <tr>\n      <th>status</th>\n      <td>4235</td>\n      <td>1</td>\n      <td>confirmed</td>\n      <td>4235</td>\n    </tr>\n    <tr>\n      <th>url</th>\n      <td>3570</td>\n      <td>3565</td>\n      <td>fe75c34a-22d4-47b9-9133-d3c019c5ec18</td>\n      <td>2</td>\n    </tr>\n    <tr>\n      <th>image_url</th>\n      <td>3334</td>\n      <td>3249</td>\n      <td>https://lh3.googleusercontent.com/1nth291CbgiX...</td>\n      <td>4</td>\n    </tr>\n    <tr>\n      <th>disaster_type</th>\n      <td>4235</td>\n      <td>6</td>\n      <td>flood</td>\n      <td>4008</td>\n    </tr>\n    <tr>\n      <th>report_dat</th>\n      <td>3455</td>\n      <td>558</td>\n      <td>{ \"report_type\": \"flood\", \"flood_depth\": 44 }</td>\n      <td>198</td>\n    </tr>\n    <tr>\n      <th>tags</th>\n      <td>4235</td>\n      <td>1006</td>\n      <td>{ \"district_id\": null, \"local_area_id\": null, ...</td>\n      <td>640</td>\n    </tr>\n    <tr>\n      <th>title</th>\n      <td>188</td>\n      <td>187</td>\n      <td>Jalan Pati-Tayu Banjir, Beberapa Kendaraan Mogok</td>\n      <td>2</td>\n    </tr>\n    <tr>\n      <th>Desa</th>\n      <td>4227</td>\n      <td>1221</td>\n      <td>Duri Kepa</td>\n      <td>91</td>\n    </tr>\n    <tr>\n      <th>Kecamatan</th>\n      <td>4227</td>\n      <td>667</td>\n      <td>Kebon Jeruk</td>\n      <td>151</td>\n    </tr>\n    <tr>\n      <th>Kabupaten</th>\n      <td>4228</td>\n      <td>223</td>\n      <td>Jakarta Timur</td>\n      <td>681</td>\n    </tr>\n    <tr>\n      <th>Provinsi</th>\n      <td>4228</td>\n      <td>34</td>\n      <td>Daerah Khusus Ibukota Jakarta</td>\n      <td>2324</td>\n    </tr>\n    <tr>\n      <th>long</th>\n      <td>4235</td>\n      <td>3844</td>\n      <td>10.686.539</td>\n      <td>19</td>\n    </tr>\n    <tr>\n      <th>lat</th>\n      <td>4235</td>\n      <td>3786</td>\n      <td>-617.469</td>\n      <td>14</td>\n    </tr>\n  </tbody>\n</table>\n</div>"
     },
     "metadata": {}
    }
   ]
  },
  {
   "cell_type": "code",
   "metadata": {
    "tags": [],
    "deepnote_to_be_reexecuted": false,
    "source_hash": "42745449",
    "execution_start": 1661021804290,
    "execution_millis": 244,
    "cell_id": "00013-b9b2d67d-f985-4e65-b661-4612d4d12e5e",
    "deepnote_cell_type": "code",
    "deepnote_cell_height": 739
   },
   "source": "# normalize 'tags' column from json to new table\ntag = []\nfor i in df['tags']:\n    tag.append(json.loads(i))\n\ntag = pd.json_normalize(tag)\ntag\n\n# too many missing value",
   "execution_count": 7,
   "outputs": [
    {
     "output_type": "execute_result",
     "execution_count": 7,
     "data": {
      "application/vnd.deepnote.dataframe.v3+json": {
       "column_count": 3,
       "row_count": 4235,
       "columns": [
        {
         "name": "district_id",
         "dtype": "object",
         "stats": {
          "unique_count": 5,
          "nan_count": 1919,
          "categories": [
           {
            "name": "3172",
            "count": 679
           },
           {
            "name": "4 others",
            "count": 1637
           },
           {
            "name": "Missing",
            "count": 1919
           }
          ]
         }
        },
        {
         "name": "local_area_id",
         "dtype": "object",
         "stats": {
          "unique_count": 967,
          "nan_count": 1866,
          "categories": [
           {
            "name": "134",
            "count": 37
           },
           {
            "name": "966 others",
            "count": 2332
           },
           {
            "name": "Missing",
            "count": 1866
           }
          ]
         }
        },
        {
         "name": "instance_region_code",
         "dtype": "object",
         "stats": {
          "unique_count": 37,
          "nan_count": 22,
          "categories": [
           {
            "name": "ID-JK",
            "count": 2435
           },
           {
            "name": "36 others",
            "count": 1778
           },
           {
            "name": "Missing",
            "count": 22
           }
          ]
         }
        },
        {
         "name": "_deepnote_index_column",
         "dtype": "int64"
        }
       ],
       "rows": [
        {
         "district_id": "3174",
         "local_area_id": "125",
         "instance_region_code": "ID-JK",
         "_deepnote_index_column": 0
        },
        {
         "district_id": "None",
         "local_area_id": "None",
         "instance_region_code": "ID-JK",
         "_deepnote_index_column": 1
        },
        {
         "district_id": "3172",
         "local_area_id": "1789",
         "instance_region_code": "ID-JK",
         "_deepnote_index_column": 2
        },
        {
         "district_id": "None",
         "local_area_id": "None",
         "instance_region_code": "ID-JK",
         "_deepnote_index_column": 3
        },
        {
         "district_id": "3173",
         "local_area_id": "193",
         "instance_region_code": "ID-JK",
         "_deepnote_index_column": 4
        },
        {
         "district_id": "3174",
         "local_area_id": "220",
         "instance_region_code": "ID-JK",
         "_deepnote_index_column": 5
        },
        {
         "district_id": "None",
         "local_area_id": "None",
         "instance_region_code": "ID-JK",
         "_deepnote_index_column": 6
        },
        {
         "district_id": "3174",
         "local_area_id": "241",
         "instance_region_code": "ID-JK",
         "_deepnote_index_column": 7
        },
        {
         "district_id": "3174",
         "local_area_id": "938",
         "instance_region_code": "ID-JK",
         "_deepnote_index_column": 8
        },
        {
         "district_id": "None",
         "local_area_id": "None",
         "instance_region_code": "ID-JK",
         "_deepnote_index_column": 9
        }
       ]
      },
      "text/plain": "     district_id local_area_id instance_region_code\n0           3174           125                ID-JK\n1           None          None                ID-JK\n2           3172          1789                ID-JK\n3           None          None                ID-JK\n4           3173           193                ID-JK\n...          ...           ...                  ...\n4230        None          None                ID-KI\n4231        3173           678                ID-JK\n4232        None          None                ID-JB\n4233        3172          2674                ID-JK\n4234        None          None                ID-BA\n\n[4235 rows x 3 columns]",
      "text/html": "<div>\n<style scoped>\n    .dataframe tbody tr th:only-of-type {\n        vertical-align: middle;\n    }\n\n    .dataframe tbody tr th {\n        vertical-align: top;\n    }\n\n    .dataframe thead th {\n        text-align: right;\n    }\n</style>\n<table border=\"1\" class=\"dataframe\">\n  <thead>\n    <tr style=\"text-align: right;\">\n      <th></th>\n      <th>district_id</th>\n      <th>local_area_id</th>\n      <th>instance_region_code</th>\n    </tr>\n  </thead>\n  <tbody>\n    <tr>\n      <th>0</th>\n      <td>3174</td>\n      <td>125</td>\n      <td>ID-JK</td>\n    </tr>\n    <tr>\n      <th>1</th>\n      <td>None</td>\n      <td>None</td>\n      <td>ID-JK</td>\n    </tr>\n    <tr>\n      <th>2</th>\n      <td>3172</td>\n      <td>1789</td>\n      <td>ID-JK</td>\n    </tr>\n    <tr>\n      <th>3</th>\n      <td>None</td>\n      <td>None</td>\n      <td>ID-JK</td>\n    </tr>\n    <tr>\n      <th>4</th>\n      <td>3173</td>\n      <td>193</td>\n      <td>ID-JK</td>\n    </tr>\n    <tr>\n      <th>...</th>\n      <td>...</td>\n      <td>...</td>\n      <td>...</td>\n    </tr>\n    <tr>\n      <th>4230</th>\n      <td>None</td>\n      <td>None</td>\n      <td>ID-KI</td>\n    </tr>\n    <tr>\n      <th>4231</th>\n      <td>3173</td>\n      <td>678</td>\n      <td>ID-JK</td>\n    </tr>\n    <tr>\n      <th>4232</th>\n      <td>None</td>\n      <td>None</td>\n      <td>ID-JB</td>\n    </tr>\n    <tr>\n      <th>4233</th>\n      <td>3172</td>\n      <td>2674</td>\n      <td>ID-JK</td>\n    </tr>\n    <tr>\n      <th>4234</th>\n      <td>None</td>\n      <td>None</td>\n      <td>ID-BA</td>\n    </tr>\n  </tbody>\n</table>\n<p>4235 rows × 3 columns</p>\n</div>"
     },
     "metadata": {}
    }
   ]
  },
  {
   "cell_type": "code",
   "metadata": {
    "tags": [],
    "deepnote_to_be_reexecuted": false,
    "source_hash": "ea781837",
    "execution_start": 1661021804418,
    "execution_millis": 119,
    "deepnote_table_state": {
     "pageSize": 10,
     "pageIndex": 0,
     "filters": [],
     "sortBy": []
    },
    "deepnote_table_loading": false,
    "cell_id": "00014-8bbca223-6bde-4378-b40b-793de4cbbef4",
    "deepnote_cell_type": "code",
    "deepnote_cell_height": 845.796875
   },
   "source": "# normalize 'report_dat' column from json to new table\nreport = []\ndf['report_dat'] = df['report_dat'].astype(str)\n\nfor i in df['report_dat']:\n    if(i != 'nan'):\n        report.append(json.loads(i))\n    else:\n        report.append(json.loads(str({})))\n\nreport = pd.json_normalize(report)\nreport\n\n# keep report variable",
   "execution_count": 8,
   "outputs": [
    {
     "output_type": "execute_result",
     "execution_count": 8,
     "data": {
      "application/vnd.deepnote.dataframe.v3+json": {
       "column_count": 19,
       "row_count": 4235,
       "columns": [
        {
         "name": "report_type",
         "dtype": "object",
         "stats": {
          "unique_count": 7,
          "nan_count": 853,
          "categories": [
           {
            "name": "flood",
            "count": 3155
           },
           {
            "name": "6 others",
            "count": 227
           },
           {
            "name": "Missing",
            "count": 853
           }
          ]
         }
        },
        {
         "name": "flood_depth",
         "dtype": "float64",
         "stats": {
          "unique_count": 187,
          "nan_count": 1080,
          "min": "0.0",
          "max": "200.0",
          "histogram": [
           {
            "bin_start": 0,
            "bin_end": 20,
            "count": 208
           },
           {
            "bin_start": 20,
            "bin_end": 40,
            "count": 733
           },
           {
            "bin_start": 40,
            "bin_end": 60,
            "count": 1043
           },
           {
            "bin_start": 60,
            "bin_end": 80,
            "count": 435
           },
           {
            "bin_start": 80,
            "bin_end": 100,
            "count": 299
           },
           {
            "bin_start": 100,
            "bin_end": 120,
            "count": 166
           },
           {
            "bin_start": 120,
            "bin_end": 140,
            "count": 107
           },
           {
            "bin_start": 140,
            "bin_end": 160,
            "count": 66
           },
           {
            "bin_start": 160,
            "bin_end": 180,
            "count": 20
           },
           {
            "bin_start": 180,
            "bin_end": 200,
            "count": 78
           }
          ]
         }
        },
        {
         "name": "points",
         "dtype": "float64",
         "stats": {
          "unique_count": 13,
          "nan_count": 3443,
          "min": "-7.0",
          "max": "20.0",
          "histogram": [
           {
            "bin_start": -7,
            "bin_end": -4.3,
            "count": 1
           },
           {
            "bin_start": -4.3,
            "bin_end": -1.5999999999999996,
            "count": 15
           },
           {
            "bin_start": -1.5999999999999996,
            "bin_end": 1.1000000000000014,
            "count": 644
           },
           {
            "bin_start": 1.1000000000000014,
            "bin_end": 3.8000000000000007,
            "count": 117
           },
           {
            "bin_start": 3.8000000000000007,
            "bin_end": 6.5,
            "count": 13
           },
           {
            "bin_start": 6.5,
            "bin_end": 9.200000000000003,
            "count": 1
           },
           {
            "bin_start": 9.200000000000003,
            "bin_end": 11.900000000000002,
            "count": 0
           },
           {
            "bin_start": 11.900000000000002,
            "bin_end": 14.600000000000001,
            "count": 0
           },
           {
            "bin_start": 14.600000000000001,
            "bin_end": 17.3,
            "count": 0
           },
           {
            "bin_start": 17.3,
            "bin_end": 20,
            "count": 1
           }
          ]
         }
        },
        {
         "name": "structureFailure",
         "dtype": "float64",
         "stats": {
          "unique_count": 3,
          "nan_count": 4153,
          "min": "0.0",
          "max": "2.0",
          "histogram": [
           {
            "bin_start": 0,
            "bin_end": 0.2,
            "count": 31
           },
           {
            "bin_start": 0.2,
            "bin_end": 0.4,
            "count": 0
           },
           {
            "bin_start": 0.4,
            "bin_end": 0.6000000000000001,
            "count": 0
           },
           {
            "bin_start": 0.6000000000000001,
            "bin_end": 0.8,
            "count": 0
           },
           {
            "bin_start": 0.8,
            "bin_end": 1,
            "count": 0
           },
           {
            "bin_start": 1,
            "bin_end": 1.2000000000000002,
            "count": 37
           },
           {
            "bin_start": 1.2000000000000002,
            "bin_end": 1.4000000000000001,
            "count": 0
           },
           {
            "bin_start": 1.4000000000000001,
            "bin_end": 1.6,
            "count": 0
           },
           {
            "bin_start": 1.6,
            "bin_end": 1.8,
            "count": 0
           },
           {
            "bin_start": 1.8,
            "bin_end": 2,
            "count": 14
           }
          ]
         }
        },
        {
         "name": "accessabilityFailure",
         "dtype": "float64",
         "stats": {
          "unique_count": 5,
          "nan_count": 4186,
          "min": "0.0",
          "max": "4.0",
          "histogram": [
           {
            "bin_start": 0,
            "bin_end": 0.4,
            "count": 11
           },
           {
            "bin_start": 0.4,
            "bin_end": 0.8,
            "count": 0
           },
           {
            "bin_start": 0.8,
            "bin_end": 1.2000000000000002,
            "count": 11
           },
           {
            "bin_start": 1.2000000000000002,
            "bin_end": 1.6,
            "count": 0
           },
           {
            "bin_start": 1.6,
            "bin_end": 2,
            "count": 0
           },
           {
            "bin_start": 2,
            "bin_end": 2.4000000000000004,
            "count": 5
           },
           {
            "bin_start": 2.4000000000000004,
            "bin_end": 2.8000000000000003,
            "count": 0
           },
           {
            "bin_start": 2.8000000000000003,
            "bin_end": 3.2,
            "count": 4
           },
           {
            "bin_start": 3.2,
            "bin_end": 3.6,
            "count": 0
           },
           {
            "bin_start": 3.6,
            "bin_end": 4,
            "count": 18
           }
          ]
         }
        },
        {
         "name": "condition",
         "dtype": "float64",
         "stats": {
          "unique_count": 3,
          "nan_count": 4186,
          "min": "0.0",
          "max": "2.0",
          "histogram": [
           {
            "bin_start": 0,
            "bin_end": 0.2,
            "count": 24
           },
           {
            "bin_start": 0.2,
            "bin_end": 0.4,
            "count": 0
           },
           {
            "bin_start": 0.4,
            "bin_end": 0.6000000000000001,
            "count": 0
           },
           {
            "bin_start": 0.6000000000000001,
            "bin_end": 0.8,
            "count": 0
           },
           {
            "bin_start": 0.8,
            "bin_end": 1,
            "count": 0
           },
           {
            "bin_start": 1,
            "bin_end": 1.2000000000000002,
            "count": 12
           },
           {
            "bin_start": 1.2000000000000002,
            "bin_end": 1.4000000000000001,
            "count": 0
           },
           {
            "bin_start": 1.4000000000000001,
            "bin_end": 1.6,
            "count": 0
           },
           {
            "bin_start": 1.6,
            "bin_end": 1.8,
            "count": 0
           },
           {
            "bin_start": 1.8,
            "bin_end": 2,
            "count": 13
           }
          ]
         }
        },
        {
         "name": "impact",
         "dtype": "float64",
         "stats": {
          "unique_count": 3,
          "nan_count": 4171,
          "min": "0.0",
          "max": "2.0",
          "histogram": [
           {
            "bin_start": 0,
            "bin_end": 0.2,
            "count": 21
           },
           {
            "bin_start": 0.2,
            "bin_end": 0.4,
            "count": 0
           },
           {
            "bin_start": 0.4,
            "bin_end": 0.6000000000000001,
            "count": 0
           },
           {
            "bin_start": 0.6000000000000001,
            "bin_end": 0.8,
            "count": 0
           },
           {
            "bin_start": 0.8,
            "bin_end": 1,
            "count": 0
           },
           {
            "bin_start": 1,
            "bin_end": 1.2000000000000002,
            "count": 34
           },
           {
            "bin_start": 1.2000000000000002,
            "bin_end": 1.4000000000000001,
            "count": 0
           },
           {
            "bin_start": 1.4000000000000001,
            "bin_end": 1.6,
            "count": 0
           },
           {
            "bin_start": 1.6,
            "bin_end": 1.8,
            "count": 0
           },
           {
            "bin_start": 1.8,
            "bin_end": 2,
            "count": 9
           }
          ]
         }
        },
        {
         "name": "fireDistance",
         "dtype": "float64",
         "stats": {
          "unique_count": 12,
          "nan_count": 4223,
          "min": "21.340776",
          "max": "261.204693",
          "histogram": [
           {
            "bin_start": 21.340776,
            "bin_end": 45.327167700000004,
            "count": 1
           },
           {
            "bin_start": 45.327167700000004,
            "bin_end": 69.3135594,
            "count": 2
           },
           {
            "bin_start": 69.3135594,
            "bin_end": 93.29995110000002,
            "count": 0
           },
           {
            "bin_start": 93.29995110000002,
            "bin_end": 117.28634280000001,
            "count": 0
           },
           {
            "bin_start": 117.28634280000001,
            "bin_end": 141.2727345,
            "count": 2
           },
           {
            "bin_start": 141.2727345,
            "bin_end": 165.25912620000003,
            "count": 1
           },
           {
            "bin_start": 165.25912620000003,
            "bin_end": 189.2455179,
            "count": 3
           },
           {
            "bin_start": 189.2455179,
            "bin_end": 213.23190960000002,
            "count": 2
           },
           {
            "bin_start": 213.23190960000002,
            "bin_end": 237.21830130000004,
            "count": 0
           },
           {
            "bin_start": 237.21830130000004,
            "bin_end": 261.204693,
            "count": 1
           }
          ]
         }
        },
        {
         "name": "fireLocation.lat",
         "dtype": "float64",
         "stats": {
          "unique_count": 12,
          "nan_count": 4223,
          "min": "-6.908612",
          "max": "0.902043",
          "histogram": [
           {
            "bin_start": -6.908612,
            "bin_end": -6.127546499999999,
            "count": 8
           },
           {
            "bin_start": -6.127546499999999,
            "bin_end": -5.346481,
            "count": 0
           },
           {
            "bin_start": -5.346481,
            "bin_end": -4.5654155,
            "count": 0
           },
           {
            "bin_start": -4.5654155,
            "bin_end": -3.78435,
            "count": 0
           },
           {
            "bin_start": -3.78435,
            "bin_end": -3.0032845,
            "count": 1
           },
           {
            "bin_start": -3.0032845,
            "bin_end": -2.222219,
            "count": 0
           },
           {
            "bin_start": -2.222219,
            "bin_end": -1.4411535000000004,
            "count": 1
           },
           {
            "bin_start": -1.4411535000000004,
            "bin_end": -0.660088,
            "count": 0
           },
           {
            "bin_start": -0.660088,
            "bin_end": 0.1209775000000004,
            "count": 0
           },
           {
            "bin_start": 0.1209775000000004,
            "bin_end": 0.902043,
            "count": 2
           }
          ]
         }
        },
        {
         "name": "fireLocation.lng",
         "dtype": "float64",
         "stats": {
          "unique_count": 12,
          "nan_count": 4223,
          "min": "104.24196",
          "max": "123.649449",
          "histogram": [
           {
            "bin_start": 104.24196,
            "bin_end": 106.18270890000001,
            "count": 1
           },
           {
            "bin_start": 106.18270890000001,
            "bin_end": 108.12345780000001,
            "count": 8
           },
           {
            "bin_start": 108.12345780000001,
            "bin_end": 110.0642067,
            "count": 1
           },
           {
            "bin_start": 110.0642067,
            "bin_end": 112.0049556,
            "count": 0
           },
           {
            "bin_start": 112.0049556,
            "bin_end": 113.9457045,
            "count": 0
           },
           {
            "bin_start": 113.9457045,
            "bin_end": 115.88645340000001,
            "count": 0
           },
           {
            "bin_start": 115.88645340000001,
            "bin_end": 117.82720230000001,
            "count": 0
           },
           {
            "bin_start": 117.82720230000001,
            "bin_end": 119.7679512,
            "count": 0
           },
           {
            "bin_start": 119.7679512,
            "bin_end": 121.7087001,
            "count": 0
           },
           {
            "bin_start": 121.7087001,
            "bin_end": 123.649449,
            "count": 2
           }
          ]
         }
        },
        {
         "name": "personLocation.lat",
         "dtype": "float64",
         "stats": {
          "unique_count": 12,
          "nan_count": 4223,
          "min": "-6.91504",
          "max": "0.902022",
          "histogram": [
           {
            "bin_start": -6.91504,
            "bin_end": -6.1333338,
            "count": 8
           },
           {
            "bin_start": -6.1333338,
            "bin_end": -5.3516276000000005,
            "count": 0
           },
           {
            "bin_start": -5.3516276000000005,
            "bin_end": -4.5699214,
            "count": 0
           },
           {
            "bin_start": -4.5699214,
            "bin_end": -3.7882152000000002,
            "count": 0
           },
           {
            "bin_start": -3.7882152000000002,
            "bin_end": -3.0065090000000003,
            "count": 1
           },
           {
            "bin_start": -3.0065090000000003,
            "bin_end": -2.2248028,
            "count": 0
           },
           {
            "bin_start": -2.2248028,
            "bin_end": -1.4430966000000005,
            "count": 1
           },
           {
            "bin_start": -1.4430966000000005,
            "bin_end": -0.6613904000000002,
            "count": 0
           },
           {
            "bin_start": -0.6613904000000002,
            "bin_end": 0.1203158000000002,
            "count": 0
           },
           {
            "bin_start": 0.1203158000000002,
            "bin_end": 0.902022,
            "count": 2
           }
          ]
         }
        },
        {
         "name": "personLocation.lng",
         "dtype": "float64",
         "stats": {
          "unique_count": 12,
          "nan_count": 4223,
          "min": "104.242444",
          "max": "123.644557",
          "histogram": [
           {
            "bin_start": 104.242444,
            "bin_end": 106.18265530000001,
            "count": 1
           },
           {
            "bin_start": 106.18265530000001,
            "bin_end": 108.12286660000001,
            "count": 8
           },
           {
            "bin_start": 108.12286660000001,
            "bin_end": 110.06307790000001,
            "count": 0
           },
           {
            "bin_start": 110.06307790000001,
            "bin_end": 112.00328920000001,
            "count": 1
           },
           {
            "bin_start": 112.00328920000001,
            "bin_end": 113.9435005,
            "count": 0
           },
           {
            "bin_start": 113.9435005,
            "bin_end": 115.88371180000001,
            "count": 0
           },
           {
            "bin_start": 115.88371180000001,
            "bin_end": 117.8239231,
            "count": 0
           },
           {
            "bin_start": 117.8239231,
            "bin_end": 119.7641344,
            "count": 0
           },
           {
            "bin_start": 119.7641344,
            "bin_end": 121.7043457,
            "count": 0
           },
           {
            "bin_start": 121.7043457,
            "bin_end": 123.644557,
            "count": 2
           }
          ]
         }
        },
        {
         "name": "fireRadius.lat",
         "dtype": "float64",
         "stats": {
          "unique_count": 12,
          "nan_count": 4223,
          "min": "-6.908621",
          "max": "0.90273",
          "histogram": [
           {
            "bin_start": -6.908621,
            "bin_end": -6.1274859,
            "count": 8
           },
           {
            "bin_start": -6.1274859,
            "bin_end": -5.3463508,
            "count": 0
           },
           {
            "bin_start": -5.3463508,
            "bin_end": -4.5652157,
            "count": 0
           },
           {
            "bin_start": -4.5652157,
            "bin_end": -3.7840806000000002,
            "count": 0
           },
           {
            "bin_start": -3.7840806000000002,
            "bin_end": -3.0029455,
            "count": 1
           },
           {
            "bin_start": -3.0029455,
            "bin_end": -2.2218104000000007,
            "count": 0
           },
           {
            "bin_start": -2.2218104000000007,
            "bin_end": -1.4406753000000005,
            "count": 1
           },
           {
            "bin_start": -1.4406753000000005,
            "bin_end": -0.6595402000000004,
            "count": 0
           },
           {
            "bin_start": -0.6595402000000004,
            "bin_end": 0.12159489999999984,
            "count": 0
           },
           {
            "bin_start": 0.12159489999999984,
            "bin_end": 0.90273,
            "count": 2
           }
          ]
         }
        },
        {
         "name": "fireRadius.lng",
         "dtype": "float64",
         "stats": {
          "unique_count": 12,
          "nan_count": 4223,
          "min": "104.241788",
          "max": "123.650404",
          "histogram": [
           {
            "bin_start": 104.241788,
            "bin_end": 106.1826496,
            "count": 1
           },
           {
            "bin_start": 106.1826496,
            "bin_end": 108.1235112,
            "count": 8
           },
           {
            "bin_start": 108.1235112,
            "bin_end": 110.0643728,
            "count": 1
           },
           {
            "bin_start": 110.0643728,
            "bin_end": 112.00523439999999,
            "count": 0
           },
           {
            "bin_start": 112.00523439999999,
            "bin_end": 113.946096,
            "count": 0
           },
           {
            "bin_start": 113.946096,
            "bin_end": 115.88695759999999,
            "count": 0
           },
           {
            "bin_start": 115.88695759999999,
            "bin_end": 117.8278192,
            "count": 0
           },
           {
            "bin_start": 117.8278192,
            "bin_end": 119.7686808,
            "count": 0
           },
           {
            "bin_start": 119.7686808,
            "bin_end": 121.70954239999999,
            "count": 0
           },
           {
            "bin_start": 121.70954239999999,
            "bin_end": 123.650404,
            "count": 2
           }
          ]
         }
        },
        {
         "name": "volcanicSigns",
         "dtype": "object",
         "stats": {
          "unique_count": 4235,
          "nan_count": 4217,
          "categories": [
           {
            "name": "[4]",
            "count": 11
           },
           {
            "name": "6 others",
            "count": 7
           },
           {
            "name": "Missing",
            "count": 4217
           }
          ]
         }
        },
        {
         "name": "evacuationNumber",
         "dtype": "float64",
         "stats": {
          "unique_count": 3,
          "nan_count": 4217,
          "min": "1.0",
          "max": "3.0",
          "histogram": [
           {
            "bin_start": 1,
            "bin_end": 1.2,
            "count": 5
           },
           {
            "bin_start": 1.2,
            "bin_end": 1.4,
            "count": 0
           },
           {
            "bin_start": 1.4,
            "bin_end": 1.6,
            "count": 0
           },
           {
            "bin_start": 1.6,
            "bin_end": 1.8,
            "count": 0
           },
           {
            "bin_start": 1.8,
            "bin_end": 2,
            "count": 0
           },
           {
            "bin_start": 2,
            "bin_end": 2.2,
            "count": 7
           },
           {
            "bin_start": 2.2,
            "bin_end": 2.4000000000000004,
            "count": 0
           },
           {
            "bin_start": 2.4000000000000004,
            "bin_end": 2.6,
            "count": 0
           },
           {
            "bin_start": 2.6,
            "bin_end": 2.8,
            "count": 0
           },
           {
            "bin_start": 2.8,
            "bin_end": 3,
            "count": 6
           }
          ]
         }
        },
        {
         "name": "evacuationArea",
         "dtype": "object",
         "stats": {
          "unique_count": 2,
          "nan_count": 4217,
          "categories": [
           {
            "name": "True",
            "count": 15
           },
           {
            "name": "False",
            "count": 3
           },
           {
            "name": "Missing",
            "count": 4217
           }
          ]
         }
        },
        {
         "name": "visibility",
         "dtype": "float64",
         "stats": {
          "unique_count": 1,
          "nan_count": 4233,
          "min": "0.0",
          "max": "0.0",
          "histogram": [
           {
            "bin_start": -0.5,
            "bin_end": -0.4,
            "count": 0
           },
           {
            "bin_start": -0.4,
            "bin_end": -0.3,
            "count": 0
           },
           {
            "bin_start": -0.3,
            "bin_end": -0.19999999999999996,
            "count": 0
           },
           {
            "bin_start": -0.19999999999999996,
            "bin_end": -0.09999999999999998,
            "count": 0
           },
           {
            "bin_start": -0.09999999999999998,
            "bin_end": 0,
            "count": 0
           },
           {
            "bin_start": 0,
            "bin_end": 0.10000000000000009,
            "count": 2
           },
           {
            "bin_start": 0.10000000000000009,
            "bin_end": 0.20000000000000007,
            "count": 0
           },
           {
            "bin_start": 0.20000000000000007,
            "bin_end": 0.30000000000000004,
            "count": 0
           },
           {
            "bin_start": 0.30000000000000004,
            "bin_end": 0.4,
            "count": 0
           },
           {
            "bin_start": 0.4,
            "bin_end": 0.5,
            "count": 0
           }
          ]
         }
        },
        {
         "name": "airQuality",
         "dtype": "float64",
         "stats": {
          "unique_count": 1,
          "nan_count": 4233,
          "min": "1.0",
          "max": "1.0",
          "histogram": [
           {
            "bin_start": 0.5,
            "bin_end": 0.6,
            "count": 0
           },
           {
            "bin_start": 0.6,
            "bin_end": 0.7,
            "count": 0
           },
           {
            "bin_start": 0.7,
            "bin_end": 0.8,
            "count": 0
           },
           {
            "bin_start": 0.8,
            "bin_end": 0.9,
            "count": 0
           },
           {
            "bin_start": 0.9,
            "bin_end": 1,
            "count": 0
           },
           {
            "bin_start": 1,
            "bin_end": 1.1,
            "count": 2
           },
           {
            "bin_start": 1.1,
            "bin_end": 1.2000000000000002,
            "count": 0
           },
           {
            "bin_start": 1.2000000000000002,
            "bin_end": 1.3,
            "count": 0
           },
           {
            "bin_start": 1.3,
            "bin_end": 1.4,
            "count": 0
           },
           {
            "bin_start": 1.4,
            "bin_end": 1.5,
            "count": 0
           }
          ]
         }
        },
        {
         "name": "_deepnote_index_column",
         "dtype": "int64"
        }
       ],
       "rows": [
        {
         "report_type": "flood",
         "flood_depth": 30,
         "points": "nan",
         "structureFailure": "nan",
         "accessabilityFailure": "nan",
         "condition": "nan",
         "impact": "nan",
         "fireDistance": "nan",
         "fireLocation.lat": "nan",
         "fireLocation.lng": "nan",
         "personLocation.lat": "nan",
         "personLocation.lng": "nan",
         "fireRadius.lat": "nan",
         "fireRadius.lng": "nan",
         "volcanicSigns": "nan",
         "evacuationNumber": "nan",
         "evacuationArea": "nan",
         "visibility": "nan",
         "airQuality": "nan",
         "_deepnote_index_column": 0
        },
        {
         "report_type": "flood",
         "flood_depth": 80,
         "points": 1,
         "structureFailure": "nan",
         "accessabilityFailure": "nan",
         "condition": "nan",
         "impact": "nan",
         "fireDistance": "nan",
         "fireLocation.lat": "nan",
         "fireLocation.lng": "nan",
         "personLocation.lat": "nan",
         "personLocation.lng": "nan",
         "fireRadius.lat": "nan",
         "fireRadius.lng": "nan",
         "volcanicSigns": "nan",
         "evacuationNumber": "nan",
         "evacuationArea": "nan",
         "visibility": "nan",
         "airQuality": "nan",
         "_deepnote_index_column": 1
        },
        {
         "report_type": "flood",
         "flood_depth": 51,
         "points": 1,
         "structureFailure": "nan",
         "accessabilityFailure": "nan",
         "condition": "nan",
         "impact": "nan",
         "fireDistance": "nan",
         "fireLocation.lat": "nan",
         "fireLocation.lng": "nan",
         "personLocation.lat": "nan",
         "personLocation.lng": "nan",
         "fireRadius.lat": "nan",
         "fireRadius.lng": "nan",
         "volcanicSigns": "nan",
         "evacuationNumber": "nan",
         "evacuationArea": "nan",
         "visibility": "nan",
         "airQuality": "nan",
         "_deepnote_index_column": 2
        },
        {
         "report_type": "flood",
         "flood_depth": 100,
         "points": 2,
         "structureFailure": "nan",
         "accessabilityFailure": "nan",
         "condition": "nan",
         "impact": "nan",
         "fireDistance": "nan",
         "fireLocation.lat": "nan",
         "fireLocation.lng": "nan",
         "personLocation.lat": "nan",
         "personLocation.lng": "nan",
         "fireRadius.lat": "nan",
         "fireRadius.lng": "nan",
         "volcanicSigns": "nan",
         "evacuationNumber": "nan",
         "evacuationArea": "nan",
         "visibility": "nan",
         "airQuality": "nan",
         "_deepnote_index_column": 3
        },
        {
         "report_type": "flood",
         "flood_depth": 15,
         "points": 1,
         "structureFailure": "nan",
         "accessabilityFailure": "nan",
         "condition": "nan",
         "impact": "nan",
         "fireDistance": "nan",
         "fireLocation.lat": "nan",
         "fireLocation.lng": "nan",
         "personLocation.lat": "nan",
         "personLocation.lng": "nan",
         "fireRadius.lat": "nan",
         "fireRadius.lng": "nan",
         "volcanicSigns": "nan",
         "evacuationNumber": "nan",
         "evacuationArea": "nan",
         "visibility": "nan",
         "airQuality": "nan",
         "_deepnote_index_column": 4
        },
        {
         "report_type": "flood",
         "flood_depth": 60,
         "points": "nan",
         "structureFailure": "nan",
         "accessabilityFailure": "nan",
         "condition": "nan",
         "impact": "nan",
         "fireDistance": "nan",
         "fireLocation.lat": "nan",
         "fireLocation.lng": "nan",
         "personLocation.lat": "nan",
         "personLocation.lng": "nan",
         "fireRadius.lat": "nan",
         "fireRadius.lng": "nan",
         "volcanicSigns": "nan",
         "evacuationNumber": "nan",
         "evacuationArea": "nan",
         "visibility": "nan",
         "airQuality": "nan",
         "_deepnote_index_column": 5
        },
        {
         "report_type": "flood",
         "flood_depth": 39,
         "points": "nan",
         "structureFailure": "nan",
         "accessabilityFailure": "nan",
         "condition": "nan",
         "impact": "nan",
         "fireDistance": "nan",
         "fireLocation.lat": "nan",
         "fireLocation.lng": "nan",
         "personLocation.lat": "nan",
         "personLocation.lng": "nan",
         "fireRadius.lat": "nan",
         "fireRadius.lng": "nan",
         "volcanicSigns": "nan",
         "evacuationNumber": "nan",
         "evacuationArea": "nan",
         "visibility": "nan",
         "airQuality": "nan",
         "_deepnote_index_column": 6
        },
        {
         "report_type": "flood",
         "flood_depth": 36,
         "points": "nan",
         "structureFailure": "nan",
         "accessabilityFailure": "nan",
         "condition": "nan",
         "impact": "nan",
         "fireDistance": "nan",
         "fireLocation.lat": "nan",
         "fireLocation.lng": "nan",
         "personLocation.lat": "nan",
         "personLocation.lng": "nan",
         "fireRadius.lat": "nan",
         "fireRadius.lng": "nan",
         "volcanicSigns": "nan",
         "evacuationNumber": "nan",
         "evacuationArea": "nan",
         "visibility": "nan",
         "airQuality": "nan",
         "_deepnote_index_column": 7
        },
        {
         "report_type": "flood",
         "flood_depth": 79,
         "points": "nan",
         "structureFailure": "nan",
         "accessabilityFailure": "nan",
         "condition": "nan",
         "impact": "nan",
         "fireDistance": "nan",
         "fireLocation.lat": "nan",
         "fireLocation.lng": "nan",
         "personLocation.lat": "nan",
         "personLocation.lng": "nan",
         "fireRadius.lat": "nan",
         "fireRadius.lng": "nan",
         "volcanicSigns": "nan",
         "evacuationNumber": "nan",
         "evacuationArea": "nan",
         "visibility": "nan",
         "airQuality": "nan",
         "_deepnote_index_column": 8
        },
        {
         "report_type": "nan",
         "flood_depth": "nan",
         "points": "nan",
         "structureFailure": "nan",
         "accessabilityFailure": "nan",
         "condition": "nan",
         "impact": "nan",
         "fireDistance": "nan",
         "fireLocation.lat": "nan",
         "fireLocation.lng": "nan",
         "personLocation.lat": "nan",
         "personLocation.lng": "nan",
         "fireRadius.lat": "nan",
         "fireRadius.lng": "nan",
         "volcanicSigns": "nan",
         "evacuationNumber": "nan",
         "evacuationArea": "nan",
         "visibility": "nan",
         "airQuality": "nan",
         "_deepnote_index_column": 9
        }
       ]
      },
      "text/plain": "     report_type  flood_depth  points  structureFailure  accessabilityFailure  \\\n0          flood         30.0     NaN               NaN                   NaN   \n1          flood         80.0     1.0               NaN                   NaN   \n2          flood         51.0     1.0               NaN                   NaN   \n3          flood        100.0     2.0               NaN                   NaN   \n4          flood         15.0     1.0               NaN                   NaN   \n...          ...          ...     ...               ...                   ...   \n4230       flood        103.0     NaN               NaN                   NaN   \n4231       flood         54.0     NaN               NaN                   NaN   \n4232       flood         19.0     NaN               NaN                   NaN   \n4233         NaN          NaN     NaN               NaN                   NaN   \n4234       flood         22.0     NaN               NaN                   NaN   \n\n      condition  impact  fireDistance  fireLocation.lat  fireLocation.lng  \\\n0           NaN     NaN           NaN               NaN               NaN   \n1           NaN     NaN           NaN               NaN               NaN   \n2           NaN     NaN           NaN               NaN               NaN   \n3           NaN     NaN           NaN               NaN               NaN   \n4           NaN     NaN           NaN               NaN               NaN   \n...         ...     ...           ...               ...               ...   \n4230        NaN     NaN           NaN               NaN               NaN   \n4231        NaN     NaN           NaN               NaN               NaN   \n4232        NaN     NaN           NaN               NaN               NaN   \n4233        NaN     NaN           NaN               NaN               NaN   \n4234        NaN     NaN           NaN               NaN               NaN   \n\n      personLocation.lat  personLocation.lng  fireRadius.lat  fireRadius.lng  \\\n0                    NaN                 NaN             NaN             NaN   \n1                    NaN                 NaN             NaN             NaN   \n2                    NaN                 NaN             NaN             NaN   \n3                    NaN                 NaN             NaN             NaN   \n4                    NaN                 NaN             NaN             NaN   \n...                  ...                 ...             ...             ...   \n4230                 NaN                 NaN             NaN             NaN   \n4231                 NaN                 NaN             NaN             NaN   \n4232                 NaN                 NaN             NaN             NaN   \n4233                 NaN                 NaN             NaN             NaN   \n4234                 NaN                 NaN             NaN             NaN   \n\n     volcanicSigns  evacuationNumber evacuationArea  visibility  airQuality  \n0              NaN               NaN            NaN         NaN         NaN  \n1              NaN               NaN            NaN         NaN         NaN  \n2              NaN               NaN            NaN         NaN         NaN  \n3              NaN               NaN            NaN         NaN         NaN  \n4              NaN               NaN            NaN         NaN         NaN  \n...            ...               ...            ...         ...         ...  \n4230           NaN               NaN            NaN         NaN         NaN  \n4231           NaN               NaN            NaN         NaN         NaN  \n4232           NaN               NaN            NaN         NaN         NaN  \n4233           NaN               NaN            NaN         NaN         NaN  \n4234           NaN               NaN            NaN         NaN         NaN  \n\n[4235 rows x 19 columns]",
      "text/html": "<div>\n<style scoped>\n    .dataframe tbody tr th:only-of-type {\n        vertical-align: middle;\n    }\n\n    .dataframe tbody tr th {\n        vertical-align: top;\n    }\n\n    .dataframe thead th {\n        text-align: right;\n    }\n</style>\n<table border=\"1\" class=\"dataframe\">\n  <thead>\n    <tr style=\"text-align: right;\">\n      <th></th>\n      <th>report_type</th>\n      <th>flood_depth</th>\n      <th>points</th>\n      <th>structureFailure</th>\n      <th>accessabilityFailure</th>\n      <th>condition</th>\n      <th>impact</th>\n      <th>fireDistance</th>\n      <th>fireLocation.lat</th>\n      <th>fireLocation.lng</th>\n      <th>personLocation.lat</th>\n      <th>personLocation.lng</th>\n      <th>fireRadius.lat</th>\n      <th>fireRadius.lng</th>\n      <th>volcanicSigns</th>\n      <th>evacuationNumber</th>\n      <th>evacuationArea</th>\n      <th>visibility</th>\n      <th>airQuality</th>\n    </tr>\n  </thead>\n  <tbody>\n    <tr>\n      <th>0</th>\n      <td>flood</td>\n      <td>30.0</td>\n      <td>NaN</td>\n      <td>NaN</td>\n      <td>NaN</td>\n      <td>NaN</td>\n      <td>NaN</td>\n      <td>NaN</td>\n      <td>NaN</td>\n      <td>NaN</td>\n      <td>NaN</td>\n      <td>NaN</td>\n      <td>NaN</td>\n      <td>NaN</td>\n      <td>NaN</td>\n      <td>NaN</td>\n      <td>NaN</td>\n      <td>NaN</td>\n      <td>NaN</td>\n    </tr>\n    <tr>\n      <th>1</th>\n      <td>flood</td>\n      <td>80.0</td>\n      <td>1.0</td>\n      <td>NaN</td>\n      <td>NaN</td>\n      <td>NaN</td>\n      <td>NaN</td>\n      <td>NaN</td>\n      <td>NaN</td>\n      <td>NaN</td>\n      <td>NaN</td>\n      <td>NaN</td>\n      <td>NaN</td>\n      <td>NaN</td>\n      <td>NaN</td>\n      <td>NaN</td>\n      <td>NaN</td>\n      <td>NaN</td>\n      <td>NaN</td>\n    </tr>\n    <tr>\n      <th>2</th>\n      <td>flood</td>\n      <td>51.0</td>\n      <td>1.0</td>\n      <td>NaN</td>\n      <td>NaN</td>\n      <td>NaN</td>\n      <td>NaN</td>\n      <td>NaN</td>\n      <td>NaN</td>\n      <td>NaN</td>\n      <td>NaN</td>\n      <td>NaN</td>\n      <td>NaN</td>\n      <td>NaN</td>\n      <td>NaN</td>\n      <td>NaN</td>\n      <td>NaN</td>\n      <td>NaN</td>\n      <td>NaN</td>\n    </tr>\n    <tr>\n      <th>3</th>\n      <td>flood</td>\n      <td>100.0</td>\n      <td>2.0</td>\n      <td>NaN</td>\n      <td>NaN</td>\n      <td>NaN</td>\n      <td>NaN</td>\n      <td>NaN</td>\n      <td>NaN</td>\n      <td>NaN</td>\n      <td>NaN</td>\n      <td>NaN</td>\n      <td>NaN</td>\n      <td>NaN</td>\n      <td>NaN</td>\n      <td>NaN</td>\n      <td>NaN</td>\n      <td>NaN</td>\n      <td>NaN</td>\n    </tr>\n    <tr>\n      <th>4</th>\n      <td>flood</td>\n      <td>15.0</td>\n      <td>1.0</td>\n      <td>NaN</td>\n      <td>NaN</td>\n      <td>NaN</td>\n      <td>NaN</td>\n      <td>NaN</td>\n      <td>NaN</td>\n      <td>NaN</td>\n      <td>NaN</td>\n      <td>NaN</td>\n      <td>NaN</td>\n      <td>NaN</td>\n      <td>NaN</td>\n      <td>NaN</td>\n      <td>NaN</td>\n      <td>NaN</td>\n      <td>NaN</td>\n    </tr>\n    <tr>\n      <th>...</th>\n      <td>...</td>\n      <td>...</td>\n      <td>...</td>\n      <td>...</td>\n      <td>...</td>\n      <td>...</td>\n      <td>...</td>\n      <td>...</td>\n      <td>...</td>\n      <td>...</td>\n      <td>...</td>\n      <td>...</td>\n      <td>...</td>\n      <td>...</td>\n      <td>...</td>\n      <td>...</td>\n      <td>...</td>\n      <td>...</td>\n      <td>...</td>\n    </tr>\n    <tr>\n      <th>4230</th>\n      <td>flood</td>\n      <td>103.0</td>\n      <td>NaN</td>\n      <td>NaN</td>\n      <td>NaN</td>\n      <td>NaN</td>\n      <td>NaN</td>\n      <td>NaN</td>\n      <td>NaN</td>\n      <td>NaN</td>\n      <td>NaN</td>\n      <td>NaN</td>\n      <td>NaN</td>\n      <td>NaN</td>\n      <td>NaN</td>\n      <td>NaN</td>\n      <td>NaN</td>\n      <td>NaN</td>\n      <td>NaN</td>\n    </tr>\n    <tr>\n      <th>4231</th>\n      <td>flood</td>\n      <td>54.0</td>\n      <td>NaN</td>\n      <td>NaN</td>\n      <td>NaN</td>\n      <td>NaN</td>\n      <td>NaN</td>\n      <td>NaN</td>\n      <td>NaN</td>\n      <td>NaN</td>\n      <td>NaN</td>\n      <td>NaN</td>\n      <td>NaN</td>\n      <td>NaN</td>\n      <td>NaN</td>\n      <td>NaN</td>\n      <td>NaN</td>\n      <td>NaN</td>\n      <td>NaN</td>\n    </tr>\n    <tr>\n      <th>4232</th>\n      <td>flood</td>\n      <td>19.0</td>\n      <td>NaN</td>\n      <td>NaN</td>\n      <td>NaN</td>\n      <td>NaN</td>\n      <td>NaN</td>\n      <td>NaN</td>\n      <td>NaN</td>\n      <td>NaN</td>\n      <td>NaN</td>\n      <td>NaN</td>\n      <td>NaN</td>\n      <td>NaN</td>\n      <td>NaN</td>\n      <td>NaN</td>\n      <td>NaN</td>\n      <td>NaN</td>\n      <td>NaN</td>\n    </tr>\n    <tr>\n      <th>4233</th>\n      <td>NaN</td>\n      <td>NaN</td>\n      <td>NaN</td>\n      <td>NaN</td>\n      <td>NaN</td>\n      <td>NaN</td>\n      <td>NaN</td>\n      <td>NaN</td>\n      <td>NaN</td>\n      <td>NaN</td>\n      <td>NaN</td>\n      <td>NaN</td>\n      <td>NaN</td>\n      <td>NaN</td>\n      <td>NaN</td>\n      <td>NaN</td>\n      <td>NaN</td>\n      <td>NaN</td>\n      <td>NaN</td>\n    </tr>\n    <tr>\n      <th>4234</th>\n      <td>flood</td>\n      <td>22.0</td>\n      <td>NaN</td>\n      <td>NaN</td>\n      <td>NaN</td>\n      <td>NaN</td>\n      <td>NaN</td>\n      <td>NaN</td>\n      <td>NaN</td>\n      <td>NaN</td>\n      <td>NaN</td>\n      <td>NaN</td>\n      <td>NaN</td>\n      <td>NaN</td>\n      <td>NaN</td>\n      <td>NaN</td>\n      <td>NaN</td>\n      <td>NaN</td>\n      <td>NaN</td>\n    </tr>\n  </tbody>\n</table>\n<p>4235 rows × 19 columns</p>\n</div>"
     },
     "metadata": {}
    }
   ]
  },
  {
   "cell_type": "code",
   "metadata": {
    "tags": [],
    "deepnote_to_be_reexecuted": false,
    "source_hash": "cada86a7",
    "execution_start": 1661021804522,
    "execution_millis": 75826,
    "cell_id": "00015-5d633b6c-f5af-47c3-942a-f0ed86fe8ebc",
    "deepnote_cell_type": "code",
    "deepnote_cell_height": 131.375,
    "deepnote_output_heights": [
     39.390625
    ]
   },
   "source": "report['report_type'].unique()",
   "execution_count": 9,
   "outputs": [
    {
     "output_type": "execute_result",
     "execution_count": 9,
     "data": {
      "text/plain": "array(['flood', nan, 'structure', 'road', 'wind', 'fire', 'volcano',\n       'haze'], dtype=object)"
     },
     "metadata": {}
    }
   ]
  },
  {
   "cell_type": "code",
   "metadata": {
    "id": "G5Ufn3ycLBCU",
    "deepnote_to_be_reexecuted": false,
    "source_hash": "af9dc3a0",
    "execution_start": 1661021804570,
    "execution_millis": 10,
    "cell_id": "00016-b3d44e6d-f4fa-496d-8c02-35377b60dc6b",
    "deepnote_cell_type": "code",
    "deepnote_cell_height": 171
   },
   "source": "# replace disaster type with a number value\n# 1 -> flood, 2-> earthquake, 3 -> wind, 4 -> fire, 5 -> volcano, 6 -> haze\ndf['disaster_type'].replace(['flood', 'earthquake', 'wind', 'fire', 'volcano', 'haze'], [1, 2, 3, 4, 5, 6], inplace=True)\n#replace also report table\n# 1 -> flood, 2-> structure, 3 -> road 4 -> wind, 5 -> fire, 6 -> volcano, 7 -> haze\nreport['report_type'].replace(['flood', 'structure', 'road', 'wind', 'fire', 'volcano', 'haze'], [1, 2, 3, 4, 5, 6, 7], inplace=True)",
   "execution_count": 10,
   "outputs": []
  },
  {
   "cell_type": "code",
   "metadata": {
    "tags": [],
    "deepnote_to_be_reexecuted": false,
    "source_hash": "2224c0e9",
    "execution_start": 1661021804571,
    "execution_millis": 41,
    "cell_id": "00017-a075b914-4af9-4ed4-909c-be878941d79b",
    "deepnote_cell_type": "code",
    "deepnote_cell_height": 325
   },
   "source": "df.sample(3)",
   "execution_count": 11,
   "outputs": [
    {
     "output_type": "execute_result",
     "execution_count": 11,
     "data": {
      "application/vnd.deepnote.dataframe.v3+json": {
       "column_count": 21,
       "row_count": 3,
       "columns": [
        {
         "name": "pkey",
         "dtype": "int64",
         "stats": {
          "unique_count": 3,
          "nan_count": 0,
          "min": "109135",
          "max": "285589",
          "histogram": [
           {
            "bin_start": 109135,
            "bin_end": 126780.4,
            "count": 1
           },
           {
            "bin_start": 126780.4,
            "bin_end": 144425.8,
            "count": 0
           },
           {
            "bin_start": 144425.8,
            "bin_end": 162071.2,
            "count": 0
           },
           {
            "bin_start": 162071.2,
            "bin_end": 179716.6,
            "count": 0
           },
           {
            "bin_start": 179716.6,
            "bin_end": 197362,
            "count": 0
           },
           {
            "bin_start": 197362,
            "bin_end": 215007.40000000002,
            "count": 0
           },
           {
            "bin_start": 215007.40000000002,
            "bin_end": 232652.80000000002,
            "count": 0
           },
           {
            "bin_start": 232652.80000000002,
            "bin_end": 250298.2,
            "count": 0
           },
           {
            "bin_start": 250298.2,
            "bin_end": 267943.6,
            "count": 0
           },
           {
            "bin_start": 267943.6,
            "bin_end": 285589,
            "count": 2
           }
          ]
         }
        },
        {
         "name": "date",
         "dtype": "object",
         "stats": {
          "unique_count": 3,
          "nan_count": 0,
          "categories": [
           {
            "name": "25/02/2020",
            "count": 1
           },
           {
            "name": "05/04/2021",
            "count": 1
           },
           {
            "name": "08/04/2021",
            "count": 1
           }
          ]
         }
        },
        {
         "name": "time",
         "dtype": "object",
         "stats": {
          "unique_count": 3,
          "nan_count": 0,
          "categories": [
           {
            "name": "0",
            "count": 1
           },
           {
            "name": "3:57:19",
            "count": 1
           },
           {
            "name": "3:38:00",
            "count": 1
           }
          ]
         }
        },
        {
         "name": "source",
         "dtype": "object",
         "stats": {
          "unique_count": 1,
          "nan_count": 0,
          "categories": [
           {
            "name": "grasp",
            "count": 3
           }
          ]
         }
        },
        {
         "name": "status",
         "dtype": "object",
         "stats": {
          "unique_count": 1,
          "nan_count": 0,
          "categories": [
           {
            "name": "confirmed",
            "count": 3
           }
          ]
         }
        },
        {
         "name": "url",
         "dtype": "object",
         "stats": {
          "unique_count": 3,
          "nan_count": 0,
          "categories": [
           {
            "name": "0fe48305-92f7-40e1-837e-4b46b62d749f",
            "count": 1
           },
           {
            "name": "4044f955-7250-439e-bbf2-87091d25c77b",
            "count": 1
           },
           {
            "name": "6b6b7ec1-ece6-4416-9c52-287e121cb691",
            "count": 1
           }
          ]
         }
        },
        {
         "name": "image_url",
         "dtype": "object",
         "stats": {
          "unique_count": 2,
          "nan_count": 1,
          "categories": [
           {
            "name": "https://images.petabencana.id/4044f955-7250-439e-bbf2-87091d25c77b.jpg",
            "count": 1
           },
           {
            "name": "https://images.petabencana.id/6b6b7ec1-ece6-4416-9c52-287e121cb691.jpg",
            "count": 1
           },
           {
            "name": "Missing",
            "count": 1
           }
          ]
         }
        },
        {
         "name": "disaster_type",
         "dtype": "int64",
         "stats": {
          "unique_count": 1,
          "nan_count": 0,
          "min": "1",
          "max": "1",
          "histogram": [
           {
            "bin_start": 0.5,
            "bin_end": 0.6,
            "count": 0
           },
           {
            "bin_start": 0.6,
            "bin_end": 0.7,
            "count": 0
           },
           {
            "bin_start": 0.7,
            "bin_end": 0.8,
            "count": 0
           },
           {
            "bin_start": 0.8,
            "bin_end": 0.9,
            "count": 0
           },
           {
            "bin_start": 0.9,
            "bin_end": 1,
            "count": 0
           },
           {
            "bin_start": 1,
            "bin_end": 1.1,
            "count": 3
           },
           {
            "bin_start": 1.1,
            "bin_end": 1.2000000000000002,
            "count": 0
           },
           {
            "bin_start": 1.2000000000000002,
            "bin_end": 1.3,
            "count": 0
           },
           {
            "bin_start": 1.3,
            "bin_end": 1.4,
            "count": 0
           },
           {
            "bin_start": 1.4,
            "bin_end": 1.5,
            "count": 0
           }
          ]
         }
        },
        {
         "name": "report_dat",
         "dtype": "object",
         "stats": {
          "unique_count": 3,
          "nan_count": 0,
          "categories": [
           {
            "name": "{ \"report_type\": \"flood\", \"flood_depth\": 131 }",
            "count": 1
           },
           {
            "name": "{ \"points\": 1, \"flood_depth\": 199, \"report_type\": \"flood\" }",
            "count": 1
           },
           {
            "name": "{ \"report_type\": \"flood\", \"flood_depth\": 44 }",
            "count": 1
           }
          ]
         }
        },
        {
         "name": "tags",
         "dtype": "object",
         "stats": {
          "unique_count": 2,
          "nan_count": 0,
          "categories": [
           {
            "name": "{ \"district_id\": null, \"local_area_id\": null, \"instance_region_code\": \"ID-NT\" }",
            "count": 2
           },
           {
            "name": "{ \"district_id\": null, \"local_area_id\": null, \"instance_region_code\": \"ID-JB\" }",
            "count": 1
           }
          ]
         }
        },
        {
         "name": "title",
         "dtype": "object",
         "stats": {
          "unique_count": 0,
          "nan_count": 3,
          "categories": [
           {
            "name": "Missing",
            "count": 3
           }
          ]
         }
        },
        {
         "name": "ID_Desa",
         "dtype": "float64",
         "stats": {
          "unique_count": 3,
          "nan_count": 0,
          "min": "3275020005.0",
          "max": "5307030004.0",
          "histogram": [
           {
            "bin_start": 3275020005,
            "bin_end": 3478221004.9,
            "count": 1
           },
           {
            "bin_start": 3478221004.9,
            "bin_end": 3681422004.8,
            "count": 0
           },
           {
            "bin_start": 3681422004.8,
            "bin_end": 3884623004.7,
            "count": 0
           },
           {
            "bin_start": 3884623004.7,
            "bin_end": 4087824004.6,
            "count": 0
           },
           {
            "bin_start": 4087824004.6,
            "bin_end": 4291025004.5,
            "count": 0
           },
           {
            "bin_start": 4291025004.5,
            "bin_end": 4494226004.4,
            "count": 0
           },
           {
            "bin_start": 4494226004.4,
            "bin_end": 4697427004.3,
            "count": 0
           },
           {
            "bin_start": 4697427004.3,
            "bin_end": 4900628004.2,
            "count": 0
           },
           {
            "bin_start": 4900628004.2,
            "bin_end": 5103829004.1,
            "count": 0
           },
           {
            "bin_start": 5103829004.1,
            "bin_end": 5307030004,
            "count": 2
           }
          ]
         }
        },
        {
         "name": "ID_Kec",
         "dtype": "float64",
         "stats": {
          "unique_count": 3,
          "nan_count": 0,
          "min": "3275020.0",
          "max": "5307030.0",
          "histogram": [
           {
            "bin_start": 3275020,
            "bin_end": 3478221,
            "count": 1
           },
           {
            "bin_start": 3478221,
            "bin_end": 3681422,
            "count": 0
           },
           {
            "bin_start": 3681422,
            "bin_end": 3884623,
            "count": 0
           },
           {
            "bin_start": 3884623,
            "bin_end": 4087824,
            "count": 0
           },
           {
            "bin_start": 4087824,
            "bin_end": 4291025,
            "count": 0
           },
           {
            "bin_start": 4291025,
            "bin_end": 4494226,
            "count": 0
           },
           {
            "bin_start": 4494226,
            "bin_end": 4697427,
            "count": 0
           },
           {
            "bin_start": 4697427,
            "bin_end": 4900628,
            "count": 0
           },
           {
            "bin_start": 4900628,
            "bin_end": 5103829,
            "count": 0
           },
           {
            "bin_start": 5103829,
            "bin_end": 5307030,
            "count": 2
           }
          ]
         }
        },
        {
         "name": "ID_Kab",
         "dtype": "float64",
         "stats": {
          "unique_count": 3,
          "nan_count": 0,
          "min": "3275.0",
          "max": "5307.0",
          "histogram": [
           {
            "bin_start": 3275,
            "bin_end": 3478.2,
            "count": 1
           },
           {
            "bin_start": 3478.2,
            "bin_end": 3681.4,
            "count": 0
           },
           {
            "bin_start": 3681.4,
            "bin_end": 3884.6,
            "count": 0
           },
           {
            "bin_start": 3884.6,
            "bin_end": 4087.8,
            "count": 0
           },
           {
            "bin_start": 4087.8,
            "bin_end": 4291,
            "count": 0
           },
           {
            "bin_start": 4291,
            "bin_end": 4494.2,
            "count": 0
           },
           {
            "bin_start": 4494.2,
            "bin_end": 4697.4,
            "count": 0
           },
           {
            "bin_start": 4697.4,
            "bin_end": 4900.6,
            "count": 0
           },
           {
            "bin_start": 4900.6,
            "bin_end": 5103.8,
            "count": 0
           },
           {
            "bin_start": 5103.8,
            "bin_end": 5307,
            "count": 2
           }
          ]
         }
        },
        {
         "name": "ID_Prov",
         "dtype": "float64",
         "stats": {
          "unique_count": 2,
          "nan_count": 0,
          "min": "32.0",
          "max": "53.0",
          "histogram": [
           {
            "bin_start": 32,
            "bin_end": 34.1,
            "count": 1
           },
           {
            "bin_start": 34.1,
            "bin_end": 36.2,
            "count": 0
           },
           {
            "bin_start": 36.2,
            "bin_end": 38.3,
            "count": 0
           },
           {
            "bin_start": 38.3,
            "bin_end": 40.4,
            "count": 0
           },
           {
            "bin_start": 40.4,
            "bin_end": 42.5,
            "count": 0
           },
           {
            "bin_start": 42.5,
            "bin_end": 44.6,
            "count": 0
           },
           {
            "bin_start": 44.6,
            "bin_end": 46.7,
            "count": 0
           },
           {
            "bin_start": 46.7,
            "bin_end": 48.8,
            "count": 0
           },
           {
            "bin_start": 48.8,
            "bin_end": 50.900000000000006,
            "count": 0
           },
           {
            "bin_start": 50.900000000000006,
            "bin_end": 53,
            "count": 2
           }
          ]
         }
        },
        {
         "name": "Desa",
         "dtype": "object",
         "stats": {
          "unique_count": 3,
          "nan_count": 0,
          "categories": [
           {
            "name": "Jatimekar",
            "count": 1
           },
           {
            "name": "Maidang",
            "count": 1
           },
           {
            "name": "Kiraman",
            "count": 1
           }
          ]
         }
        },
        {
         "name": "Kecamatan",
         "dtype": "object",
         "stats": {
          "unique_count": 3,
          "nan_count": 0,
          "categories": [
           {
            "name": "Jatiasih",
            "count": 1
           },
           {
            "name": "Kambata Mapambuhang",
            "count": 1
           },
           {
            "name": "Alor Selatan",
            "count": 1
           }
          ]
         }
        },
        {
         "name": "Kabupaten",
         "dtype": "object",
         "stats": {
          "unique_count": 3,
          "nan_count": 0,
          "categories": [
           {
            "name": "Bekasi",
            "count": 1
           },
           {
            "name": "Sumba Timur",
            "count": 1
           },
           {
            "name": "Alor",
            "count": 1
           }
          ]
         }
        },
        {
         "name": "Provinsi",
         "dtype": "object",
         "stats": {
          "unique_count": 2,
          "nan_count": 0,
          "categories": [
           {
            "name": "Nusa Tenggara Timur",
            "count": 2
           },
           {
            "name": "Jawa Barat",
            "count": 1
           }
          ]
         }
        },
        {
         "name": "long",
         "dtype": "object",
         "stats": {
          "unique_count": 3,
          "nan_count": 0,
          "categories": [
           {
            "name": "10.695.170",
            "count": 1
           },
           {
            "name": "12.015.241",
            "count": 1
           },
           {
            "name": "12.476.083",
            "count": 1
           }
          ]
         }
        },
        {
         "name": "lat",
         "dtype": "object",
         "stats": {
          "unique_count": 3,
          "nan_count": 0,
          "categories": [
           {
            "name": "-628.701",
            "count": 1
           },
           {
            "name": "-979.553",
            "count": 1
           },
           {
            "name": "-838.509",
            "count": 1
           }
          ]
         }
        },
        {
         "name": "_deepnote_index_column",
         "dtype": "int64"
        }
       ],
       "rows": [
        {
         "pkey": 109135,
         "date": "25/02/2020",
         "time": "0",
         "source": "grasp",
         "status": "confirmed",
         "url": "0fe48305-92f7-40e1-837e-4b46b62d749f",
         "image_url": "nan",
         "disaster_type": 1,
         "report_dat": "{ \"report_type\": \"flood\", \"flood_depth\": 131 }",
         "tags": "{ \"district_id\": null, \"local_area_id\": null, \"instance_region_code\": \"ID-JB\" }",
         "title": "nan",
         "ID_Desa": 3275020005,
         "ID_Kec": 3275020,
         "ID_Kab": 3275,
         "ID_Prov": 32,
         "Desa": "Jatimekar",
         "Kecamatan": "Jatiasih",
         "Kabupaten": "Bekasi",
         "Provinsi": "Jawa Barat",
         "long": "10.695.170",
         "lat": "-628.701",
         "_deepnote_index_column": 1616
        },
        {
         "pkey": 285529,
         "date": "05/04/2021",
         "time": "3:57:19",
         "source": "grasp",
         "status": "confirmed",
         "url": "4044f955-7250-439e-bbf2-87091d25c77b",
         "image_url": "https://images.petabencana.id/4044f955-7250-439e-bbf2-87091d25c77b.jpg",
         "disaster_type": 1,
         "report_dat": "{ \"points\": 1, \"flood_depth\": 199, \"report_type\": \"flood\" }",
         "tags": "{ \"district_id\": null, \"local_area_id\": null, \"instance_region_code\": \"ID-NT\" }",
         "title": "nan",
         "ID_Desa": 5302061004,
         "ID_Kec": 5302061,
         "ID_Kab": 5302,
         "ID_Prov": 53,
         "Desa": "Maidang",
         "Kecamatan": "Kambata Mapambuhang",
         "Kabupaten": "Sumba Timur",
         "Provinsi": "Nusa Tenggara Timur",
         "long": "12.015.241",
         "lat": "-979.553",
         "_deepnote_index_column": 3701
        },
        {
         "pkey": 285589,
         "date": "08/04/2021",
         "time": "3:38:00",
         "source": "grasp",
         "status": "confirmed",
         "url": "6b6b7ec1-ece6-4416-9c52-287e121cb691",
         "image_url": "https://images.petabencana.id/6b6b7ec1-ece6-4416-9c52-287e121cb691.jpg",
         "disaster_type": 1,
         "report_dat": "{ \"report_type\": \"flood\", \"flood_depth\": 44 }",
         "tags": "{ \"district_id\": null, \"local_area_id\": null, \"instance_region_code\": \"ID-NT\" }",
         "title": "nan",
         "ID_Desa": 5307030004,
         "ID_Kec": 5307030,
         "ID_Kab": 5307,
         "ID_Prov": 53,
         "Desa": "Kiraman",
         "Kecamatan": "Alor Selatan",
         "Kabupaten": "Alor",
         "Provinsi": "Nusa Tenggara Timur",
         "long": "12.476.083",
         "lat": "-838.509",
         "_deepnote_index_column": 3710
        }
       ]
      },
      "text/plain": "        pkey        date     time source     status  \\\n1616  109135  25/02/2020        0  grasp  confirmed   \n3701  285529  05/04/2021  3:57:19  grasp  confirmed   \n3710  285589  08/04/2021  3:38:00  grasp  confirmed   \n\n                                       url  \\\n1616  0fe48305-92f7-40e1-837e-4b46b62d749f   \n3701  4044f955-7250-439e-bbf2-87091d25c77b   \n3710  6b6b7ec1-ece6-4416-9c52-287e121cb691   \n\n                                              image_url  disaster_type  \\\n1616                                                NaN              1   \n3701  https://images.petabencana.id/4044f955-7250-43...              1   \n3710  https://images.petabencana.id/6b6b7ec1-ece6-44...              1   \n\n                                             report_dat  \\\n1616     { \"report_type\": \"flood\", \"flood_depth\": 131 }   \n3701  { \"points\": 1, \"flood_depth\": 199, \"report_typ...   \n3710      { \"report_type\": \"flood\", \"flood_depth\": 44 }   \n\n                                                   tags  ...       ID_Desa  \\\n1616  { \"district_id\": null, \"local_area_id\": null, ...  ...  3.275020e+09   \n3701  { \"district_id\": null, \"local_area_id\": null, ...  ...  5.302061e+09   \n3710  { \"district_id\": null, \"local_area_id\": null, ...  ...  5.307030e+09   \n\n         ID_Kec  ID_Kab  ID_Prov       Desa            Kecamatan    Kabupaten  \\\n1616  3275020.0  3275.0     32.0  Jatimekar             Jatiasih       Bekasi   \n3701  5302061.0  5302.0     53.0    Maidang  Kambata Mapambuhang  Sumba Timur   \n3710  5307030.0  5307.0     53.0    Kiraman         Alor Selatan         Alor   \n\n                 Provinsi        long       lat  \n1616           Jawa Barat  10.695.170  -628.701  \n3701  Nusa Tenggara Timur  12.015.241  -979.553  \n3710  Nusa Tenggara Timur  12.476.083  -838.509  \n\n[3 rows x 21 columns]",
      "text/html": "<div>\n<style scoped>\n    .dataframe tbody tr th:only-of-type {\n        vertical-align: middle;\n    }\n\n    .dataframe tbody tr th {\n        vertical-align: top;\n    }\n\n    .dataframe thead th {\n        text-align: right;\n    }\n</style>\n<table border=\"1\" class=\"dataframe\">\n  <thead>\n    <tr style=\"text-align: right;\">\n      <th></th>\n      <th>pkey</th>\n      <th>date</th>\n      <th>time</th>\n      <th>source</th>\n      <th>status</th>\n      <th>url</th>\n      <th>image_url</th>\n      <th>disaster_type</th>\n      <th>report_dat</th>\n      <th>tags</th>\n      <th>...</th>\n      <th>ID_Desa</th>\n      <th>ID_Kec</th>\n      <th>ID_Kab</th>\n      <th>ID_Prov</th>\n      <th>Desa</th>\n      <th>Kecamatan</th>\n      <th>Kabupaten</th>\n      <th>Provinsi</th>\n      <th>long</th>\n      <th>lat</th>\n    </tr>\n  </thead>\n  <tbody>\n    <tr>\n      <th>1616</th>\n      <td>109135</td>\n      <td>25/02/2020</td>\n      <td>0</td>\n      <td>grasp</td>\n      <td>confirmed</td>\n      <td>0fe48305-92f7-40e1-837e-4b46b62d749f</td>\n      <td>NaN</td>\n      <td>1</td>\n      <td>{ \"report_type\": \"flood\", \"flood_depth\": 131 }</td>\n      <td>{ \"district_id\": null, \"local_area_id\": null, ...</td>\n      <td>...</td>\n      <td>3.275020e+09</td>\n      <td>3275020.0</td>\n      <td>3275.0</td>\n      <td>32.0</td>\n      <td>Jatimekar</td>\n      <td>Jatiasih</td>\n      <td>Bekasi</td>\n      <td>Jawa Barat</td>\n      <td>10.695.170</td>\n      <td>-628.701</td>\n    </tr>\n    <tr>\n      <th>3701</th>\n      <td>285529</td>\n      <td>05/04/2021</td>\n      <td>3:57:19</td>\n      <td>grasp</td>\n      <td>confirmed</td>\n      <td>4044f955-7250-439e-bbf2-87091d25c77b</td>\n      <td>https://images.petabencana.id/4044f955-7250-43...</td>\n      <td>1</td>\n      <td>{ \"points\": 1, \"flood_depth\": 199, \"report_typ...</td>\n      <td>{ \"district_id\": null, \"local_area_id\": null, ...</td>\n      <td>...</td>\n      <td>5.302061e+09</td>\n      <td>5302061.0</td>\n      <td>5302.0</td>\n      <td>53.0</td>\n      <td>Maidang</td>\n      <td>Kambata Mapambuhang</td>\n      <td>Sumba Timur</td>\n      <td>Nusa Tenggara Timur</td>\n      <td>12.015.241</td>\n      <td>-979.553</td>\n    </tr>\n    <tr>\n      <th>3710</th>\n      <td>285589</td>\n      <td>08/04/2021</td>\n      <td>3:38:00</td>\n      <td>grasp</td>\n      <td>confirmed</td>\n      <td>6b6b7ec1-ece6-4416-9c52-287e121cb691</td>\n      <td>https://images.petabencana.id/6b6b7ec1-ece6-44...</td>\n      <td>1</td>\n      <td>{ \"report_type\": \"flood\", \"flood_depth\": 44 }</td>\n      <td>{ \"district_id\": null, \"local_area_id\": null, ...</td>\n      <td>...</td>\n      <td>5.307030e+09</td>\n      <td>5307030.0</td>\n      <td>5307.0</td>\n      <td>53.0</td>\n      <td>Kiraman</td>\n      <td>Alor Selatan</td>\n      <td>Alor</td>\n      <td>Nusa Tenggara Timur</td>\n      <td>12.476.083</td>\n      <td>-838.509</td>\n    </tr>\n  </tbody>\n</table>\n<p>3 rows × 21 columns</p>\n</div>"
     },
     "metadata": {}
    }
   ]
  },
  {
   "cell_type": "code",
   "metadata": {
    "tags": [],
    "deepnote_to_be_reexecuted": false,
    "source_hash": "96c5af1e",
    "execution_start": 1661021804614,
    "execution_millis": 65,
    "deepnote_table_state": {
     "pageSize": 10,
     "pageIndex": 1,
     "filters": [],
     "sortBy": []
    },
    "deepnote_table_loading": false,
    "cell_id": "00018-bdb70b0b-7ac0-47f3-932d-14e46a9982ad",
    "deepnote_cell_type": "code",
    "deepnote_cell_height": 347.796875
   },
   "source": "report.sample(3)\n#irrelevant : personLocation.lat, personLocation.lang, fireRadius.lat, fireRadius.lng, visibility, airQuality, evacuationNumber, vol",
   "execution_count": 12,
   "outputs": [
    {
     "output_type": "execute_result",
     "execution_count": 12,
     "data": {
      "application/vnd.deepnote.dataframe.v3+json": {
       "column_count": 19,
       "row_count": 3,
       "columns": [
        {
         "name": "report_type",
         "dtype": "float64",
         "stats": {
          "unique_count": 1,
          "nan_count": 0,
          "min": "1.0",
          "max": "1.0",
          "histogram": [
           {
            "bin_start": 0.5,
            "bin_end": 0.6,
            "count": 0
           },
           {
            "bin_start": 0.6,
            "bin_end": 0.7,
            "count": 0
           },
           {
            "bin_start": 0.7,
            "bin_end": 0.8,
            "count": 0
           },
           {
            "bin_start": 0.8,
            "bin_end": 0.9,
            "count": 0
           },
           {
            "bin_start": 0.9,
            "bin_end": 1,
            "count": 0
           },
           {
            "bin_start": 1,
            "bin_end": 1.1,
            "count": 3
           },
           {
            "bin_start": 1.1,
            "bin_end": 1.2000000000000002,
            "count": 0
           },
           {
            "bin_start": 1.2000000000000002,
            "bin_end": 1.3,
            "count": 0
           },
           {
            "bin_start": 1.3,
            "bin_end": 1.4,
            "count": 0
           },
           {
            "bin_start": 1.4,
            "bin_end": 1.5,
            "count": 0
           }
          ]
         }
        },
        {
         "name": "flood_depth",
         "dtype": "float64",
         "stats": {
          "unique_count": 3,
          "nan_count": 0,
          "min": "24.0",
          "max": "50.0",
          "histogram": [
           {
            "bin_start": 24,
            "bin_end": 26.6,
            "count": 1
           },
           {
            "bin_start": 26.6,
            "bin_end": 29.2,
            "count": 0
           },
           {
            "bin_start": 29.2,
            "bin_end": 31.8,
            "count": 0
           },
           {
            "bin_start": 31.8,
            "bin_end": 34.4,
            "count": 0
           },
           {
            "bin_start": 34.4,
            "bin_end": 37,
            "count": 0
           },
           {
            "bin_start": 37,
            "bin_end": 39.6,
            "count": 0
           },
           {
            "bin_start": 39.6,
            "bin_end": 42.2,
            "count": 0
           },
           {
            "bin_start": 42.2,
            "bin_end": 44.8,
            "count": 0
           },
           {
            "bin_start": 44.8,
            "bin_end": 47.400000000000006,
            "count": 1
           },
           {
            "bin_start": 47.400000000000006,
            "bin_end": 50,
            "count": 1
           }
          ]
         }
        },
        {
         "name": "points",
         "dtype": "float64",
         "stats": {
          "unique_count": 0,
          "nan_count": 3,
          "min": null,
          "max": null,
          "histogram": [
           {
            "bin_start": 0,
            "bin_end": 0.1,
            "count": 0
           },
           {
            "bin_start": 0.1,
            "bin_end": 0.2,
            "count": 0
           },
           {
            "bin_start": 0.2,
            "bin_end": 0.30000000000000004,
            "count": 0
           },
           {
            "bin_start": 0.30000000000000004,
            "bin_end": 0.4,
            "count": 0
           },
           {
            "bin_start": 0.4,
            "bin_end": 0.5,
            "count": 0
           },
           {
            "bin_start": 0.5,
            "bin_end": 0.6000000000000001,
            "count": 0
           },
           {
            "bin_start": 0.6000000000000001,
            "bin_end": 0.7000000000000001,
            "count": 0
           },
           {
            "bin_start": 0.7000000000000001,
            "bin_end": 0.8,
            "count": 0
           },
           {
            "bin_start": 0.8,
            "bin_end": 0.9,
            "count": 0
           },
           {
            "bin_start": 0.9,
            "bin_end": 1,
            "count": 0
           }
          ]
         }
        },
        {
         "name": "structureFailure",
         "dtype": "float64",
         "stats": {
          "unique_count": 0,
          "nan_count": 3,
          "min": null,
          "max": null,
          "histogram": [
           {
            "bin_start": 0,
            "bin_end": 0.1,
            "count": 0
           },
           {
            "bin_start": 0.1,
            "bin_end": 0.2,
            "count": 0
           },
           {
            "bin_start": 0.2,
            "bin_end": 0.30000000000000004,
            "count": 0
           },
           {
            "bin_start": 0.30000000000000004,
            "bin_end": 0.4,
            "count": 0
           },
           {
            "bin_start": 0.4,
            "bin_end": 0.5,
            "count": 0
           },
           {
            "bin_start": 0.5,
            "bin_end": 0.6000000000000001,
            "count": 0
           },
           {
            "bin_start": 0.6000000000000001,
            "bin_end": 0.7000000000000001,
            "count": 0
           },
           {
            "bin_start": 0.7000000000000001,
            "bin_end": 0.8,
            "count": 0
           },
           {
            "bin_start": 0.8,
            "bin_end": 0.9,
            "count": 0
           },
           {
            "bin_start": 0.9,
            "bin_end": 1,
            "count": 0
           }
          ]
         }
        },
        {
         "name": "accessabilityFailure",
         "dtype": "float64",
         "stats": {
          "unique_count": 0,
          "nan_count": 3,
          "min": null,
          "max": null,
          "histogram": [
           {
            "bin_start": 0,
            "bin_end": 0.1,
            "count": 0
           },
           {
            "bin_start": 0.1,
            "bin_end": 0.2,
            "count": 0
           },
           {
            "bin_start": 0.2,
            "bin_end": 0.30000000000000004,
            "count": 0
           },
           {
            "bin_start": 0.30000000000000004,
            "bin_end": 0.4,
            "count": 0
           },
           {
            "bin_start": 0.4,
            "bin_end": 0.5,
            "count": 0
           },
           {
            "bin_start": 0.5,
            "bin_end": 0.6000000000000001,
            "count": 0
           },
           {
            "bin_start": 0.6000000000000001,
            "bin_end": 0.7000000000000001,
            "count": 0
           },
           {
            "bin_start": 0.7000000000000001,
            "bin_end": 0.8,
            "count": 0
           },
           {
            "bin_start": 0.8,
            "bin_end": 0.9,
            "count": 0
           },
           {
            "bin_start": 0.9,
            "bin_end": 1,
            "count": 0
           }
          ]
         }
        },
        {
         "name": "condition",
         "dtype": "float64",
         "stats": {
          "unique_count": 0,
          "nan_count": 3,
          "min": null,
          "max": null,
          "histogram": [
           {
            "bin_start": 0,
            "bin_end": 0.1,
            "count": 0
           },
           {
            "bin_start": 0.1,
            "bin_end": 0.2,
            "count": 0
           },
           {
            "bin_start": 0.2,
            "bin_end": 0.30000000000000004,
            "count": 0
           },
           {
            "bin_start": 0.30000000000000004,
            "bin_end": 0.4,
            "count": 0
           },
           {
            "bin_start": 0.4,
            "bin_end": 0.5,
            "count": 0
           },
           {
            "bin_start": 0.5,
            "bin_end": 0.6000000000000001,
            "count": 0
           },
           {
            "bin_start": 0.6000000000000001,
            "bin_end": 0.7000000000000001,
            "count": 0
           },
           {
            "bin_start": 0.7000000000000001,
            "bin_end": 0.8,
            "count": 0
           },
           {
            "bin_start": 0.8,
            "bin_end": 0.9,
            "count": 0
           },
           {
            "bin_start": 0.9,
            "bin_end": 1,
            "count": 0
           }
          ]
         }
        },
        {
         "name": "impact",
         "dtype": "float64",
         "stats": {
          "unique_count": 0,
          "nan_count": 3,
          "min": null,
          "max": null,
          "histogram": [
           {
            "bin_start": 0,
            "bin_end": 0.1,
            "count": 0
           },
           {
            "bin_start": 0.1,
            "bin_end": 0.2,
            "count": 0
           },
           {
            "bin_start": 0.2,
            "bin_end": 0.30000000000000004,
            "count": 0
           },
           {
            "bin_start": 0.30000000000000004,
            "bin_end": 0.4,
            "count": 0
           },
           {
            "bin_start": 0.4,
            "bin_end": 0.5,
            "count": 0
           },
           {
            "bin_start": 0.5,
            "bin_end": 0.6000000000000001,
            "count": 0
           },
           {
            "bin_start": 0.6000000000000001,
            "bin_end": 0.7000000000000001,
            "count": 0
           },
           {
            "bin_start": 0.7000000000000001,
            "bin_end": 0.8,
            "count": 0
           },
           {
            "bin_start": 0.8,
            "bin_end": 0.9,
            "count": 0
           },
           {
            "bin_start": 0.9,
            "bin_end": 1,
            "count": 0
           }
          ]
         }
        },
        {
         "name": "fireDistance",
         "dtype": "float64",
         "stats": {
          "unique_count": 0,
          "nan_count": 3,
          "min": null,
          "max": null,
          "histogram": [
           {
            "bin_start": 0,
            "bin_end": 0.1,
            "count": 0
           },
           {
            "bin_start": 0.1,
            "bin_end": 0.2,
            "count": 0
           },
           {
            "bin_start": 0.2,
            "bin_end": 0.30000000000000004,
            "count": 0
           },
           {
            "bin_start": 0.30000000000000004,
            "bin_end": 0.4,
            "count": 0
           },
           {
            "bin_start": 0.4,
            "bin_end": 0.5,
            "count": 0
           },
           {
            "bin_start": 0.5,
            "bin_end": 0.6000000000000001,
            "count": 0
           },
           {
            "bin_start": 0.6000000000000001,
            "bin_end": 0.7000000000000001,
            "count": 0
           },
           {
            "bin_start": 0.7000000000000001,
            "bin_end": 0.8,
            "count": 0
           },
           {
            "bin_start": 0.8,
            "bin_end": 0.9,
            "count": 0
           },
           {
            "bin_start": 0.9,
            "bin_end": 1,
            "count": 0
           }
          ]
         }
        },
        {
         "name": "fireLocation.lat",
         "dtype": "float64",
         "stats": {
          "unique_count": 0,
          "nan_count": 3,
          "min": null,
          "max": null,
          "histogram": [
           {
            "bin_start": 0,
            "bin_end": 0.1,
            "count": 0
           },
           {
            "bin_start": 0.1,
            "bin_end": 0.2,
            "count": 0
           },
           {
            "bin_start": 0.2,
            "bin_end": 0.30000000000000004,
            "count": 0
           },
           {
            "bin_start": 0.30000000000000004,
            "bin_end": 0.4,
            "count": 0
           },
           {
            "bin_start": 0.4,
            "bin_end": 0.5,
            "count": 0
           },
           {
            "bin_start": 0.5,
            "bin_end": 0.6000000000000001,
            "count": 0
           },
           {
            "bin_start": 0.6000000000000001,
            "bin_end": 0.7000000000000001,
            "count": 0
           },
           {
            "bin_start": 0.7000000000000001,
            "bin_end": 0.8,
            "count": 0
           },
           {
            "bin_start": 0.8,
            "bin_end": 0.9,
            "count": 0
           },
           {
            "bin_start": 0.9,
            "bin_end": 1,
            "count": 0
           }
          ]
         }
        },
        {
         "name": "fireLocation.lng",
         "dtype": "float64",
         "stats": {
          "unique_count": 0,
          "nan_count": 3,
          "min": null,
          "max": null,
          "histogram": [
           {
            "bin_start": 0,
            "bin_end": 0.1,
            "count": 0
           },
           {
            "bin_start": 0.1,
            "bin_end": 0.2,
            "count": 0
           },
           {
            "bin_start": 0.2,
            "bin_end": 0.30000000000000004,
            "count": 0
           },
           {
            "bin_start": 0.30000000000000004,
            "bin_end": 0.4,
            "count": 0
           },
           {
            "bin_start": 0.4,
            "bin_end": 0.5,
            "count": 0
           },
           {
            "bin_start": 0.5,
            "bin_end": 0.6000000000000001,
            "count": 0
           },
           {
            "bin_start": 0.6000000000000001,
            "bin_end": 0.7000000000000001,
            "count": 0
           },
           {
            "bin_start": 0.7000000000000001,
            "bin_end": 0.8,
            "count": 0
           },
           {
            "bin_start": 0.8,
            "bin_end": 0.9,
            "count": 0
           },
           {
            "bin_start": 0.9,
            "bin_end": 1,
            "count": 0
           }
          ]
         }
        },
        {
         "name": "personLocation.lat",
         "dtype": "float64",
         "stats": {
          "unique_count": 0,
          "nan_count": 3,
          "min": null,
          "max": null,
          "histogram": [
           {
            "bin_start": 0,
            "bin_end": 0.1,
            "count": 0
           },
           {
            "bin_start": 0.1,
            "bin_end": 0.2,
            "count": 0
           },
           {
            "bin_start": 0.2,
            "bin_end": 0.30000000000000004,
            "count": 0
           },
           {
            "bin_start": 0.30000000000000004,
            "bin_end": 0.4,
            "count": 0
           },
           {
            "bin_start": 0.4,
            "bin_end": 0.5,
            "count": 0
           },
           {
            "bin_start": 0.5,
            "bin_end": 0.6000000000000001,
            "count": 0
           },
           {
            "bin_start": 0.6000000000000001,
            "bin_end": 0.7000000000000001,
            "count": 0
           },
           {
            "bin_start": 0.7000000000000001,
            "bin_end": 0.8,
            "count": 0
           },
           {
            "bin_start": 0.8,
            "bin_end": 0.9,
            "count": 0
           },
           {
            "bin_start": 0.9,
            "bin_end": 1,
            "count": 0
           }
          ]
         }
        },
        {
         "name": "personLocation.lng",
         "dtype": "float64",
         "stats": {
          "unique_count": 0,
          "nan_count": 3,
          "min": null,
          "max": null,
          "histogram": [
           {
            "bin_start": 0,
            "bin_end": 0.1,
            "count": 0
           },
           {
            "bin_start": 0.1,
            "bin_end": 0.2,
            "count": 0
           },
           {
            "bin_start": 0.2,
            "bin_end": 0.30000000000000004,
            "count": 0
           },
           {
            "bin_start": 0.30000000000000004,
            "bin_end": 0.4,
            "count": 0
           },
           {
            "bin_start": 0.4,
            "bin_end": 0.5,
            "count": 0
           },
           {
            "bin_start": 0.5,
            "bin_end": 0.6000000000000001,
            "count": 0
           },
           {
            "bin_start": 0.6000000000000001,
            "bin_end": 0.7000000000000001,
            "count": 0
           },
           {
            "bin_start": 0.7000000000000001,
            "bin_end": 0.8,
            "count": 0
           },
           {
            "bin_start": 0.8,
            "bin_end": 0.9,
            "count": 0
           },
           {
            "bin_start": 0.9,
            "bin_end": 1,
            "count": 0
           }
          ]
         }
        },
        {
         "name": "fireRadius.lat",
         "dtype": "float64",
         "stats": {
          "unique_count": 0,
          "nan_count": 3,
          "min": null,
          "max": null,
          "histogram": [
           {
            "bin_start": 0,
            "bin_end": 0.1,
            "count": 0
           },
           {
            "bin_start": 0.1,
            "bin_end": 0.2,
            "count": 0
           },
           {
            "bin_start": 0.2,
            "bin_end": 0.30000000000000004,
            "count": 0
           },
           {
            "bin_start": 0.30000000000000004,
            "bin_end": 0.4,
            "count": 0
           },
           {
            "bin_start": 0.4,
            "bin_end": 0.5,
            "count": 0
           },
           {
            "bin_start": 0.5,
            "bin_end": 0.6000000000000001,
            "count": 0
           },
           {
            "bin_start": 0.6000000000000001,
            "bin_end": 0.7000000000000001,
            "count": 0
           },
           {
            "bin_start": 0.7000000000000001,
            "bin_end": 0.8,
            "count": 0
           },
           {
            "bin_start": 0.8,
            "bin_end": 0.9,
            "count": 0
           },
           {
            "bin_start": 0.9,
            "bin_end": 1,
            "count": 0
           }
          ]
         }
        },
        {
         "name": "fireRadius.lng",
         "dtype": "float64",
         "stats": {
          "unique_count": 0,
          "nan_count": 3,
          "min": null,
          "max": null,
          "histogram": [
           {
            "bin_start": 0,
            "bin_end": 0.1,
            "count": 0
           },
           {
            "bin_start": 0.1,
            "bin_end": 0.2,
            "count": 0
           },
           {
            "bin_start": 0.2,
            "bin_end": 0.30000000000000004,
            "count": 0
           },
           {
            "bin_start": 0.30000000000000004,
            "bin_end": 0.4,
            "count": 0
           },
           {
            "bin_start": 0.4,
            "bin_end": 0.5,
            "count": 0
           },
           {
            "bin_start": 0.5,
            "bin_end": 0.6000000000000001,
            "count": 0
           },
           {
            "bin_start": 0.6000000000000001,
            "bin_end": 0.7000000000000001,
            "count": 0
           },
           {
            "bin_start": 0.7000000000000001,
            "bin_end": 0.8,
            "count": 0
           },
           {
            "bin_start": 0.8,
            "bin_end": 0.9,
            "count": 0
           },
           {
            "bin_start": 0.9,
            "bin_end": 1,
            "count": 0
           }
          ]
         }
        },
        {
         "name": "volcanicSigns",
         "dtype": "object",
         "stats": {
          "unique_count": 0,
          "nan_count": 3,
          "categories": [
           {
            "name": "Missing",
            "count": 3
           }
          ]
         }
        },
        {
         "name": "evacuationNumber",
         "dtype": "float64",
         "stats": {
          "unique_count": 0,
          "nan_count": 3,
          "min": null,
          "max": null,
          "histogram": [
           {
            "bin_start": 0,
            "bin_end": 0.1,
            "count": 0
           },
           {
            "bin_start": 0.1,
            "bin_end": 0.2,
            "count": 0
           },
           {
            "bin_start": 0.2,
            "bin_end": 0.30000000000000004,
            "count": 0
           },
           {
            "bin_start": 0.30000000000000004,
            "bin_end": 0.4,
            "count": 0
           },
           {
            "bin_start": 0.4,
            "bin_end": 0.5,
            "count": 0
           },
           {
            "bin_start": 0.5,
            "bin_end": 0.6000000000000001,
            "count": 0
           },
           {
            "bin_start": 0.6000000000000001,
            "bin_end": 0.7000000000000001,
            "count": 0
           },
           {
            "bin_start": 0.7000000000000001,
            "bin_end": 0.8,
            "count": 0
           },
           {
            "bin_start": 0.8,
            "bin_end": 0.9,
            "count": 0
           },
           {
            "bin_start": 0.9,
            "bin_end": 1,
            "count": 0
           }
          ]
         }
        },
        {
         "name": "evacuationArea",
         "dtype": "object",
         "stats": {
          "unique_count": 0,
          "nan_count": 3,
          "categories": [
           {
            "name": "Missing",
            "count": 3
           }
          ]
         }
        },
        {
         "name": "visibility",
         "dtype": "float64",
         "stats": {
          "unique_count": 0,
          "nan_count": 3,
          "min": null,
          "max": null,
          "histogram": [
           {
            "bin_start": 0,
            "bin_end": 0.1,
            "count": 0
           },
           {
            "bin_start": 0.1,
            "bin_end": 0.2,
            "count": 0
           },
           {
            "bin_start": 0.2,
            "bin_end": 0.30000000000000004,
            "count": 0
           },
           {
            "bin_start": 0.30000000000000004,
            "bin_end": 0.4,
            "count": 0
           },
           {
            "bin_start": 0.4,
            "bin_end": 0.5,
            "count": 0
           },
           {
            "bin_start": 0.5,
            "bin_end": 0.6000000000000001,
            "count": 0
           },
           {
            "bin_start": 0.6000000000000001,
            "bin_end": 0.7000000000000001,
            "count": 0
           },
           {
            "bin_start": 0.7000000000000001,
            "bin_end": 0.8,
            "count": 0
           },
           {
            "bin_start": 0.8,
            "bin_end": 0.9,
            "count": 0
           },
           {
            "bin_start": 0.9,
            "bin_end": 1,
            "count": 0
           }
          ]
         }
        },
        {
         "name": "airQuality",
         "dtype": "float64",
         "stats": {
          "unique_count": 0,
          "nan_count": 3,
          "min": null,
          "max": null,
          "histogram": [
           {
            "bin_start": 0,
            "bin_end": 0.1,
            "count": 0
           },
           {
            "bin_start": 0.1,
            "bin_end": 0.2,
            "count": 0
           },
           {
            "bin_start": 0.2,
            "bin_end": 0.30000000000000004,
            "count": 0
           },
           {
            "bin_start": 0.30000000000000004,
            "bin_end": 0.4,
            "count": 0
           },
           {
            "bin_start": 0.4,
            "bin_end": 0.5,
            "count": 0
           },
           {
            "bin_start": 0.5,
            "bin_end": 0.6000000000000001,
            "count": 0
           },
           {
            "bin_start": 0.6000000000000001,
            "bin_end": 0.7000000000000001,
            "count": 0
           },
           {
            "bin_start": 0.7000000000000001,
            "bin_end": 0.8,
            "count": 0
           },
           {
            "bin_start": 0.8,
            "bin_end": 0.9,
            "count": 0
           },
           {
            "bin_start": 0.9,
            "bin_end": 1,
            "count": 0
           }
          ]
         }
        },
        {
         "name": "_deepnote_index_column",
         "dtype": "int64"
        }
       ],
       "rows": [
        {
         "report_type": 1,
         "flood_depth": 50,
         "points": "nan",
         "structureFailure": "nan",
         "accessabilityFailure": "nan",
         "condition": "nan",
         "impact": "nan",
         "fireDistance": "nan",
         "fireLocation.lat": "nan",
         "fireLocation.lng": "nan",
         "personLocation.lat": "nan",
         "personLocation.lng": "nan",
         "fireRadius.lat": "nan",
         "fireRadius.lng": "nan",
         "volcanicSigns": "nan",
         "evacuationNumber": "nan",
         "evacuationArea": "nan",
         "visibility": "nan",
         "airQuality": "nan",
         "_deepnote_index_column": 3652
        },
        {
         "report_type": 1,
         "flood_depth": 24,
         "points": "nan",
         "structureFailure": "nan",
         "accessabilityFailure": "nan",
         "condition": "nan",
         "impact": "nan",
         "fireDistance": "nan",
         "fireLocation.lat": "nan",
         "fireLocation.lng": "nan",
         "personLocation.lat": "nan",
         "personLocation.lng": "nan",
         "fireRadius.lat": "nan",
         "fireRadius.lng": "nan",
         "volcanicSigns": "nan",
         "evacuationNumber": "nan",
         "evacuationArea": "nan",
         "visibility": "nan",
         "airQuality": "nan",
         "_deepnote_index_column": 509
        },
        {
         "report_type": 1,
         "flood_depth": 46,
         "points": "nan",
         "structureFailure": "nan",
         "accessabilityFailure": "nan",
         "condition": "nan",
         "impact": "nan",
         "fireDistance": "nan",
         "fireLocation.lat": "nan",
         "fireLocation.lng": "nan",
         "personLocation.lat": "nan",
         "personLocation.lng": "nan",
         "fireRadius.lat": "nan",
         "fireRadius.lng": "nan",
         "volcanicSigns": "nan",
         "evacuationNumber": "nan",
         "evacuationArea": "nan",
         "visibility": "nan",
         "airQuality": "nan",
         "_deepnote_index_column": 864
        }
       ]
      },
      "text/plain": "      report_type  flood_depth  points  structureFailure  \\\n3652          1.0         50.0     NaN               NaN   \n509           1.0         24.0     NaN               NaN   \n864           1.0         46.0     NaN               NaN   \n\n      accessabilityFailure  condition  impact  fireDistance  fireLocation.lat  \\\n3652                   NaN        NaN     NaN           NaN               NaN   \n509                    NaN        NaN     NaN           NaN               NaN   \n864                    NaN        NaN     NaN           NaN               NaN   \n\n      fireLocation.lng  personLocation.lat  personLocation.lng  \\\n3652               NaN                 NaN                 NaN   \n509                NaN                 NaN                 NaN   \n864                NaN                 NaN                 NaN   \n\n      fireRadius.lat  fireRadius.lng volcanicSigns  evacuationNumber  \\\n3652             NaN             NaN           NaN               NaN   \n509              NaN             NaN           NaN               NaN   \n864              NaN             NaN           NaN               NaN   \n\n     evacuationArea  visibility  airQuality  \n3652            NaN         NaN         NaN  \n509             NaN         NaN         NaN  \n864             NaN         NaN         NaN  ",
      "text/html": "<div>\n<style scoped>\n    .dataframe tbody tr th:only-of-type {\n        vertical-align: middle;\n    }\n\n    .dataframe tbody tr th {\n        vertical-align: top;\n    }\n\n    .dataframe thead th {\n        text-align: right;\n    }\n</style>\n<table border=\"1\" class=\"dataframe\">\n  <thead>\n    <tr style=\"text-align: right;\">\n      <th></th>\n      <th>report_type</th>\n      <th>flood_depth</th>\n      <th>points</th>\n      <th>structureFailure</th>\n      <th>accessabilityFailure</th>\n      <th>condition</th>\n      <th>impact</th>\n      <th>fireDistance</th>\n      <th>fireLocation.lat</th>\n      <th>fireLocation.lng</th>\n      <th>personLocation.lat</th>\n      <th>personLocation.lng</th>\n      <th>fireRadius.lat</th>\n      <th>fireRadius.lng</th>\n      <th>volcanicSigns</th>\n      <th>evacuationNumber</th>\n      <th>evacuationArea</th>\n      <th>visibility</th>\n      <th>airQuality</th>\n    </tr>\n  </thead>\n  <tbody>\n    <tr>\n      <th>3652</th>\n      <td>1.0</td>\n      <td>50.0</td>\n      <td>NaN</td>\n      <td>NaN</td>\n      <td>NaN</td>\n      <td>NaN</td>\n      <td>NaN</td>\n      <td>NaN</td>\n      <td>NaN</td>\n      <td>NaN</td>\n      <td>NaN</td>\n      <td>NaN</td>\n      <td>NaN</td>\n      <td>NaN</td>\n      <td>NaN</td>\n      <td>NaN</td>\n      <td>NaN</td>\n      <td>NaN</td>\n      <td>NaN</td>\n    </tr>\n    <tr>\n      <th>509</th>\n      <td>1.0</td>\n      <td>24.0</td>\n      <td>NaN</td>\n      <td>NaN</td>\n      <td>NaN</td>\n      <td>NaN</td>\n      <td>NaN</td>\n      <td>NaN</td>\n      <td>NaN</td>\n      <td>NaN</td>\n      <td>NaN</td>\n      <td>NaN</td>\n      <td>NaN</td>\n      <td>NaN</td>\n      <td>NaN</td>\n      <td>NaN</td>\n      <td>NaN</td>\n      <td>NaN</td>\n      <td>NaN</td>\n    </tr>\n    <tr>\n      <th>864</th>\n      <td>1.0</td>\n      <td>46.0</td>\n      <td>NaN</td>\n      <td>NaN</td>\n      <td>NaN</td>\n      <td>NaN</td>\n      <td>NaN</td>\n      <td>NaN</td>\n      <td>NaN</td>\n      <td>NaN</td>\n      <td>NaN</td>\n      <td>NaN</td>\n      <td>NaN</td>\n      <td>NaN</td>\n      <td>NaN</td>\n      <td>NaN</td>\n      <td>NaN</td>\n      <td>NaN</td>\n      <td>NaN</td>\n    </tr>\n  </tbody>\n</table>\n</div>"
     },
     "metadata": {}
    }
   ]
  },
  {
   "cell_type": "code",
   "source": "# delete irrelevant column from report\nreport = report.drop(columns=['personLocation.lat', 'personLocation.lng', 'fireLocation.lat', 'fireLocation.lng', 'fireDistance', 'points', 'fireRadius.lat', 'fireRadius.lng', 'volcanicSigns', 'evacuationNumber', 'evacuationArea'])\nreport.info()",
   "metadata": {
    "tags": [],
    "deepnote_to_be_reexecuted": false,
    "source_hash": "663ee1a8",
    "execution_start": 1661021804683,
    "execution_millis": 9,
    "cell_id": "00020-a0fe5a7a-e4fb-428d-ab58-c0d6da890fca",
    "deepnote_cell_type": "code",
    "deepnote_cell_height": 428
   },
   "execution_count": 13,
   "outputs": [
    {
     "name": "stdout",
     "text": "<class 'pandas.core.frame.DataFrame'>\nRangeIndex: 4235 entries, 0 to 4234\nData columns (total 8 columns):\n #   Column                Non-Null Count  Dtype  \n---  ------                --------------  -----  \n 0   report_type           3382 non-null   float64\n 1   flood_depth           3155 non-null   float64\n 2   structureFailure      82 non-null     float64\n 3   accessabilityFailure  49 non-null     float64\n 4   condition             49 non-null     float64\n 5   impact                64 non-null     float64\n 6   visibility            2 non-null      float64\n 7   airQuality            2 non-null      float64\ndtypes: float64(8)\nmemory usage: 264.8 KB\n",
     "output_type": "stream"
    }
   ]
  },
  {
   "cell_type": "markdown",
   "source": "### 1.2 Structure of numerical features",
   "metadata": {
    "id": "Sn7N2-bFRV09",
    "cell_id": "00023-541666ac-08e9-4b4a-9fea-68bd11cbc2d3",
    "deepnote_cell_type": "markdown",
    "deepnote_cell_height": 62
   }
  },
  {
   "cell_type": "code",
   "metadata": {
    "colab": {
     "base_uri": "https://localhost:8080/",
     "height": 515
    },
    "id": "T1k3hw_mLNdS",
    "outputId": "d6bf7bd2-7b86-494d-fa14-bf89c6ff5e33",
    "deepnote_to_be_reexecuted": false,
    "source_hash": "a4ab4645",
    "execution_start": 1661021804695,
    "execution_millis": 538,
    "cell_id": "00024-b39a44ce-68c2-4636-93fe-0c09de3a6315",
    "deepnote_cell_type": "code",
    "deepnote_cell_height": 568.40625,
    "deepnote_output_heights": [
     20.1875,
     317.234375
    ]
   },
   "source": "#table 1\n# For each numerical feature compute number of unique entries\nunique_val = df.select_dtypes(include=\"number\").nunique().sort_values()\n# Plot information with y-axis in log-scale\nunique_val.plot.bar(logy=True, figsize=(15,4), title=\"Unique value per features\")\n\n#pkey is not relevant",
   "execution_count": 14,
   "outputs": [
    {
     "output_type": "execute_result",
     "execution_count": 14,
     "data": {
      "text/plain": "<AxesSubplot:title={'center':'Unique value per features'}>"
     },
     "metadata": {}
    },
    {
     "data": {
      "text/plain": "<Figure size 1080x288 with 1 Axes>",
      "image/png": "[encoded data removed]"
     },
     "metadata": {
      "needs_background": "light",
      "image/png": {
       "width": 877,
       "height": 321
      }
     },
     "output_type": "display_data"
    }
   ]
  },
  {
   "cell_type": "code",
   "metadata": {
    "colab": {
     "base_uri": "https://localhost:8080/",
     "height": 424
    },
    "id": "yrIbTAbbRiWi",
    "outputId": "038c8597-5ced-46d2-e2ab-751b16b2395b",
    "deepnote_to_be_reexecuted": false,
    "source_hash": "6a779f01",
    "execution_start": 1661021805235,
    "execution_millis": 83,
    "cell_id": "00026-16d6509d-71ae-4733-b0a6-0eb22f36a86c",
    "deepnote_cell_type": "code",
    "deepnote_cell_height": 484
   },
   "source": "# numerical dscribe - set percentile\npct_num_list = [i/10 for i in range(1, 10)]\ndf.describe(include=\"number\", percentiles=pct_num_list).transpose()",
   "execution_count": 15,
   "outputs": [
    {
     "output_type": "execute_result",
     "execution_count": 15,
     "data": {
      "application/vnd.deepnote.dataframe.v3+json": {
       "column_count": 14,
       "row_count": 6,
       "columns": [
        {
         "name": "count",
         "dtype": "float64",
         "stats": {
          "unique_count": 2,
          "nan_count": 0,
          "min": "4227.0",
          "max": "4235.0",
          "histogram": [
           {
            "bin_start": 4227,
            "bin_end": 4227.8,
            "count": 4
           },
           {
            "bin_start": 4227.8,
            "bin_end": 4228.6,
            "count": 0
           },
           {
            "bin_start": 4228.6,
            "bin_end": 4229.4,
            "count": 0
           },
           {
            "bin_start": 4229.4,
            "bin_end": 4230.2,
            "count": 0
           },
           {
            "bin_start": 4230.2,
            "bin_end": 4231,
            "count": 0
           },
           {
            "bin_start": 4231,
            "bin_end": 4231.8,
            "count": 0
           },
           {
            "bin_start": 4231.8,
            "bin_end": 4232.6,
            "count": 0
           },
           {
            "bin_start": 4232.6,
            "bin_end": 4233.4,
            "count": 0
           },
           {
            "bin_start": 4233.4,
            "bin_end": 4234.2,
            "count": 0
           },
           {
            "bin_start": 4234.2,
            "bin_end": 4235,
            "count": 2
           }
          ]
         }
        },
        {
         "name": "mean",
         "dtype": "float64",
         "stats": {
          "unique_count": 6,
          "nan_count": 0,
          "min": "1.0890200708382527",
          "max": "3561484839.7073574",
          "histogram": [
           {
            "bin_start": 1.0890200708382527,
            "bin_end": 356148484.95085377,
            "count": 5
           },
           {
            "bin_start": 356148484.95085377,
            "bin_end": 712296968.8126874,
            "count": 0
           },
           {
            "bin_start": 712296968.8126874,
            "bin_end": 1068445452.6745211,
            "count": 0
           },
           {
            "bin_start": 1068445452.6745211,
            "bin_end": 1424593936.5363548,
            "count": 0
           },
           {
            "bin_start": 1424593936.5363548,
            "bin_end": 1780742420.3981884,
            "count": 0
           },
           {
            "bin_start": 1780742420.3981884,
            "bin_end": 2136890904.2600222,
            "count": 0
           },
           {
            "bin_start": 2136890904.2600222,
            "bin_end": 2493039388.121856,
            "count": 0
           },
           {
            "bin_start": 2493039388.121856,
            "bin_end": 2849187871.98369,
            "count": 0
           },
           {
            "bin_start": 2849187871.98369,
            "bin_end": 3205336355.8455234,
            "count": 0
           },
           {
            "bin_start": 3205336355.8455234,
            "bin_end": 3561484839.7073574,
            "count": 1
           }
          ]
         }
        },
        {
         "name": "std",
         "dtype": "float64",
         "stats": {
          "unique_count": 6,
          "nan_count": 0,
          "min": "0.43452758956921267",
          "max": "1090398351.8157218",
          "histogram": [
           {
            "bin_start": 0.43452758956921267,
            "bin_end": 109039835.572647,
            "count": 5
           },
           {
            "bin_start": 109039835.572647,
            "bin_end": 218079670.7107664,
            "count": 0
           },
           {
            "bin_start": 218079670.7107664,
            "bin_end": 327119505.84888583,
            "count": 0
           },
           {
            "bin_start": 327119505.84888583,
            "bin_end": 436159340.98700523,
            "count": 0
           },
           {
            "bin_start": 436159340.98700523,
            "bin_end": 545199176.1251247,
            "count": 0
           },
           {
            "bin_start": 545199176.1251247,
            "bin_end": 654239011.2632442,
            "count": 0
           },
           {
            "bin_start": 654239011.2632442,
            "bin_end": 763278846.4013635,
            "count": 0
           },
           {
            "bin_start": 763278846.4013635,
            "bin_end": 872318681.539483,
            "count": 0
           },
           {
            "bin_start": 872318681.539483,
            "bin_end": 981358516.6776024,
            "count": 0
           },
           {
            "bin_start": 981358516.6776024,
            "bin_end": 1090398351.8157218,
            "count": 1
           }
          ]
         }
        },
        {
         "name": "min",
         "dtype": "float64",
         "stats": {
          "unique_count": 6,
          "nan_count": 0,
          "min": "1.0",
          "max": "1103030001.0",
          "histogram": [
           {
            "bin_start": 1,
            "bin_end": 110303001,
            "count": 5
           },
           {
            "bin_start": 110303001,
            "bin_end": 220606001,
            "count": 0
           },
           {
            "bin_start": 220606001,
            "bin_end": 330909001,
            "count": 0
           },
           {
            "bin_start": 330909001,
            "bin_end": 441212001,
            "count": 0
           },
           {
            "bin_start": 441212001,
            "bin_end": 551515001,
            "count": 0
           },
           {
            "bin_start": 551515001,
            "bin_end": 661818001,
            "count": 0
           },
           {
            "bin_start": 661818001,
            "bin_end": 772121001,
            "count": 0
           },
           {
            "bin_start": 772121001,
            "bin_end": 882424001,
            "count": 0
           },
           {
            "bin_start": 882424001,
            "bin_end": 992727001,
            "count": 0
           },
           {
            "bin_start": 992727001,
            "bin_end": 1103030001,
            "count": 1
           }
          ]
         }
        },
        {
         "name": "10%",
         "dtype": "float64",
         "stats": {
          "unique_count": 6,
          "nan_count": 0,
          "min": "1.0",
          "max": "3171090005.0",
          "histogram": [
           {
            "bin_start": 1,
            "bin_end": 317109001.4,
            "count": 5
           },
           {
            "bin_start": 317109001.4,
            "bin_end": 634218001.8,
            "count": 0
           },
           {
            "bin_start": 634218001.8,
            "bin_end": 951327002.1999999,
            "count": 0
           },
           {
            "bin_start": 951327002.1999999,
            "bin_end": 1268436002.6,
            "count": 0
           },
           {
            "bin_start": 1268436002.6,
            "bin_end": 1585545003,
            "count": 0
           },
           {
            "bin_start": 1585545003,
            "bin_end": 1902654003.3999999,
            "count": 0
           },
           {
            "bin_start": 1902654003.3999999,
            "bin_end": 2219763003.7999997,
            "count": 0
           },
           {
            "bin_start": 2219763003.7999997,
            "bin_end": 2536872004.2,
            "count": 0
           },
           {
            "bin_start": 2536872004.2,
            "bin_end": 2853981004.6,
            "count": 0
           },
           {
            "bin_start": 2853981004.6,
            "bin_end": 3171090005,
            "count": 1
           }
          ]
         }
        },
        {
         "name": "20%",
         "dtype": "float64",
         "stats": {
          "unique_count": 6,
          "nan_count": 0,
          "min": "1.0",
          "max": "3172070003.0",
          "histogram": [
           {
            "bin_start": 1,
            "bin_end": 317207001.2,
            "count": 5
           },
           {
            "bin_start": 317207001.2,
            "bin_end": 634414001.4,
            "count": 0
           },
           {
            "bin_start": 634414001.4,
            "bin_end": 951621001.5999999,
            "count": 0
           },
           {
            "bin_start": 951621001.5999999,
            "bin_end": 1268828001.8,
            "count": 0
           },
           {
            "bin_start": 1268828001.8,
            "bin_end": 1586035002,
            "count": 0
           },
           {
            "bin_start": 1586035002,
            "bin_end": 1903242002.1999998,
            "count": 0
           },
           {
            "bin_start": 1903242002.1999998,
            "bin_end": 2220449002.4,
            "count": 0
           },
           {
            "bin_start": 2220449002.4,
            "bin_end": 2537656002.6,
            "count": 0
           },
           {
            "bin_start": 2537656002.6,
            "bin_end": 2854863002.7999997,
            "count": 0
           },
           {
            "bin_start": 2854863002.7999997,
            "bin_end": 3172070003,
            "count": 1
           }
          ]
         }
        },
        {
         "name": "30%",
         "dtype": "float64",
         "stats": {
          "unique_count": 6,
          "nan_count": 0,
          "min": "1.0",
          "max": "3173040003.0",
          "histogram": [
           {
            "bin_start": 1,
            "bin_end": 317304001.2,
            "count": 5
           },
           {
            "bin_start": 317304001.2,
            "bin_end": 634608001.4,
            "count": 0
           },
           {
            "bin_start": 634608001.4,
            "bin_end": 951912001.5999999,
            "count": 0
           },
           {
            "bin_start": 951912001.5999999,
            "bin_end": 1269216001.8,
            "count": 0
           },
           {
            "bin_start": 1269216001.8,
            "bin_end": 1586520002,
            "count": 0
           },
           {
            "bin_start": 1586520002,
            "bin_end": 1903824002.1999998,
            "count": 0
           },
           {
            "bin_start": 1903824002.1999998,
            "bin_end": 2221128002.4,
            "count": 0
           },
           {
            "bin_start": 2221128002.4,
            "bin_end": 2538432002.6,
            "count": 0
           },
           {
            "bin_start": 2538432002.6,
            "bin_end": 2855736002.7999997,
            "count": 0
           },
           {
            "bin_start": 2855736002.7999997,
            "bin_end": 3173040003,
            "count": 1
           }
          ]
         }
        },
        {
         "name": "40%",
         "dtype": "float64",
         "stats": {
          "unique_count": 6,
          "nan_count": 0,
          "min": "1.0",
          "max": "3174020007.0",
          "histogram": [
           {
            "bin_start": 1,
            "bin_end": 317402001.6,
            "count": 5
           },
           {
            "bin_start": 317402001.6,
            "bin_end": 634804002.2,
            "count": 0
           },
           {
            "bin_start": 634804002.2,
            "bin_end": 952206002.8000001,
            "count": 0
           },
           {
            "bin_start": 952206002.8000001,
            "bin_end": 1269608003.4,
            "count": 0
           },
           {
            "bin_start": 1269608003.4,
            "bin_end": 1587010004,
            "count": 0
           },
           {
            "bin_start": 1587010004,
            "bin_end": 1904412004.6000001,
            "count": 0
           },
           {
            "bin_start": 1904412004.6000001,
            "bin_end": 2221814005.2000003,
            "count": 0
           },
           {
            "bin_start": 2221814005.2000003,
            "bin_end": 2539216005.8,
            "count": 0
           },
           {
            "bin_start": 2539216005.8,
            "bin_end": 2856618006.4,
            "count": 0
           },
           {
            "bin_start": 2856618006.4,
            "bin_end": 3174020007,
            "count": 1
           }
          ]
         }
        },
        {
         "name": "50%",
         "dtype": "float64",
         "stats": {
          "unique_count": 6,
          "nan_count": 0,
          "min": "1.0",
          "max": "3175020001.0",
          "histogram": [
           {
            "bin_start": 1,
            "bin_end": 317502001,
            "count": 5
           },
           {
            "bin_start": 317502001,
            "bin_end": 635004001,
            "count": 0
           },
           {
            "bin_start": 635004001,
            "bin_end": 952506001,
            "count": 0
           },
           {
            "bin_start": 952506001,
            "bin_end": 1270008001,
            "count": 0
           },
           {
            "bin_start": 1270008001,
            "bin_end": 1587510001,
            "count": 0
           },
           {
            "bin_start": 1587510001,
            "bin_end": 1905012001,
            "count": 0
           },
           {
            "bin_start": 1905012001,
            "bin_end": 2222514001,
            "count": 0
           },
           {
            "bin_start": 2222514001,
            "bin_end": 2540016001,
            "count": 0
           },
           {
            "bin_start": 2540016001,
            "bin_end": 2857518001,
            "count": 0
           },
           {
            "bin_start": 2857518001,
            "bin_end": 3175020001,
            "count": 1
           }
          ]
         }
        },
        {
         "name": "60%",
         "dtype": "float64",
         "stats": {
          "unique_count": 6,
          "nan_count": 0,
          "min": "1.0",
          "max": "3211010009.0",
          "histogram": [
           {
            "bin_start": 1,
            "bin_end": 321101001.8,
            "count": 5
           },
           {
            "bin_start": 321101001.8,
            "bin_end": 642202002.6,
            "count": 0
           },
           {
            "bin_start": 642202002.6,
            "bin_end": 963303003.4000001,
            "count": 0
           },
           {
            "bin_start": 963303003.4000001,
            "bin_end": 1284404004.2,
            "count": 0
           },
           {
            "bin_start": 1284404004.2,
            "bin_end": 1605505005,
            "count": 0
           },
           {
            "bin_start": 1605505005,
            "bin_end": 1926606005.8000002,
            "count": 0
           },
           {
            "bin_start": 1926606005.8000002,
            "bin_end": 2247707006.6,
            "count": 0
           },
           {
            "bin_start": 2247707006.6,
            "bin_end": 2568808007.4,
            "count": 0
           },
           {
            "bin_start": 2568808007.4,
            "bin_end": 2889909008.2000003,
            "count": 0
           },
           {
            "bin_start": 2889909008.2000003,
            "bin_end": 3211010009,
            "count": 1
           }
          ]
         }
        },
        {
         "name": "70%",
         "dtype": "float64",
         "stats": {
          "unique_count": 6,
          "nan_count": 0,
          "min": "1.0",
          "max": "3275041003.0",
          "histogram": [
           {
            "bin_start": 1,
            "bin_end": 327504101.2,
            "count": 5
           },
           {
            "bin_start": 327504101.2,
            "bin_end": 655008201.4,
            "count": 0
           },
           {
            "bin_start": 655008201.4,
            "bin_end": 982512301.5999999,
            "count": 0
           },
           {
            "bin_start": 982512301.5999999,
            "bin_end": 1310016401.8,
            "count": 0
           },
           {
            "bin_start": 1310016401.8,
            "bin_end": 1637520502,
            "count": 0
           },
           {
            "bin_start": 1637520502,
            "bin_end": 1965024602.1999998,
            "count": 0
           },
           {
            "bin_start": 1965024602.1999998,
            "bin_end": 2292528702.4,
            "count": 0
           },
           {
            "bin_start": 2292528702.4,
            "bin_end": 2620032802.6,
            "count": 0
           },
           {
            "bin_start": 2620032802.6,
            "bin_end": 2947536902.7999997,
            "count": 0
           },
           {
            "bin_start": 2947536902.7999997,
            "bin_end": 3275041003,
            "count": 1
           }
          ]
         }
        },
        {
         "name": "80%",
         "dtype": "float64",
         "stats": {
          "unique_count": 6,
          "nan_count": 0,
          "min": "1.0",
          "max": "3515140006.0",
          "histogram": [
           {
            "bin_start": 1,
            "bin_end": 351514001.5,
            "count": 5
           },
           {
            "bin_start": 351514001.5,
            "bin_end": 703028002,
            "count": 0
           },
           {
            "bin_start": 703028002,
            "bin_end": 1054542002.5,
            "count": 0
           },
           {
            "bin_start": 1054542002.5,
            "bin_end": 1406056003,
            "count": 0
           },
           {
            "bin_start": 1406056003,
            "bin_end": 1757570003.5,
            "count": 0
           },
           {
            "bin_start": 1757570003.5,
            "bin_end": 2109084004,
            "count": 0
           },
           {
            "bin_start": 2109084004,
            "bin_end": 2460598004.5,
            "count": 0
           },
           {
            "bin_start": 2460598004.5,
            "bin_end": 2812112005,
            "count": 0
           },
           {
            "bin_start": 2812112005,
            "bin_end": 3163626005.5,
            "count": 0
           },
           {
            "bin_start": 3163626005.5,
            "bin_end": 3515140006,
            "count": 1
           }
          ]
         }
        },
        {
         "name": "90%",
         "dtype": "float64",
         "stats": {
          "unique_count": 6,
          "nan_count": 0,
          "min": "1.0",
          "max": "5206030006.0",
          "histogram": [
           {
            "bin_start": 1,
            "bin_end": 520603001.5,
            "count": 5
           },
           {
            "bin_start": 520603001.5,
            "bin_end": 1041206002,
            "count": 0
           },
           {
            "bin_start": 1041206002,
            "bin_end": 1561809002.5,
            "count": 0
           },
           {
            "bin_start": 1561809002.5,
            "bin_end": 2082412003,
            "count": 0
           },
           {
            "bin_start": 2082412003,
            "bin_end": 2603015003.5,
            "count": 0
           },
           {
            "bin_start": 2603015003.5,
            "bin_end": 3123618004,
            "count": 0
           },
           {
            "bin_start": 3123618004,
            "bin_end": 3644221004.5,
            "count": 0
           },
           {
            "bin_start": 3644221004.5,
            "bin_end": 4164824005,
            "count": 0
           },
           {
            "bin_start": 4164824005,
            "bin_end": 4685427005.5,
            "count": 0
           },
           {
            "bin_start": 4685427005.5,
            "bin_end": 5206030006,
            "count": 1
           }
          ]
         }
        },
        {
         "name": "max",
         "dtype": "float64",
         "stats": {
          "unique_count": 6,
          "nan_count": 0,
          "min": "6.0",
          "max": "9420020002.0",
          "histogram": [
           {
            "bin_start": 6,
            "bin_end": 942002005.6,
            "count": 5
           },
           {
            "bin_start": 942002005.6,
            "bin_end": 1884004005.2,
            "count": 0
           },
           {
            "bin_start": 1884004005.2,
            "bin_end": 2826006004.8,
            "count": 0
           },
           {
            "bin_start": 2826006004.8,
            "bin_end": 3768008004.4,
            "count": 0
           },
           {
            "bin_start": 3768008004.4,
            "bin_end": 4710010004,
            "count": 0
           },
           {
            "bin_start": 4710010004,
            "bin_end": 5652012003.6,
            "count": 0
           },
           {
            "bin_start": 5652012003.6,
            "bin_end": 6594014003.2,
            "count": 0
           },
           {
            "bin_start": 6594014003.2,
            "bin_end": 7536016002.8,
            "count": 0
           },
           {
            "bin_start": 7536016002.8,
            "bin_end": 8478018002.400001,
            "count": 0
           },
           {
            "bin_start": 8478018002.400001,
            "bin_end": 9420020002,
            "count": 1
           }
          ]
         }
        },
        {
         "name": "_deepnote_index_column",
         "dtype": "object"
        }
       ],
       "rows": [
        {
         "count": 4235,
         "mean": 183639.10059031876,
         "std": 74804.12863420072,
         "min": 94941,
         "10%": 102090.4,
         "20%": 108499.8,
         "30%": 108925.2,
         "40%": 109529.6,
         "50%": 190452,
         "60%": 224495.8,
         "70%": 240590.4,
         "80%": 260522.2,
         "90%": 296167.6,
         "max": 299728,
         "_deepnote_index_column": "pkey"
        },
        {
         "count": 4235,
         "mean": 1.0890200708382527,
         "std": 0.43452758956921267,
         "min": 1,
         "10%": 1,
         "20%": 1,
         "30%": 1,
         "40%": 1,
         "50%": 1,
         "60%": 1,
         "70%": 1,
         "80%": 1,
         "90%": 1,
         "max": 6,
         "_deepnote_index_column": "disaster_type"
        },
        {
         "count": 4227,
         "mean": 3561484839.7073574,
         "std": 1090398351.8157218,
         "min": 1103030001,
         "10%": 3171090005,
         "20%": 3172070003,
         "30%": 3173040003,
         "40%": 3174020007,
         "50%": 3175020001,
         "60%": 3211010009,
         "70%": 3275041003,
         "80%": 3515140006,
         "90%": 5206030006,
         "max": 9420020002,
         "_deepnote_index_column": "ID_Desa"
        },
        {
         "count": 4227,
         "mean": 3561484.833688195,
         "std": 1090398.3521696401,
         "min": 1103030,
         "10%": 3171090,
         "20%": 3172070,
         "30%": 3173040,
         "40%": 3174020,
         "50%": 3175020,
         "60%": 3211010,
         "70%": 3275041,
         "80%": 3515140,
         "90%": 5206030,
         "max": 9420020,
         "_deepnote_index_column": "ID_Kec"
        },
        {
         "count": 4227,
         "mean": 3561.424651052756,
         "std": 1090.3999785799328,
         "min": 1103,
         "10%": 3171,
         "20%": 3172,
         "30%": 3173,
         "40%": 3174,
         "50%": 3175,
         "60%": 3211,
         "70%": 3275,
         "80%": 3515,
         "90%": 5206,
         "max": 9420,
         "_deepnote_index_column": "ID_Kab"
        },
        {
         "count": 4227,
         "mean": 35.02578660988881,
         "std": 11.009527660358257,
         "min": 11,
         "10%": 31,
         "20%": 31,
         "30%": 31,
         "40%": 31,
         "50%": 31,
         "60%": 32,
         "70%": 32,
         "80%": 35,
         "90%": 52,
         "max": 94,
         "_deepnote_index_column": "ID_Prov"
        }
       ]
      },
      "text/plain": "                count          mean           std           min           10%  \\\npkey           4235.0  1.836391e+05  7.480413e+04  9.494100e+04  1.020904e+05   \ndisaster_type  4235.0  1.089020e+00  4.345276e-01  1.000000e+00  1.000000e+00   \nID_Desa        4227.0  3.561485e+09  1.090398e+09  1.103030e+09  3.171090e+09   \nID_Kec         4227.0  3.561485e+06  1.090398e+06  1.103030e+06  3.171090e+06   \nID_Kab         4227.0  3.561425e+03  1.090400e+03  1.103000e+03  3.171000e+03   \nID_Prov        4227.0  3.502579e+01  1.100953e+01  1.100000e+01  3.100000e+01   \n\n                        20%           30%           40%           50%  \\\npkey           1.084998e+05  1.089252e+05  1.095296e+05  1.904520e+05   \ndisaster_type  1.000000e+00  1.000000e+00  1.000000e+00  1.000000e+00   \nID_Desa        3.172070e+09  3.173040e+09  3.174020e+09  3.175020e+09   \nID_Kec         3.172070e+06  3.173040e+06  3.174020e+06  3.175020e+06   \nID_Kab         3.172000e+03  3.173000e+03  3.174000e+03  3.175000e+03   \nID_Prov        3.100000e+01  3.100000e+01  3.100000e+01  3.100000e+01   \n\n                        60%           70%           80%           90%  \\\npkey           2.244958e+05  2.405904e+05  2.605222e+05  2.961676e+05   \ndisaster_type  1.000000e+00  1.000000e+00  1.000000e+00  1.000000e+00   \nID_Desa        3.211010e+09  3.275041e+09  3.515140e+09  5.206030e+09   \nID_Kec         3.211010e+06  3.275041e+06  3.515140e+06  5.206030e+06   \nID_Kab         3.211000e+03  3.275000e+03  3.515000e+03  5.206000e+03   \nID_Prov        3.200000e+01  3.200000e+01  3.500000e+01  5.200000e+01   \n\n                        max  \npkey           2.997280e+05  \ndisaster_type  6.000000e+00  \nID_Desa        9.420020e+09  \nID_Kec         9.420020e+06  \nID_Kab         9.420000e+03  \nID_Prov        9.400000e+01  ",
      "text/html": "<div>\n<style scoped>\n    .dataframe tbody tr th:only-of-type {\n        vertical-align: middle;\n    }\n\n    .dataframe tbody tr th {\n        vertical-align: top;\n    }\n\n    .dataframe thead th {\n        text-align: right;\n    }\n</style>\n<table border=\"1\" class=\"dataframe\">\n  <thead>\n    <tr style=\"text-align: right;\">\n      <th></th>\n      <th>count</th>\n      <th>mean</th>\n      <th>std</th>\n      <th>min</th>\n      <th>10%</th>\n      <th>20%</th>\n      <th>30%</th>\n      <th>40%</th>\n      <th>50%</th>\n      <th>60%</th>\n      <th>70%</th>\n      <th>80%</th>\n      <th>90%</th>\n      <th>max</th>\n    </tr>\n  </thead>\n  <tbody>\n    <tr>\n      <th>pkey</th>\n      <td>4235.0</td>\n      <td>1.836391e+05</td>\n      <td>7.480413e+04</td>\n      <td>9.494100e+04</td>\n      <td>1.020904e+05</td>\n      <td>1.084998e+05</td>\n      <td>1.089252e+05</td>\n      <td>1.095296e+05</td>\n      <td>1.904520e+05</td>\n      <td>2.244958e+05</td>\n      <td>2.405904e+05</td>\n      <td>2.605222e+05</td>\n      <td>2.961676e+05</td>\n      <td>2.997280e+05</td>\n    </tr>\n    <tr>\n      <th>disaster_type</th>\n      <td>4235.0</td>\n      <td>1.089020e+00</td>\n      <td>4.345276e-01</td>\n      <td>1.000000e+00</td>\n      <td>1.000000e+00</td>\n      <td>1.000000e+00</td>\n      <td>1.000000e+00</td>\n      <td>1.000000e+00</td>\n      <td>1.000000e+00</td>\n      <td>1.000000e+00</td>\n      <td>1.000000e+00</td>\n      <td>1.000000e+00</td>\n      <td>1.000000e+00</td>\n      <td>6.000000e+00</td>\n    </tr>\n    <tr>\n      <th>ID_Desa</th>\n      <td>4227.0</td>\n      <td>3.561485e+09</td>\n      <td>1.090398e+09</td>\n      <td>1.103030e+09</td>\n      <td>3.171090e+09</td>\n      <td>3.172070e+09</td>\n      <td>3.173040e+09</td>\n      <td>3.174020e+09</td>\n      <td>3.175020e+09</td>\n      <td>3.211010e+09</td>\n      <td>3.275041e+09</td>\n      <td>3.515140e+09</td>\n      <td>5.206030e+09</td>\n      <td>9.420020e+09</td>\n    </tr>\n    <tr>\n      <th>ID_Kec</th>\n      <td>4227.0</td>\n      <td>3.561485e+06</td>\n      <td>1.090398e+06</td>\n      <td>1.103030e+06</td>\n      <td>3.171090e+06</td>\n      <td>3.172070e+06</td>\n      <td>3.173040e+06</td>\n      <td>3.174020e+06</td>\n      <td>3.175020e+06</td>\n      <td>3.211010e+06</td>\n      <td>3.275041e+06</td>\n      <td>3.515140e+06</td>\n      <td>5.206030e+06</td>\n      <td>9.420020e+06</td>\n    </tr>\n    <tr>\n      <th>ID_Kab</th>\n      <td>4227.0</td>\n      <td>3.561425e+03</td>\n      <td>1.090400e+03</td>\n      <td>1.103000e+03</td>\n      <td>3.171000e+03</td>\n      <td>3.172000e+03</td>\n      <td>3.173000e+03</td>\n      <td>3.174000e+03</td>\n      <td>3.175000e+03</td>\n      <td>3.211000e+03</td>\n      <td>3.275000e+03</td>\n      <td>3.515000e+03</td>\n      <td>5.206000e+03</td>\n      <td>9.420000e+03</td>\n    </tr>\n    <tr>\n      <th>ID_Prov</th>\n      <td>4227.0</td>\n      <td>3.502579e+01</td>\n      <td>1.100953e+01</td>\n      <td>1.100000e+01</td>\n      <td>3.100000e+01</td>\n      <td>3.100000e+01</td>\n      <td>3.100000e+01</td>\n      <td>3.100000e+01</td>\n      <td>3.100000e+01</td>\n      <td>3.200000e+01</td>\n      <td>3.200000e+01</td>\n      <td>3.500000e+01</td>\n      <td>5.200000e+01</td>\n      <td>9.400000e+01</td>\n    </tr>\n  </tbody>\n</table>\n</div>"
     },
     "metadata": {}
    }
   ]
  },
  {
   "cell_type": "markdown",
   "source": "###. 1.3 Conclutions of structure investigation\n1. 4235 x 21 data shape\n2. changed data type of 'long' & 'lat' into float62\n3. delete status, title, tags, pkey, url, image_url, time, and report_dat column\n4. replace 'disaster_type' with a number value\n    (1 -> flood, 2-> earthquake, 3 -> wind, 4 -> fire, 5 -> volcano, 6 -> haze)",
   "metadata": {
    "id": "Rc7sstwGZOgA",
    "cell_id": "00030-76cf6dbf-598d-4443-976a-569e104db638",
    "deepnote_cell_type": "markdown",
    "deepnote_cell_height": 201.390625
   }
  },
  {
   "cell_type": "markdown",
   "source": "## Quality Investigation\n-  Get a feeling for the general quality of the dataset, with regards to duplicates, missing values and unwanted entries.",
   "metadata": {
    "id": "3n58Q797SLFY",
    "cell_id": "00032-63708577-839c-4ebf-ae86-4c2299682a6f",
    "deepnote_cell_type": "markdown",
    "deepnote_cell_height": 122.390625
   }
  },
  {
   "cell_type": "markdown",
   "source": "### 2.1 Duplicates",
   "metadata": {
    "id": "bNdxC9qpSirA",
    "cell_id": "00033-28ef02fb-1268-4bdd-af25-92bed5a007ca",
    "deepnote_cell_type": "markdown",
    "deepnote_cell_height": 62
   }
  },
  {
   "cell_type": "code",
   "metadata": {
    "id": "EGAHQ02YR4WU",
    "deepnote_to_be_reexecuted": false,
    "source_hash": "b7bb62c9",
    "execution_start": 1661021805321,
    "execution_millis": 63,
    "deepnote_table_state": {
     "pageSize": 10,
     "pageIndex": 0,
     "filters": [],
     "sortBy": []
    },
    "deepnote_table_loading": false,
    "cell_id": "00034-d5f099dd-fcd3-48d3-b213-8ca2fb8f44d8",
    "deepnote_cell_type": "code",
    "deepnote_cell_height": 460.796875
   },
   "source": "#table 1\n# Check number of duplicates\nduplicateRow = df[df.duplicated()]\nduplicateRow",
   "execution_count": 16,
   "outputs": [
    {
     "output_type": "execute_result",
     "execution_count": 16,
     "data": {
      "application/vnd.deepnote.dataframe.v3+json": {
       "column_count": 21,
       "row_count": 5,
       "columns": [
        {
         "name": "pkey",
         "dtype": "int64",
         "stats": {
          "unique_count": 5,
          "nan_count": 0,
          "min": "106393",
          "max": "296671",
          "histogram": [
           {
            "bin_start": 106393,
            "bin_end": 125420.8,
            "count": 4
           },
           {
            "bin_start": 125420.8,
            "bin_end": 144448.6,
            "count": 0
           },
           {
            "bin_start": 144448.6,
            "bin_end": 163476.4,
            "count": 0
           },
           {
            "bin_start": 163476.4,
            "bin_end": 182504.2,
            "count": 0
           },
           {
            "bin_start": 182504.2,
            "bin_end": 201532,
            "count": 0
           },
           {
            "bin_start": 201532,
            "bin_end": 220559.8,
            "count": 0
           },
           {
            "bin_start": 220559.8,
            "bin_end": 239587.6,
            "count": 0
           },
           {
            "bin_start": 239587.6,
            "bin_end": 258615.4,
            "count": 0
           },
           {
            "bin_start": 258615.4,
            "bin_end": 277643.19999999995,
            "count": 0
           },
           {
            "bin_start": 277643.19999999995,
            "bin_end": 296671,
            "count": 1
           }
          ]
         }
        },
        {
         "name": "date",
         "dtype": "object",
         "stats": {
          "unique_count": 2,
          "nan_count": 0,
          "categories": [
           {
            "name": "20/02/2020",
            "count": 4
           },
           {
            "name": "28/08/2021",
            "count": 1
           }
          ]
         }
        },
        {
         "name": "time",
         "dtype": "object",
         "stats": {
          "unique_count": 2,
          "nan_count": 0,
          "categories": [
           {
            "name": "0",
            "count": 4
           },
           {
            "name": "20:51:13",
            "count": 1
           }
          ]
         }
        },
        {
         "name": "source",
         "dtype": "object",
         "stats": {
          "unique_count": 2,
          "nan_count": 0,
          "categories": [
           {
            "name": "grasp",
            "count": 4
           },
           {
            "name": "detik",
            "count": 1
           }
          ]
         }
        },
        {
         "name": "status",
         "dtype": "object",
         "stats": {
          "unique_count": 1,
          "nan_count": 0,
          "categories": [
           {
            "name": "confirmed",
            "count": 5
           }
          ]
         }
        },
        {
         "name": "url",
         "dtype": "object",
         "stats": {
          "unique_count": 5,
          "nan_count": 0,
          "categories": [
           {
            "name": "d9eb102c-87ff-4c08-9a58-a9751077007d",
            "count": 1
           },
           {
            "name": "fe75c34a-22d4-47b9-9133-d3c019c5ec18",
            "count": 1
           },
           {
            "name": "3 others",
            "count": 3
           }
          ]
         }
        },
        {
         "name": "image_url",
         "dtype": "object",
         "stats": {
          "unique_count": 3,
          "nan_count": 2,
          "categories": [
           {
            "name": "https://images.petabencana.id/d9eb102c-87ff-4c08-9a58-a9751077007d.jpg",
            "count": 1
           },
           {
            "name": "2 others",
            "count": 2
           },
           {
            "name": "Missing",
            "count": 2
           }
          ]
         }
        },
        {
         "name": "disaster_type",
         "dtype": "int64",
         "stats": {
          "unique_count": 1,
          "nan_count": 0,
          "min": "1",
          "max": "1",
          "histogram": [
           {
            "bin_start": 0.5,
            "bin_end": 0.6,
            "count": 0
           },
           {
            "bin_start": 0.6,
            "bin_end": 0.7,
            "count": 0
           },
           {
            "bin_start": 0.7,
            "bin_end": 0.8,
            "count": 0
           },
           {
            "bin_start": 0.8,
            "bin_end": 0.9,
            "count": 0
           },
           {
            "bin_start": 0.9,
            "bin_end": 1,
            "count": 0
           },
           {
            "bin_start": 1,
            "bin_end": 1.1,
            "count": 5
           },
           {
            "bin_start": 1.1,
            "bin_end": 1.2000000000000002,
            "count": 0
           },
           {
            "bin_start": 1.2000000000000002,
            "bin_end": 1.3,
            "count": 0
           },
           {
            "bin_start": 1.3,
            "bin_end": 1.4,
            "count": 0
           },
           {
            "bin_start": 1.4,
            "bin_end": 1.5,
            "count": 0
           }
          ]
         }
        },
        {
         "name": "report_dat",
         "dtype": "object",
         "stats": {
          "unique_count": 5,
          "nan_count": 0,
          "categories": [
           {
            "name": "{ \"report_type\": \"flood\", \"flood_depth\": 28 }",
            "count": 1
           },
           {
            "name": "{ \"report_type\": \"flood\", \"flood_depth\": 35 }",
            "count": 1
           },
           {
            "name": "3 others",
            "count": 3
           }
          ]
         }
        },
        {
         "name": "tags",
         "dtype": "object",
         "stats": {
          "unique_count": 3,
          "nan_count": 0,
          "categories": [
           {
            "name": "{ \"district_id\": null, \"local_area_id\": null, \"instance_region_code\": \"ID-JT\" }",
            "count": 2
           },
           {
            "name": "{ \"district_id\": null, \"local_area_id\": null, \"instance_region_code\": \"ID-JB\" }",
            "count": 2
           },
           {
            "name": "{ \"district_id\": null, \"local_area_id\": null, \"instance_region_code\": \"ID-SN\" }",
            "count": 1
           }
          ]
         }
        },
        {
         "name": "title",
         "dtype": "object",
         "stats": {
          "unique_count": 1,
          "nan_count": 4,
          "categories": [
           {
            "name": "Jalan Pati-Tayu Banjir, Beberapa Kendaraan Mogok",
            "count": 1
           },
           {
            "name": "Missing",
            "count": 4
           }
          ]
         }
        },
        {
         "name": "ID_Desa",
         "dtype": "float64",
         "stats": {
          "unique_count": 5,
          "nan_count": 0,
          "min": "3216090001.0",
          "max": "7313120005.0",
          "histogram": [
           {
            "bin_start": 3216090001,
            "bin_end": 3625793001.4,
            "count": 4
           },
           {
            "bin_start": 3625793001.4,
            "bin_end": 4035496001.8,
            "count": 0
           },
           {
            "bin_start": 4035496001.8,
            "bin_end": 4445199002.2,
            "count": 0
           },
           {
            "bin_start": 4445199002.2,
            "bin_end": 4854902002.6,
            "count": 0
           },
           {
            "bin_start": 4854902002.6,
            "bin_end": 5264605003,
            "count": 0
           },
           {
            "bin_start": 5264605003,
            "bin_end": 5674308003.4,
            "count": 0
           },
           {
            "bin_start": 5674308003.4,
            "bin_end": 6084011003.799999,
            "count": 0
           },
           {
            "bin_start": 6084011003.799999,
            "bin_end": 6493714004.2,
            "count": 0
           },
           {
            "bin_start": 6493714004.2,
            "bin_end": 6903417004.6,
            "count": 0
           },
           {
            "bin_start": 6903417004.6,
            "bin_end": 7313120005,
            "count": 1
           }
          ]
         }
        },
        {
         "name": "ID_Kec",
         "dtype": "float64",
         "stats": {
          "unique_count": 5,
          "nan_count": 0,
          "min": "3216090.0",
          "max": "7313120.0",
          "histogram": [
           {
            "bin_start": 3216090,
            "bin_end": 3625793,
            "count": 4
           },
           {
            "bin_start": 3625793,
            "bin_end": 4035496,
            "count": 0
           },
           {
            "bin_start": 4035496,
            "bin_end": 4445199,
            "count": 0
           },
           {
            "bin_start": 4445199,
            "bin_end": 4854902,
            "count": 0
           },
           {
            "bin_start": 4854902,
            "bin_end": 5264605,
            "count": 0
           },
           {
            "bin_start": 5264605,
            "bin_end": 5674308,
            "count": 0
           },
           {
            "bin_start": 5674308,
            "bin_end": 6084011,
            "count": 0
           },
           {
            "bin_start": 6084011,
            "bin_end": 6493714,
            "count": 0
           },
           {
            "bin_start": 6493714,
            "bin_end": 6903417,
            "count": 0
           },
           {
            "bin_start": 6903417,
            "bin_end": 7313120,
            "count": 1
           }
          ]
         }
        },
        {
         "name": "ID_Kab",
         "dtype": "float64",
         "stats": {
          "unique_count": 5,
          "nan_count": 0,
          "min": "3216.0",
          "max": "7313.0",
          "histogram": [
           {
            "bin_start": 3216,
            "bin_end": 3625.7,
            "count": 4
           },
           {
            "bin_start": 3625.7,
            "bin_end": 4035.4,
            "count": 0
           },
           {
            "bin_start": 4035.4,
            "bin_end": 4445.1,
            "count": 0
           },
           {
            "bin_start": 4445.1,
            "bin_end": 4854.8,
            "count": 0
           },
           {
            "bin_start": 4854.8,
            "bin_end": 5264.5,
            "count": 0
           },
           {
            "bin_start": 5264.5,
            "bin_end": 5674.2,
            "count": 0
           },
           {
            "bin_start": 5674.2,
            "bin_end": 6083.9,
            "count": 0
           },
           {
            "bin_start": 6083.9,
            "bin_end": 6493.6,
            "count": 0
           },
           {
            "bin_start": 6493.6,
            "bin_end": 6903.299999999999,
            "count": 0
           },
           {
            "bin_start": 6903.299999999999,
            "bin_end": 7313,
            "count": 1
           }
          ]
         }
        },
        {
         "name": "ID_Prov",
         "dtype": "float64",
         "stats": {
          "unique_count": 3,
          "nan_count": 0,
          "min": "32.0",
          "max": "73.0",
          "histogram": [
           {
            "bin_start": 32,
            "bin_end": 36.1,
            "count": 4
           },
           {
            "bin_start": 36.1,
            "bin_end": 40.2,
            "count": 0
           },
           {
            "bin_start": 40.2,
            "bin_end": 44.3,
            "count": 0
           },
           {
            "bin_start": 44.3,
            "bin_end": 48.4,
            "count": 0
           },
           {
            "bin_start": 48.4,
            "bin_end": 52.5,
            "count": 0
           },
           {
            "bin_start": 52.5,
            "bin_end": 56.599999999999994,
            "count": 0
           },
           {
            "bin_start": 56.599999999999994,
            "bin_end": 60.699999999999996,
            "count": 0
           },
           {
            "bin_start": 60.699999999999996,
            "bin_end": 64.8,
            "count": 0
           },
           {
            "bin_start": 64.8,
            "bin_end": 68.9,
            "count": 0
           },
           {
            "bin_start": 68.9,
            "bin_end": 73,
            "count": 1
           }
          ]
         }
        },
        {
         "name": "Desa",
         "dtype": "object",
         "stats": {
          "unique_count": 5,
          "nan_count": 0,
          "categories": [
           {
            "name": "Kauman",
            "count": 1
           },
           {
            "name": "Bahagia",
            "count": 1
           },
           {
            "name": "3 others",
            "count": 3
           }
          ]
         }
        },
        {
         "name": "Kecamatan",
         "dtype": "object",
         "stats": {
          "unique_count": 5,
          "nan_count": 0,
          "categories": [
           {
            "name": "Jepara",
            "count": 1
           },
           {
            "name": "Babelan",
            "count": 1
           },
           {
            "name": "3 others",
            "count": 3
           }
          ]
         }
        },
        {
         "name": "Kabupaten",
         "dtype": "object",
         "stats": {
          "unique_count": 4,
          "nan_count": 0,
          "categories": [
           {
            "name": "Bekasi",
            "count": 2
           },
           {
            "name": "Jepara",
            "count": 1
           },
           {
            "name": "2 others",
            "count": 2
           }
          ]
         }
        },
        {
         "name": "Provinsi",
         "dtype": "object",
         "stats": {
          "unique_count": 3,
          "nan_count": 0,
          "categories": [
           {
            "name": "Jawa Tengah",
            "count": 2
           },
           {
            "name": "Jawa Barat",
            "count": 2
           },
           {
            "name": "Sulawesi Selatan",
            "count": 1
           }
          ]
         }
        },
        {
         "name": "long",
         "dtype": "object",
         "stats": {
          "unique_count": 5,
          "nan_count": 0,
          "categories": [
           {
            "name": "11.066.711",
            "count": 1
           },
           {
            "name": "10.701.201",
            "count": 1
           },
           {
            "name": "3 others",
            "count": 3
           }
          ]
         }
        },
        {
         "name": "lat",
         "dtype": "object",
         "stats": {
          "unique_count": 5,
          "nan_count": 0,
          "categories": [
           {
            "name": "-659.151",
            "count": 1
           },
           {
            "name": "-618.004",
            "count": 1
           },
           {
            "name": "3 others",
            "count": 3
           }
          ]
         }
        },
        {
         "name": "_deepnote_index_column",
         "dtype": "int64"
        }
       ],
       "rows": [
        {
         "pkey": 106393,
         "date": "20/02/2020",
         "time": "0",
         "source": "grasp",
         "status": "confirmed",
         "url": "d9eb102c-87ff-4c08-9a58-a9751077007d",
         "image_url": "https://images.petabencana.id/d9eb102c-87ff-4c08-9a58-a9751077007d.jpg",
         "disaster_type": 1,
         "report_dat": "{ \"report_type\": \"flood\", \"flood_depth\": 28 }",
         "tags": "{ \"district_id\": null, \"local_area_id\": null, \"instance_region_code\": \"ID-JT\" }",
         "title": "nan",
         "ID_Desa": 3320080004,
         "ID_Kec": 3320080,
         "ID_Kab": 3320,
         "ID_Prov": 33,
         "Desa": "Kauman",
         "Kecamatan": "Jepara",
         "Kabupaten": "Jepara",
         "Provinsi": "Jawa Tengah",
         "long": "11.066.711",
         "lat": "-659.151",
         "_deepnote_index_column": 740
        },
        {
         "pkey": 106394,
         "date": "20/02/2020",
         "time": "0",
         "source": "grasp",
         "status": "confirmed",
         "url": "fe75c34a-22d4-47b9-9133-d3c019c5ec18",
         "image_url": "nan",
         "disaster_type": 1,
         "report_dat": "{ \"report_type\": \"flood\", \"flood_depth\": 35 }",
         "tags": "{ \"district_id\": null, \"local_area_id\": null, \"instance_region_code\": \"ID-JB\" }",
         "title": "nan",
         "ID_Desa": 3216090001,
         "ID_Kec": 3216090,
         "ID_Kab": 3216,
         "ID_Prov": 32,
         "Desa": "Bahagia",
         "Kecamatan": "Babelan",
         "Kabupaten": "Bekasi",
         "Provinsi": "Jawa Barat",
         "long": "10.701.201",
         "lat": "-618.004",
         "_deepnote_index_column": 742
        },
        {
         "pkey": 106396,
         "date": "20/02/2020",
         "time": "0",
         "source": "grasp",
         "status": "confirmed",
         "url": "6918e92d-413e-4bd6-a6d3-2b9f48746de5",
         "image_url": "nan",
         "disaster_type": 1,
         "report_dat": "{ \"report_type\": \"flood\", \"flood_depth\": 75 }",
         "tags": "{ \"district_id\": null, \"local_area_id\": null, \"instance_region_code\": \"ID-JB\" }",
         "title": "nan",
         "ID_Desa": 3275041004,
         "ID_Kec": 3275041,
         "ID_Kab": 3275,
         "ID_Prov": 32,
         "Desa": "Pengasinan",
         "Kecamatan": "Rawalumbu",
         "Kabupaten": "Bekasi",
         "Provinsi": "Jawa Barat",
         "long": "10.700.857",
         "lat": "-626.569",
         "_deepnote_index_column": 744
        },
        {
         "pkey": 106413,
         "date": "20/02/2020",
         "time": "0",
         "source": "detik",
         "status": "confirmed",
         "url": "https://pasangmata.detik.com/contribution/349282",
         "image_url": "https://akcdn.detik.net.id/community/pasma/2020/02/20/15821665531606648898.jpg",
         "disaster_type": 1,
         "report_dat": "nan",
         "tags": "{ \"district_id\": null, \"local_area_id\": null, \"instance_region_code\": \"ID-JT\" }",
         "title": "Jalan Pati-Tayu Banjir, Beberapa Kendaraan Mogok",
         "ID_Desa": 3318040018,
         "ID_Kec": 3318040,
         "ID_Kab": 3318,
         "ID_Prov": 33,
         "Desa": "Winong",
         "Kecamatan": "Winong",
         "Kabupaten": "Pati",
         "Provinsi": "Jawa Tengah",
         "long": "11.110.174",
         "lat": "-680.686",
         "_deepnote_index_column": 746
        },
        {
         "pkey": 296671,
         "date": "28/08/2021",
         "time": "20:51:13",
         "source": "grasp",
         "status": "confirmed",
         "url": "f4a875e0-0186-457b-ab80-a4b7be0c1aed",
         "image_url": "https://images.petabencana.id/f4a875e0-0186-457b-ab80-a4b7be0c1aed.jpg",
         "disaster_type": 1,
         "report_dat": "{ \"report_type\": \"flood\", \"flood_depth\": 90 }",
         "tags": "{ \"district_id\": null, \"local_area_id\": null, \"instance_region_code\": \"ID-SN\" }",
         "title": "nan",
         "ID_Desa": 7313120005,
         "ID_Kec": 7313120,
         "ID_Kab": 7313,
         "ID_Prov": 73,
         "Desa": "Benteng",
         "Kecamatan": "Pitumpanua",
         "Kabupaten": "Wajo",
         "Provinsi": "Sulawesi Selatan",
         "long": "120.384.104",
         "lat": "-3.735.155",
         "_deepnote_index_column": 3856
        }
       ]
      },
      "text/plain": "        pkey        date      time source     status  \\\n740   106393  20/02/2020         0  grasp  confirmed   \n742   106394  20/02/2020         0  grasp  confirmed   \n744   106396  20/02/2020         0  grasp  confirmed   \n746   106413  20/02/2020         0  detik  confirmed   \n3856  296671  28/08/2021  20:51:13  grasp  confirmed   \n\n                                                   url  \\\n740               d9eb102c-87ff-4c08-9a58-a9751077007d   \n742               fe75c34a-22d4-47b9-9133-d3c019c5ec18   \n744               6918e92d-413e-4bd6-a6d3-2b9f48746de5   \n746   https://pasangmata.detik.com/contribution/349282   \n3856              f4a875e0-0186-457b-ab80-a4b7be0c1aed   \n\n                                              image_url  disaster_type  \\\n740   https://images.petabencana.id/d9eb102c-87ff-4c...              1   \n742                                                 NaN              1   \n744                                                 NaN              1   \n746   https://akcdn.detik.net.id/community/pasma/202...              1   \n3856  https://images.petabencana.id/f4a875e0-0186-45...              1   \n\n                                         report_dat  \\\n740   { \"report_type\": \"flood\", \"flood_depth\": 28 }   \n742   { \"report_type\": \"flood\", \"flood_depth\": 35 }   \n744   { \"report_type\": \"flood\", \"flood_depth\": 75 }   \n746                                             nan   \n3856  { \"report_type\": \"flood\", \"flood_depth\": 90 }   \n\n                                                   tags  ...       ID_Desa  \\\n740   { \"district_id\": null, \"local_area_id\": null, ...  ...  3.320080e+09   \n742   { \"district_id\": null, \"local_area_id\": null, ...  ...  3.216090e+09   \n744   { \"district_id\": null, \"local_area_id\": null, ...  ...  3.275041e+09   \n746   { \"district_id\": null, \"local_area_id\": null, ...  ...  3.318040e+09   \n3856  { \"district_id\": null, \"local_area_id\": null, ...  ...  7.313120e+09   \n\n         ID_Kec  ID_Kab  ID_Prov        Desa   Kecamatan Kabupaten  \\\n740   3320080.0  3320.0     33.0      Kauman      Jepara    Jepara   \n742   3216090.0  3216.0     32.0     Bahagia     Babelan    Bekasi   \n744   3275041.0  3275.0     32.0  Pengasinan   Rawalumbu    Bekasi   \n746   3318040.0  3318.0     33.0      Winong      Winong      Pati   \n3856  7313120.0  7313.0     73.0     Benteng  Pitumpanua      Wajo   \n\n              Provinsi         long         lat  \n740        Jawa Tengah   11.066.711    -659.151  \n742         Jawa Barat   10.701.201    -618.004  \n744         Jawa Barat   10.700.857    -626.569  \n746        Jawa Tengah   11.110.174    -680.686  \n3856  Sulawesi Selatan  120.384.104  -3.735.155  \n\n[5 rows x 21 columns]",
      "text/html": "<div>\n<style scoped>\n    .dataframe tbody tr th:only-of-type {\n        vertical-align: middle;\n    }\n\n    .dataframe tbody tr th {\n        vertical-align: top;\n    }\n\n    .dataframe thead th {\n        text-align: right;\n    }\n</style>\n<table border=\"1\" class=\"dataframe\">\n  <thead>\n    <tr style=\"text-align: right;\">\n      <th></th>\n      <th>pkey</th>\n      <th>date</th>\n      <th>time</th>\n      <th>source</th>\n      <th>status</th>\n      <th>url</th>\n      <th>image_url</th>\n      <th>disaster_type</th>\n      <th>report_dat</th>\n      <th>tags</th>\n      <th>...</th>\n      <th>ID_Desa</th>\n      <th>ID_Kec</th>\n      <th>ID_Kab</th>\n      <th>ID_Prov</th>\n      <th>Desa</th>\n      <th>Kecamatan</th>\n      <th>Kabupaten</th>\n      <th>Provinsi</th>\n      <th>long</th>\n      <th>lat</th>\n    </tr>\n  </thead>\n  <tbody>\n    <tr>\n      <th>740</th>\n      <td>106393</td>\n      <td>20/02/2020</td>\n      <td>0</td>\n      <td>grasp</td>\n      <td>confirmed</td>\n      <td>d9eb102c-87ff-4c08-9a58-a9751077007d</td>\n      <td>https://images.petabencana.id/d9eb102c-87ff-4c...</td>\n      <td>1</td>\n      <td>{ \"report_type\": \"flood\", \"flood_depth\": 28 }</td>\n      <td>{ \"district_id\": null, \"local_area_id\": null, ...</td>\n      <td>...</td>\n      <td>3.320080e+09</td>\n      <td>3320080.0</td>\n      <td>3320.0</td>\n      <td>33.0</td>\n      <td>Kauman</td>\n      <td>Jepara</td>\n      <td>Jepara</td>\n      <td>Jawa Tengah</td>\n      <td>11.066.711</td>\n      <td>-659.151</td>\n    </tr>\n    <tr>\n      <th>742</th>\n      <td>106394</td>\n      <td>20/02/2020</td>\n      <td>0</td>\n      <td>grasp</td>\n      <td>confirmed</td>\n      <td>fe75c34a-22d4-47b9-9133-d3c019c5ec18</td>\n      <td>NaN</td>\n      <td>1</td>\n      <td>{ \"report_type\": \"flood\", \"flood_depth\": 35 }</td>\n      <td>{ \"district_id\": null, \"local_area_id\": null, ...</td>\n      <td>...</td>\n      <td>3.216090e+09</td>\n      <td>3216090.0</td>\n      <td>3216.0</td>\n      <td>32.0</td>\n      <td>Bahagia</td>\n      <td>Babelan</td>\n      <td>Bekasi</td>\n      <td>Jawa Barat</td>\n      <td>10.701.201</td>\n      <td>-618.004</td>\n    </tr>\n    <tr>\n      <th>744</th>\n      <td>106396</td>\n      <td>20/02/2020</td>\n      <td>0</td>\n      <td>grasp</td>\n      <td>confirmed</td>\n      <td>6918e92d-413e-4bd6-a6d3-2b9f48746de5</td>\n      <td>NaN</td>\n      <td>1</td>\n      <td>{ \"report_type\": \"flood\", \"flood_depth\": 75 }</td>\n      <td>{ \"district_id\": null, \"local_area_id\": null, ...</td>\n      <td>...</td>\n      <td>3.275041e+09</td>\n      <td>3275041.0</td>\n      <td>3275.0</td>\n      <td>32.0</td>\n      <td>Pengasinan</td>\n      <td>Rawalumbu</td>\n      <td>Bekasi</td>\n      <td>Jawa Barat</td>\n      <td>10.700.857</td>\n      <td>-626.569</td>\n    </tr>\n    <tr>\n      <th>746</th>\n      <td>106413</td>\n      <td>20/02/2020</td>\n      <td>0</td>\n      <td>detik</td>\n      <td>confirmed</td>\n      <td>https://pasangmata.detik.com/contribution/349282</td>\n      <td>https://akcdn.detik.net.id/community/pasma/202...</td>\n      <td>1</td>\n      <td>nan</td>\n      <td>{ \"district_id\": null, \"local_area_id\": null, ...</td>\n      <td>...</td>\n      <td>3.318040e+09</td>\n      <td>3318040.0</td>\n      <td>3318.0</td>\n      <td>33.0</td>\n      <td>Winong</td>\n      <td>Winong</td>\n      <td>Pati</td>\n      <td>Jawa Tengah</td>\n      <td>11.110.174</td>\n      <td>-680.686</td>\n    </tr>\n    <tr>\n      <th>3856</th>\n      <td>296671</td>\n      <td>28/08/2021</td>\n      <td>20:51:13</td>\n      <td>grasp</td>\n      <td>confirmed</td>\n      <td>f4a875e0-0186-457b-ab80-a4b7be0c1aed</td>\n      <td>https://images.petabencana.id/f4a875e0-0186-45...</td>\n      <td>1</td>\n      <td>{ \"report_type\": \"flood\", \"flood_depth\": 90 }</td>\n      <td>{ \"district_id\": null, \"local_area_id\": null, ...</td>\n      <td>...</td>\n      <td>7.313120e+09</td>\n      <td>7313120.0</td>\n      <td>7313.0</td>\n      <td>73.0</td>\n      <td>Benteng</td>\n      <td>Pitumpanua</td>\n      <td>Wajo</td>\n      <td>Sulawesi Selatan</td>\n      <td>120.384.104</td>\n      <td>-3.735.155</td>\n    </tr>\n  </tbody>\n</table>\n<p>5 rows × 21 columns</p>\n</div>"
     },
     "metadata": {}
    }
   ]
  },
  {
   "cell_type": "code",
   "metadata": {
    "tags": [],
    "deepnote_to_be_reexecuted": false,
    "source_hash": "177c63b8",
    "execution_start": 1661021805386,
    "execution_millis": 16,
    "cell_id": "00035-eefcf064-cde4-4280-8609-7a387f7ed560",
    "deepnote_cell_type": "code",
    "deepnote_cell_height": 148.1875,
    "deepnote_output_heights": [
     20.1875
    ]
   },
   "source": "#drop duplicates values\ndf.drop_duplicates(ignore_index=True,inplace=True)\ndf.shape",
   "execution_count": 17,
   "outputs": [
    {
     "output_type": "execute_result",
     "execution_count": 17,
     "data": {
      "text/plain": "(4230, 21)"
     },
     "metadata": {}
    }
   ]
  },
  {
   "cell_type": "code",
   "source": "# delete irrelevant column from table 1\ndf = df.drop(columns=['Desa', 'Kecamatan', 'status','title', 'tags', 'pkey', 'url', 'image_url', 'ID_Desa', 'ID_Kec','ID_Kab', 'ID_Prov', 'time', 'report_dat'])\ndf.info()",
   "metadata": {
    "id": "rkwF83P2ZM11",
    "deepnote_to_be_reexecuted": false,
    "source_hash": "6dc82e00",
    "execution_start": 1661021805445,
    "execution_millis": 3,
    "cell_id": "00028-28241af8-173a-4615-a865-9db614fa25e7",
    "deepnote_cell_type": "code",
    "deepnote_cell_height": 408
   },
   "execution_count": 18,
   "outputs": [
    {
     "name": "stdout",
     "text": "<class 'pandas.core.frame.DataFrame'>\nRangeIndex: 4230 entries, 0 to 4229\nData columns (total 7 columns):\n #   Column         Non-Null Count  Dtype \n---  ------         --------------  ----- \n 0   date           4230 non-null   object\n 1   source         4230 non-null   object\n 2   disaster_type  4230 non-null   int64 \n 3   Kabupaten      4223 non-null   object\n 4   Provinsi       4223 non-null   object\n 5   long           4230 non-null   object\n 6   lat            4230 non-null   object\ndtypes: int64(1), object(6)\nmemory usage: 231.5+ KB\n",
     "output_type": "stream"
    }
   ]
  },
  {
   "cell_type": "code",
   "source": "#rename all column of all table\ndf.columns = ['date', 'src', 'type', 'kab', 'prov', 'long', 'lat']",
   "metadata": {
    "tags": [],
    "deepnote_to_be_reexecuted": false,
    "source_hash": "717899f0",
    "execution_start": 1661021805446,
    "execution_millis": 0,
    "cell_id": "00031-f6177c5c-796c-4fd8-9b7b-089d12fdf41f",
    "deepnote_cell_type": "code",
    "deepnote_cell_height": 94
   },
   "execution_count": 19,
   "outputs": []
  },
  {
   "cell_type": "markdown",
   "source": "### 2.2 Missing Values",
   "metadata": {
    "id": "BWFsEv2_S3BT",
    "cell_id": "00040-0f7c9955-a26c-42d2-abb2-4d773541aa0b",
    "deepnote_cell_type": "markdown",
    "deepnote_cell_height": 62
   }
  },
  {
   "cell_type": "markdown",
   "source": "1. Per Sample on table 1",
   "metadata": {
    "id": "bU2wnZSxTXRN",
    "cell_id": "00041-c5c5b72f-5967-42d2-9d0a-2286764849e2",
    "deepnote_cell_type": "markdown",
    "deepnote_cell_height": 69.390625
   }
  },
  {
   "cell_type": "code",
   "metadata": {
    "id": "wdKd_rXeTds1",
    "deepnote_to_be_reexecuted": false,
    "source_hash": "d794f466",
    "execution_start": 1661021805447,
    "execution_millis": 24,
    "cell_id": "00042-a8d39404-8a5b-41db-813d-3c1f5c475d88",
    "deepnote_cell_type": "code",
    "deepnote_cell_height": 246.578125,
    "deepnote_output_heights": [
     154.59375
    ]
   },
   "source": "df.isna().sum()",
   "execution_count": 20,
   "outputs": [
    {
     "output_type": "execute_result",
     "execution_count": 20,
     "data": {
      "text/plain": "date    0\nsrc     0\ntype    0\nkab     7\nprov    7\nlong    0\nlat     0\ndtype: int64"
     },
     "metadata": {}
    }
   ]
  },
  {
   "cell_type": "code",
   "metadata": {
    "id": "JFsQjxy8TeL1",
    "deepnote_to_be_reexecuted": false,
    "source_hash": "55e0e65e",
    "execution_start": 1661021805469,
    "execution_millis": 3,
    "cell_id": "00043-03da3985-0094-422d-8ea6-37eee7d89668",
    "deepnote_cell_type": "code",
    "deepnote_cell_height": 161
   },
   "source": "#Make sure mode of kab and prov valid\nmodus_kab = df['kab'].mode()[0]\nmodus_prov = df['prov'].mode()[0]\nprint(f\"modus_kab = {modus_kab}, modus_prov = {modus_prov}\")",
   "execution_count": 21,
   "outputs": [
    {
     "name": "stdout",
     "text": "modus_kab = Jakarta Timur, modus_prov = Daerah Khusus Ibukota Jakarta\n",
     "output_type": "stream"
    }
   ]
  },
  {
   "cell_type": "code",
   "metadata": {
    "id": "5fhsmMkKTWfx",
    "deepnote_to_be_reexecuted": false,
    "source_hash": "27732a5e",
    "execution_start": 1661021805470,
    "execution_millis": 0,
    "cell_id": "00044-a7603c41-e9cc-4474-b5b5-766fb2dba3dd",
    "deepnote_cell_type": "code",
    "deepnote_cell_height": 76
   },
   "source": "df['kab'] = df['kab'].fillna(modus_kab)",
   "execution_count": 22,
   "outputs": []
  },
  {
   "cell_type": "code",
   "metadata": {
    "tags": [],
    "deepnote_to_be_reexecuted": false,
    "source_hash": "3822f6d8",
    "execution_start": 1661021805471,
    "execution_millis": 2,
    "cell_id": "00045-d4686636-3742-40b9-8be0-8de6c098d904",
    "deepnote_cell_type": "code",
    "deepnote_cell_height": 76
   },
   "source": "df['prov'] = df['prov'].fillna(modus_prov)",
   "execution_count": 23,
   "outputs": []
  },
  {
   "cell_type": "code",
   "metadata": {
    "tags": [],
    "deepnote_to_be_reexecuted": false,
    "source_hash": "d794f466",
    "execution_start": 1661021805478,
    "execution_millis": 5,
    "cell_id": "00046-b4ecc558-3cb0-4ab7-910d-c5f107eae4b4",
    "deepnote_cell_type": "code",
    "deepnote_cell_height": 246.578125,
    "deepnote_output_heights": [
     154.59375
    ]
   },
   "source": "df.isna().sum()",
   "execution_count": 24,
   "outputs": [
    {
     "output_type": "execute_result",
     "execution_count": 24,
     "data": {
      "text/plain": "date    0\nsrc     0\ntype    0\nkab     0\nprov    0\nlong    0\nlat     0\ndtype: int64"
     },
     "metadata": {}
    }
   ]
  },
  {
   "cell_type": "markdown",
   "source": "<a style='text-decoration:none;line-height:16px;display:flex;color:#5B5B62;padding:10px;justify-content:end;' href='https://deepnote.com?utm_source=created-in-deepnote-cell&projectId=e5796937-50eb-437b-95bb-507260916b44' target=\"_blank\">\n<img alt='Created in deepnote.com' style='display:inline;max-height:16px;margin:0px;margin-right:7.5px;' src='data:image/svg+xml;base64,PD94bWwgdmVyc2lvbj0iMS4wIiBlbmNvZGluZz0iVVRGLTgiPz4KPHN2ZyB3aWR0aD0iODBweCIgaGVpZ2h0PSI4MHB4IiB2aWV3Qm94PSIwIDAgODAgODAiIHZlcnNpb249IjEuMSIgeG1sbnM9Imh0dHA6Ly93d3cudzMub3JnLzIwMDAvc3ZnIiB4bWxuczp4bGluaz0iaHR0cDovL3d3dy53My5vcmcvMTk5OS94bGluayI+CiAgICA8IS0tIEdlbmVyYXRvcjogU2tldGNoIDU0LjEgKDc2NDkwKSAtIGh0dHBzOi8vc2tldGNoYXBwLmNvbSAtLT4KICAgIDx0aXRsZT5Hcm91cCAzPC90aXRsZT4KICAgIDxkZXNjPkNyZWF0ZWQgd2l0aCBTa2V0Y2guPC9kZXNjPgogICAgPGcgaWQ9IkxhbmRpbmciIHN0cm9rZT0ibm9uZSIgc3Ryb2tlLXdpZHRoPSIxIiBmaWxsPSJub25lIiBmaWxsLXJ1bGU9ImV2ZW5vZGQiPgogICAgICAgIDxnIGlkPSJBcnRib2FyZCIgdHJhbnNmb3JtPSJ0cmFuc2xhdGUoLTEyMzUuMDAwMDAwLCAtNzkuMDAwMDAwKSI+CiAgICAgICAgICAgIDxnIGlkPSJHcm91cC0zIiB0cmFuc2Zvcm09InRyYW5zbGF0ZSgxMjM1LjAwMDAwMCwgNzkuMDAwMDAwKSI+CiAgICAgICAgICAgICAgICA8cG9seWdvbiBpZD0iUGF0aC0yMCIgZmlsbD0iIzAyNjVCNCIgcG9pbnRzPSIyLjM3NjIzNzYyIDgwIDM4LjA0NzY2NjcgODAgNTcuODIxNzgyMiA3My44MDU3NTkyIDU3LjgyMTc4MjIgMzIuNzU5MjczOSAzOS4xNDAyMjc4IDMxLjY4MzE2ODMiPjwvcG9seWdvbj4KICAgICAgICAgICAgICAgIDxwYXRoIGQ9Ik0zNS4wMDc3MTgsODAgQzQyLjkwNjIwMDcsNzYuNDU0OTM1OCA0Ny41NjQ5MTY3LDcxLjU0MjI2NzEgNDguOTgzODY2LDY1LjI2MTk5MzkgQzUxLjExMjI4OTksNTUuODQxNTg0MiA0MS42NzcxNzk1LDQ5LjIxMjIyODQgMjUuNjIzOTg0Niw0OS4yMTIyMjg0IEMyNS40ODQ5Mjg5LDQ5LjEyNjg0NDggMjkuODI2MTI5Niw0My4yODM4MjQ4IDM4LjY0NzU4NjksMzEuNjgzMTY4MyBMNzIuODcxMjg3MSwzMi41NTQ0MjUgTDY1LjI4MDk3Myw2Ny42NzYzNDIxIEw1MS4xMTIyODk5LDc3LjM3NjE0NCBMMzUuMDA3NzE4LDgwIFoiIGlkPSJQYXRoLTIyIiBmaWxsPSIjMDAyODY4Ij48L3BhdGg+CiAgICAgICAgICAgICAgICA8cGF0aCBkPSJNMCwzNy43MzA0NDA1IEwyNy4xMTQ1MzcsMC4yNTcxMTE0MzYgQzYyLjM3MTUxMjMsLTEuOTkwNzE3MDEgODAsMTAuNTAwMzkyNyA4MCwzNy43MzA0NDA1IEM4MCw2NC45NjA0ODgyIDY0Ljc3NjUwMzgsNzkuMDUwMzQxNCAzNC4zMjk1MTEzLDgwIEM0Ny4wNTUzNDg5LDc3LjU2NzA4MDggNTMuNDE4MjY3Nyw3MC4zMTM2MTAzIDUzLjQxODI2NzcsNTguMjM5NTg4NSBDNTMuNDE4MjY3Nyw0MC4xMjg1NTU3IDM2LjMwMzk1NDQsMzcuNzMwNDQwNSAyNS4yMjc0MTcsMzcuNzMwNDQwNSBDMTcuODQzMDU4NiwzNy43MzA0NDA1IDkuNDMzOTE5NjYsMzcuNzMwNDQwNSAwLDM3LjczMDQ0MDUgWiIgaWQ9IlBhdGgtMTkiIGZpbGw9IiMzNzkzRUYiPjwvcGF0aD4KICAgICAgICAgICAgPC9nPgogICAgICAgIDwvZz4KICAgIDwvZz4KPC9zdmc+' > </img>\nCreated in <span style='font-weight:600;margin-left:4px;'>Deepnote</span></a>",
   "metadata": {
    "tags": [],
    "created_in_deepnote_cell": true,
    "deepnote_cell_type": "markdown"
   }
  }
 ],
 "nbformat": 4,
 "nbformat_minor": 0,
 "metadata": {
  "colab": {
   "name": "Copy of EDA - Compfest.ipynb",
   "provenance": [],
   "collapsed_sections": []
  },
  "kernelspec": {
   "name": "python3",
   "display_name": "Python 3"
  },
  "language_info": {
   "name": "python"
  },
  "deepnote_notebook_id": "dc8da83c-8af0-4f2a-bc9c-50832faa172e",
  "deepnote": {},
  "deepnote_execution_queue": []
 }
}