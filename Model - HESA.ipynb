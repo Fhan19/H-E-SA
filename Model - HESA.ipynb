{
 "cells": [
  {
   "cell_type": "markdown",
   "source": "## HESA",
   "metadata": {
    "is_collapsed": false,
    "cell_id": "d1785f6b968e4bc9ba977fcbcb804cf9",
    "tags": [],
    "formattedRanges": [],
    "deepnote_cell_type": "text-cell-h2"
   }
  },
  {
   "cell_type": "markdown",
   "source": "- I Wayan Adi Saputra",
   "metadata": {
    "is_collapsed": false,
    "cell_id": "a3ff25ced4724611a492a33d62df1055",
    "tags": [],
    "formattedRanges": [],
    "deepnote_cell_type": "text-cell-bullet"
   }
  },
  {
   "cell_type": "code",
   "source": "#import package\nimport numpy as np\nimport pandas as pd\nimport matplotlib.pyplot as plt\nimport seaborn as sns\nimport random as rd",
   "metadata": {
    "tags": [],
    "cell_id": "4b0832b3-e73d-4d12-8ab4-f30f67b34fba",
    "deepnote_to_be_reexecuted": false,
    "source_hash": "555903e2",
    "execution_start": 1661020780158,
    "execution_millis": 1575,
    "deepnote_cell_type": "code",
    "deepnote_cell_height": 166
   },
   "execution_count": 1,
   "outputs": []
  },
  {
   "cell_type": "code",
   "source": "#Load dataset\ndf = pd.read_csv('./dataset/PetaBencana_Dataset.csv')\ndf",
   "metadata": {
    "cell_id": "6c6eb580829c4211bdcfc2e366c23527",
    "tags": [],
    "deepnote_to_be_reexecuted": false,
    "source_hash": "d4adc10c",
    "execution_start": 1661020781739,
    "execution_millis": 159,
    "deepnote_cell_type": "code",
    "deepnote_cell_height": 648
   },
   "outputs": [
    {
     "output_type": "execute_result",
     "execution_count": 2,
     "data": {
      "application/vnd.deepnote.dataframe.v3+json": {
       "column_count": 21,
       "row_count": 4235,
       "columns": [
        {
         "name": "pkey",
         "dtype": "int64",
         "stats": {
          "unique_count": 4230,
          "nan_count": 0,
          "min": "94941",
          "max": "299728",
          "histogram": [
           {
            "bin_start": 94941,
            "bin_end": 115419.7,
            "count": 1844
           },
           {
            "bin_start": 115419.7,
            "bin_end": 135898.4,
            "count": 3
           },
           {
            "bin_start": 135898.4,
            "bin_end": 156377.1,
            "count": 34
           },
           {
            "bin_start": 156377.1,
            "bin_end": 176855.8,
            "count": 126
           },
           {
            "bin_start": 176855.8,
            "bin_end": 197334.5,
            "count": 293
           },
           {
            "bin_start": 197334.5,
            "bin_end": 217813.2,
            "count": 149
           },
           {
            "bin_start": 217813.2,
            "bin_end": 238291.9,
            "count": 484
           },
           {
            "bin_start": 238291.9,
            "bin_end": 258770.6,
            "count": 318
           },
           {
            "bin_start": 258770.6,
            "bin_end": 279249.30000000005,
            "count": 345
           },
           {
            "bin_start": 279249.30000000005,
            "bin_end": 299728,
            "count": 639
           }
          ]
         }
        },
        {
         "name": "date",
         "dtype": "object",
         "stats": {
          "unique_count": 463,
          "nan_count": 0,
          "categories": [
           {
            "name": "25/02/2020",
            "count": 423
           },
           {
            "name": "24/02/2020",
            "count": 386
           },
           {
            "name": "461 others",
            "count": 3426
           }
          ]
         }
        },
        {
         "name": "time",
         "dtype": "object",
         "stats": {
          "unique_count": 2497,
          "nan_count": 0,
          "categories": [
           {
            "name": "1",
            "count": 838
           },
           {
            "name": "0",
            "count": 737
           },
           {
            "name": "2495 others",
            "count": 2660
           }
          ]
         }
        },
        {
         "name": "source",
         "dtype": "object",
         "stats": {
          "unique_count": 3,
          "nan_count": 0,
          "categories": [
           {
            "name": "grasp",
            "count": 3382
           },
           {
            "name": "qlue",
            "count": 665
           },
           {
            "name": "detik",
            "count": 188
           }
          ]
         }
        },
        {
         "name": "status",
         "dtype": "object",
         "stats": {
          "unique_count": 1,
          "nan_count": 0,
          "categories": [
           {
            "name": "confirmed",
            "count": 4235
           }
          ]
         }
        },
        {
         "name": "url",
         "dtype": "object",
         "stats": {
          "unique_count": 3565,
          "nan_count": 665,
          "categories": [
           {
            "name": "d9eb102c-87ff-4c08-9a58-a9751077007d",
            "count": 2
           },
           {
            "name": "3564 others",
            "count": 3568
           },
           {
            "name": "Missing",
            "count": 665
           }
          ]
         }
        },
        {
         "name": "image_url",
         "dtype": "object",
         "stats": {
          "unique_count": 3249,
          "nan_count": 901,
          "categories": [
           {
            "name": "https://lh3.googleusercontent.com/1nth291CbgiXY8oDog_A4f6FXsGGr3ck4dHf85b6i7G1dOA5YamnBgE-aLQVuazfUfHjFFHdHPaDwV55YLhdJASRPR0Q=s480-c",
            "count": 4
           },
           {
            "name": "3248 others",
            "count": 3330
           },
           {
            "name": "Missing",
            "count": 901
           }
          ]
         }
        },
        {
         "name": "disaster_type",
         "dtype": "object",
         "stats": {
          "unique_count": 6,
          "nan_count": 0,
          "categories": [
           {
            "name": "flood",
            "count": 4008
           },
           {
            "name": "earthquake",
            "count": 131
           },
           {
            "name": "4 others",
            "count": 96
           }
          ]
         }
        },
        {
         "name": "report_dat",
         "dtype": "object",
         "stats": {
          "unique_count": 558,
          "nan_count": 780,
          "categories": [
           {
            "name": "{ \"report_type\": \"flood\", \"flood_depth\": 44 }",
            "count": 198
           },
           {
            "name": "557 others",
            "count": 3257
           },
           {
            "name": "Missing",
            "count": 780
           }
          ]
         }
        },
        {
         "name": "tags",
         "dtype": "object",
         "stats": {
          "unique_count": 1006,
          "nan_count": 0,
          "categories": [
           {
            "name": "{ \"district_id\": null, \"local_area_id\": null, \"instance_region_code\": \"ID-JB\" }",
            "count": 640
           },
           {
            "name": "{ \"district_id\": null, \"local_area_id\": null, \"instance_region_code\": \"ID-BT\" }",
            "count": 167
           },
           {
            "name": "1004 others",
            "count": 3428
           }
          ]
         }
        },
        {
         "name": "title",
         "dtype": "object",
         "stats": {
          "unique_count": 187,
          "nan_count": 4047,
          "categories": [
           {
            "name": "Jalan Pati-Tayu Banjir, Beberapa Kendaraan Mogok",
            "count": 2
           },
           {
            "name": "186 others",
            "count": 186
           },
           {
            "name": "Missing",
            "count": 4047
           }
          ]
         }
        },
        {
         "name": "ID_Desa",
         "dtype": "float64",
         "stats": {
          "unique_count": 1268,
          "nan_count": 8,
          "min": "1103030001.0",
          "max": "9420020002.0",
          "histogram": [
           {
            "bin_start": 1103030001,
            "bin_end": 1934729001.1,
            "count": 96
           },
           {
            "bin_start": 1934729001.1,
            "bin_end": 2766428001.2,
            "count": 3
           },
           {
            "bin_start": 2766428001.2,
            "bin_end": 3598127001.3,
            "count": 3425
           },
           {
            "bin_start": 3598127001.3,
            "bin_end": 4429826001.4,
            "count": 215
           },
           {
            "bin_start": 4429826001.4,
            "bin_end": 5261525001.5,
            "count": 67
           },
           {
            "bin_start": 5261525001.5,
            "bin_end": 6093224001.6,
            "count": 22
           },
           {
            "bin_start": 6093224001.6,
            "bin_end": 6924923001.7,
            "count": 301
           },
           {
            "bin_start": 6924923001.7,
            "bin_end": 7756622001.8,
            "count": 84
           },
           {
            "bin_start": 7756622001.8,
            "bin_end": 8588321001.900001,
            "count": 4
           },
           {
            "bin_start": 8588321001.900001,
            "bin_end": 9420020002,
            "count": 10
           }
          ]
         }
        },
        {
         "name": "ID_Kec",
         "dtype": "float64",
         "stats": {
          "unique_count": 677,
          "nan_count": 8,
          "min": "1103030.0",
          "max": "9420020.0",
          "histogram": [
           {
            "bin_start": 1103030,
            "bin_end": 1934729,
            "count": 96
           },
           {
            "bin_start": 1934729,
            "bin_end": 2766428,
            "count": 3
           },
           {
            "bin_start": 2766428,
            "bin_end": 3598127,
            "count": 3425
           },
           {
            "bin_start": 3598127,
            "bin_end": 4429826,
            "count": 215
           },
           {
            "bin_start": 4429826,
            "bin_end": 5261525,
            "count": 67
           },
           {
            "bin_start": 5261525,
            "bin_end": 6093224,
            "count": 22
           },
           {
            "bin_start": 6093224,
            "bin_end": 6924923,
            "count": 301
           },
           {
            "bin_start": 6924923,
            "bin_end": 7756622,
            "count": 84
           },
           {
            "bin_start": 7756622,
            "bin_end": 8588321,
            "count": 4
           },
           {
            "bin_start": 8588321,
            "bin_end": 9420020,
            "count": 10
           }
          ]
         }
        },
        {
         "name": "ID_Kab",
         "dtype": "float64",
         "stats": {
          "unique_count": 238,
          "nan_count": 8,
          "min": "1103.0",
          "max": "9420.0",
          "histogram": [
           {
            "bin_start": 1103,
            "bin_end": 1934.7,
            "count": 96
           },
           {
            "bin_start": 1934.7,
            "bin_end": 2766.4,
            "count": 3
           },
           {
            "bin_start": 2766.4,
            "bin_end": 3598.1000000000004,
            "count": 3425
           },
           {
            "bin_start": 3598.1000000000004,
            "bin_end": 4429.8,
            "count": 215
           },
           {
            "bin_start": 4429.8,
            "bin_end": 5261.5,
            "count": 67
           },
           {
            "bin_start": 5261.5,
            "bin_end": 6093.200000000001,
            "count": 22
           },
           {
            "bin_start": 6093.200000000001,
            "bin_end": 6924.900000000001,
            "count": 301
           },
           {
            "bin_start": 6924.900000000001,
            "bin_end": 7756.6,
            "count": 84
           },
           {
            "bin_start": 7756.6,
            "bin_end": 8588.3,
            "count": 4
           },
           {
            "bin_start": 8588.3,
            "bin_end": 9420,
            "count": 10
           }
          ]
         }
        },
        {
         "name": "ID_Prov",
         "dtype": "float64",
         "stats": {
          "unique_count": 34,
          "nan_count": 8,
          "min": "11.0",
          "max": "94.0",
          "histogram": [
           {
            "bin_start": 11,
            "bin_end": 19.3,
            "count": 97
           },
           {
            "bin_start": 19.3,
            "bin_end": 27.6,
            "count": 2
           },
           {
            "bin_start": 27.6,
            "bin_end": 35.900000000000006,
            "count": 3425
           },
           {
            "bin_start": 35.900000000000006,
            "bin_end": 44.2,
            "count": 215
           },
           {
            "bin_start": 44.2,
            "bin_end": 52.5,
            "count": 71
           },
           {
            "bin_start": 52.5,
            "bin_end": 60.800000000000004,
            "count": 18
           },
           {
            "bin_start": 60.800000000000004,
            "bin_end": 69.10000000000001,
            "count": 301
           },
           {
            "bin_start": 69.10000000000001,
            "bin_end": 77.4,
            "count": 84
           },
           {
            "bin_start": 77.4,
            "bin_end": 85.7,
            "count": 4
           },
           {
            "bin_start": 85.7,
            "bin_end": 94,
            "count": 10
           }
          ]
         }
        },
        {
         "name": "Desa",
         "dtype": "object",
         "stats": {
          "unique_count": 1221,
          "nan_count": 8,
          "categories": [
           {
            "name": "Duri Kepa",
            "count": 91
           },
           {
            "name": "1220 others",
            "count": 4136
           },
           {
            "name": "Missing",
            "count": 8
           }
          ]
         }
        },
        {
         "name": "Kecamatan",
         "dtype": "object",
         "stats": {
          "unique_count": 667,
          "nan_count": 8,
          "categories": [
           {
            "name": "Kebon Jeruk",
            "count": 151
           },
           {
            "name": "666 others",
            "count": 4076
           },
           {
            "name": "Missing",
            "count": 8
           }
          ]
         }
        },
        {
         "name": "Kabupaten",
         "dtype": "object",
         "stats": {
          "unique_count": 223,
          "nan_count": 7,
          "categories": [
           {
            "name": "Jakarta Timur",
            "count": 681
           },
           {
            "name": "222 others",
            "count": 3547
           },
           {
            "name": "Missing",
            "count": 7
           }
          ]
         }
        },
        {
         "name": "Provinsi",
         "dtype": "object",
         "stats": {
          "unique_count": 34,
          "nan_count": 7,
          "categories": [
           {
            "name": "Daerah Khusus Ibukota Jakarta",
            "count": 2324
           },
           {
            "name": "33 others",
            "count": 1904
           },
           {
            "name": "Missing",
            "count": 7
           }
          ]
         }
        },
        {
         "name": "long",
         "dtype": "object",
         "stats": {
          "unique_count": 3844,
          "nan_count": 0,
          "categories": [
           {
            "name": "10.686.539",
            "count": 19
           },
           {
            "name": "10.777.668",
            "count": 10
           },
           {
            "name": "3842 others",
            "count": 4206
           }
          ]
         }
        },
        {
         "name": "lat",
         "dtype": "object",
         "stats": {
          "unique_count": 3786,
          "nan_count": 0,
          "categories": [
           {
            "name": "-617.469",
            "count": 14
           },
           {
            "name": "-617.539",
            "count": 11
           },
           {
            "name": "3784 others",
            "count": 4210
           }
          ]
         }
        },
        {
         "name": "_deepnote_index_column",
         "dtype": "int64"
        }
       ],
       "rows": [
        {
         "pkey": 94941,
         "date": "01/01/2020",
         "time": "0:03:02",
         "source": "grasp",
         "status": "confirmed",
         "url": "2042596d-b551-4ef2-803d-1ee964cf2278",
         "image_url": "https://images.petabencana.id/2042596d-b551-4ef2-803d-1ee964cf2278.jpg",
         "disaster_type": "flood",
         "report_dat": "{ \"report_type\": \"flood\", \"flood_depth\": 30 }",
         "tags": "{ \"district_id\": \"3174\", \"local_area_id\": \"125\", \"instance_region_code\": \"ID-JK\" }",
         "title": "nan",
         "ID_Desa": 3174020005,
         "ID_Kec": 3174020,
         "ID_Kab": 3174,
         "ID_Prov": 31,
         "Desa": "Duri Kepa",
         "Kecamatan": "Kebon Jeruk",
         "Kabupaten": "Jakarta Barat",
         "Provinsi": "Daerah Khusus Ibukota Jakarta",
         "long": "10.676.866",
         "lat": "-616.978",
         "_deepnote_index_column": 0
        },
        {
         "pkey": 95061,
         "date": "01/01/2020",
         "time": "0:43:02",
         "source": "grasp",
         "status": "confirmed",
         "url": "5a0ad45f-7020-43b7-882f-672487ebc6d8",
         "image_url": "https://images.petabencana.id/5a0ad45f-7020-43b7-882f-672487ebc6d8.jpg",
         "disaster_type": "flood",
         "report_dat": "{ \"points\": 1, \"flood_depth\": 80, \"report_type\": \"flood\" }",
         "tags": "{ \"district_id\": null, \"local_area_id\": null, \"instance_region_code\": \"ID-JK\" }",
         "title": "nan",
         "ID_Desa": 3275061004,
         "ID_Kec": 3275061,
         "ID_Kab": 3275,
         "ID_Prov": 32,
         "Desa": "Pejuang",
         "Kecamatan": "Medan Satria",
         "Kabupaten": "Bekasi",
         "Provinsi": "Jawa Barat",
         "long": "10.697.870",
         "lat": "-617.944",
         "_deepnote_index_column": 1
        },
        {
         "pkey": 95062,
         "date": "01/01/2020",
         "time": "1:14:53",
         "source": "grasp",
         "status": "confirmed",
         "url": "e065b40d-2084-48d6-b42f-1f98cb33e4cc",
         "image_url": "nan",
         "disaster_type": "flood",
         "report_dat": "{ \"points\": 1, \"flood_depth\": 51, \"report_type\": \"flood\" }",
         "tags": "{ \"district_id\": \"3172\", \"local_area_id\": \"1789\", \"instance_region_code\": \"ID-JK\" }",
         "title": "nan",
         "ID_Desa": 3172060004,
         "ID_Kec": 3172060,
         "ID_Kab": 3172,
         "ID_Prov": 31,
         "Desa": "Cipinang Muara",
         "Kecamatan": "Jatinegara",
         "Kabupaten": "Jakarta Timur",
         "Provinsi": "Daerah Khusus Ibukota Jakarta",
         "long": "10.689.100",
         "lat": "-623.449",
         "_deepnote_index_column": 2
        },
        {
         "pkey": 95063,
         "date": "01/01/2020",
         "time": "1:15:08",
         "source": "grasp",
         "status": "confirmed",
         "url": "7cb26903-b1c8-4be7-8b81-7014c8a83fbd",
         "image_url": "https://images.petabencana.id/7cb26903-b1c8-4be7-8b81-7014c8a83fbd.jpg",
         "disaster_type": "flood",
         "report_dat": "{ \"points\": 2, \"flood_depth\": 100, \"report_type\": \"flood\" }",
         "tags": "{ \"district_id\": null, \"local_area_id\": null, \"instance_region_code\": \"ID-JK\" }",
         "title": "nan",
         "ID_Desa": 3216061004,
         "ID_Kec": 3216061,
         "ID_Kab": 3216,
         "ID_Prov": 32,
         "Desa": "Mekarmukti",
         "Kecamatan": "Cikarang Utara",
         "Kabupaten": "Bekasi",
         "Provinsi": "Jawa Barat",
         "long": "10.716.189",
         "lat": "-630.170",
         "_deepnote_index_column": 3
        },
        {
         "pkey": 95064,
         "date": "01/01/2020",
         "time": "1:18:03",
         "source": "grasp",
         "status": "confirmed",
         "url": "570d2cb8-d5b6-404f-86ef-8a2a0d27f391",
         "image_url": "https://images.petabencana.id/570d2cb8-d5b6-404f-86ef-8a2a0d27f391.jpg",
         "disaster_type": "flood",
         "report_dat": "{ \"points\": 1, \"flood_depth\": 15, \"report_type\": \"flood\" }",
         "tags": "{ \"district_id\": \"3173\", \"local_area_id\": \"193\", \"instance_region_code\": \"ID-JK\" }",
         "title": "nan",
         "ID_Desa": 3173060002,
         "ID_Kec": 3173060,
         "ID_Kab": 3173,
         "ID_Prov": 31,
         "Desa": "Cempaka Baru",
         "Kecamatan": "Kemayoran",
         "Kabupaten": "Jakarta Pusat",
         "Provinsi": "Daerah Khusus Ibukota Jakarta",
         "long": "10.686.092",
         "lat": "-616.859",
         "_deepnote_index_column": 4
        },
        {
         "pkey": 95065,
         "date": "01/01/2020",
         "time": "1:25:02",
         "source": "grasp",
         "status": "confirmed",
         "url": "04b4f2a6-929c-47cc-8adb-7a1e16c88951",
         "image_url": "https://images.petabencana.id/04b4f2a6-929c-47cc-8adb-7a1e16c88951.jpg",
         "disaster_type": "flood",
         "report_dat": "{ \"report_type\": \"flood\", \"flood_depth\": 60 }",
         "tags": "{ \"district_id\": \"3174\", \"local_area_id\": \"220\", \"instance_region_code\": \"ID-JK\" }",
         "title": "nan",
         "ID_Desa": 3174010004,
         "ID_Kec": 3174010,
         "ID_Kab": 3174,
         "ID_Prov": 31,
         "Desa": "Meruya Utara",
         "Kecamatan": "Kembangan",
         "Kabupaten": "Jakarta Barat",
         "Provinsi": "Daerah Khusus Ibukota Jakarta",
         "long": "10.673.835",
         "lat": "-619.933",
         "_deepnote_index_column": 5
        },
        {
         "pkey": 95066,
         "date": "01/01/2020",
         "time": "1:33:59",
         "source": "grasp",
         "status": "confirmed",
         "url": "7d6aef62-364f-407e-af24-5666c8c0ca04",
         "image_url": "https://images.petabencana.id/7d6aef62-364f-407e-af24-5666c8c0ca04.jpg",
         "disaster_type": "flood",
         "report_dat": "{ \"report_type\": \"flood\", \"flood_depth\": 39 }",
         "tags": "{ \"district_id\": null, \"local_area_id\": null, \"instance_region_code\": \"ID-JK\" }",
         "title": "nan",
         "ID_Desa": 3275061004,
         "ID_Kec": 3275061,
         "ID_Kab": 3275,
         "ID_Prov": 32,
         "Desa": "Pejuang",
         "Kecamatan": "Medan Satria",
         "Kabupaten": "Bekasi",
         "Provinsi": "Jawa Barat",
         "long": "10.698.668",
         "lat": "-618.996",
         "_deepnote_index_column": 6
        },
        {
         "pkey": 95067,
         "date": "01/01/2020",
         "time": "1:43:07",
         "source": "grasp",
         "status": "confirmed",
         "url": "2114b7b1-9da6-421c-8d8e-ad4f2404cde3",
         "image_url": "https://images.petabencana.id/2114b7b1-9da6-421c-8d8e-ad4f2404cde3.jpg",
         "disaster_type": "flood",
         "report_dat": "{ \"report_type\": \"flood\", \"flood_depth\": 36 }",
         "tags": "{ \"district_id\": \"3174\", \"local_area_id\": \"241\", \"instance_region_code\": \"ID-JK\" }",
         "title": "nan",
         "ID_Desa": 3174010004,
         "ID_Kec": 3174010,
         "ID_Kab": 3174,
         "ID_Prov": 31,
         "Desa": "Meruya Utara",
         "Kecamatan": "Kembangan",
         "Kabupaten": "Jakarta Barat",
         "Provinsi": "Daerah Khusus Ibukota Jakarta",
         "long": "10.674.001",
         "lat": "-619.439",
         "_deepnote_index_column": 7
        },
        {
         "pkey": 95068,
         "date": "01/01/2020",
         "time": "2:05:36",
         "source": "grasp",
         "status": "confirmed",
         "url": "7662d562-9845-4d41-ab58-b939e4d89bf7",
         "image_url": "https://images.petabencana.id/7662d562-9845-4d41-ab58-b939e4d89bf7.jpg",
         "disaster_type": "flood",
         "report_dat": "{ \"report_type\": \"flood\", \"flood_depth\": 79 }",
         "tags": "{ \"district_id\": \"3174\", \"local_area_id\": \"938\", \"instance_region_code\": \"ID-JK\" }",
         "title": "nan",
         "ID_Desa": 3174070001,
         "ID_Kec": 3174070,
         "ID_Kab": 3174,
         "ID_Prov": 31,
         "Desa": "Duri Kosambi",
         "Kecamatan": "Cengkareng",
         "Kabupaten": "Jakarta Barat",
         "Provinsi": "Daerah Khusus Ibukota Jakarta",
         "long": "10.672.181",
         "lat": "-616.777",
         "_deepnote_index_column": 8
        },
        {
         "pkey": 95069,
         "date": "01/01/2020",
         "time": "2:04:34",
         "source": "detik",
         "status": "confirmed",
         "url": "https://pasangmata.detik.com/contribution/346984",
         "image_url": "https://akcdn.detik.net.id/community/data/media/thumbs-pasangmata/2020/01/01/346984-15778442741799653252.mp4-03.jpg",
         "disaster_type": "flood",
         "report_dat": "nan",
         "tags": "{ \"district_id\": null, \"local_area_id\": null, \"instance_region_code\": \"ID-JK\" }",
         "title": "Banjir di Taman Yasmin Raya Masjid Jami Ar-Raudhah Bekasi",
         "ID_Desa": 3275061004,
         "ID_Kec": 3275061,
         "ID_Kab": 3275,
         "ID_Prov": 32,
         "Desa": "Pejuang",
         "Kecamatan": "Medan Satria",
         "Kabupaten": "Bekasi",
         "Provinsi": "Jawa Barat",
         "long": "10.699.478",
         "lat": "-618.322",
         "_deepnote_index_column": 9
        }
       ]
      },
      "text/plain": "        pkey        date          time source     status  \\\n0      94941  01/01/2020       0:03:02  grasp  confirmed   \n1      95061  01/01/2020       0:43:02  grasp  confirmed   \n2      95062  01/01/2020       1:14:53  grasp  confirmed   \n3      95063  01/01/2020       1:15:08  grasp  confirmed   \n4      95064  01/01/2020       1:18:03  grasp  confirmed   \n...      ...         ...           ...    ...        ...   \n4230  299721  28/12/2021  01:23:43.144  grasp  confirmed   \n4231  299723  28/12/2021  08:00:13.901  grasp  confirmed   \n4232  299724  28/12/2021  10:49:48.763  grasp  confirmed   \n4233  299726  29/12/2021  07:22:30.000  detik  confirmed   \n4234  299728  30/12/2021  09:32:41.979  grasp  confirmed   \n\n                                                   url  \\\n0                 2042596d-b551-4ef2-803d-1ee964cf2278   \n1                 5a0ad45f-7020-43b7-882f-672487ebc6d8   \n2                 e065b40d-2084-48d6-b42f-1f98cb33e4cc   \n3                 7cb26903-b1c8-4be7-8b81-7014c8a83fbd   \n4                 570d2cb8-d5b6-404f-86ef-8a2a0d27f391   \n...                                                ...   \n4230              8f41806c-9d86-47a8-b52a-28cf0ec0a0be   \n4231              d1bcdbc7-1819-41aa-b5fe-34d0162bb084   \n4232              ee548663-23ad-4adb-8d85-f8c64b1fbb6c   \n4233  https://pasangmata.detik.com/contribution/363227   \n4234              14171753-a6db-40e7-8acf-31dec5dff2d6   \n\n                                              image_url disaster_type  \\\n0     https://images.petabencana.id/2042596d-b551-4e...         flood   \n1     https://images.petabencana.id/5a0ad45f-7020-43...         flood   \n2                                                   NaN         flood   \n3     https://images.petabencana.id/7cb26903-b1c8-4b...         flood   \n4     https://images.petabencana.id/570d2cb8-d5b6-40...         flood   \n...                                                 ...           ...   \n4230  https://images.petabencana.id/8f41806c-9d86-47...         flood   \n4231                                                NaN         flood   \n4232  https://images.petabencana.id/ee548663-23ad-4a...         flood   \n4233  https://akcdn.detik.net.id/community/pasma/202...         flood   \n4234  https://images.petabencana.id/14171753-a6db-40...         flood   \n\n                                             report_dat  \\\n0         { \"report_type\": \"flood\", \"flood_depth\": 30 }   \n1     { \"points\": 1, \"flood_depth\": 80, \"report_type...   \n2     { \"points\": 1, \"flood_depth\": 51, \"report_type...   \n3     { \"points\": 2, \"flood_depth\": 100, \"report_typ...   \n4     { \"points\": 1, \"flood_depth\": 15, \"report_type...   \n...                                                 ...   \n4230     { \"report_type\": \"flood\", \"flood_depth\": 103 }   \n4231      { \"report_type\": \"flood\", \"flood_depth\": 54 }   \n4232      { \"report_type\": \"flood\", \"flood_depth\": 19 }   \n4233                                                NaN   \n4234      { \"report_type\": \"flood\", \"flood_depth\": 22 }   \n\n                                                   tags  ...       ID_Desa  \\\n0     { \"district_id\": \"3174\", \"local_area_id\": \"125...  ...  3.174020e+09   \n1     { \"district_id\": null, \"local_area_id\": null, ...  ...  3.275061e+09   \n2     { \"district_id\": \"3172\", \"local_area_id\": \"178...  ...  3.172060e+09   \n3     { \"district_id\": null, \"local_area_id\": null, ...  ...  3.216061e+09   \n4     { \"district_id\": \"3173\", \"local_area_id\": \"193...  ...  3.173060e+09   \n...                                                 ...  ...           ...   \n4230  { \"district_id\": null, \"local_area_id\": null, ...  ...  6.404054e+09   \n4231  { \"district_id\": \"3173\", \"local_area_id\": \"678...  ...  3.173070e+09   \n4232  { \"district_id\": null, \"local_area_id\": null, ...  ...  3.207111e+09   \n4233  { \"district_id\": \"3172\", \"local_area_id\": \"267...  ...  3.172040e+09   \n4234  { \"district_id\": null, \"local_area_id\": null, ...  ...  5.102040e+09   \n\n         ID_Kec  ID_Kab  ID_Prov             Desa       Kecamatan  \\\n0     3174020.0  3174.0     31.0        Duri Kepa     Kebon Jeruk   \n1     3275061.0  3275.0     32.0          Pejuang    Medan Satria   \n2     3172060.0  3172.0     31.0   Cipinang Muara      Jatinegara   \n3     3216061.0  3216.0     32.0       Mekarmukti  Cikarang Utara   \n4     3173060.0  3173.0     31.0     Cempaka Baru       Kemayoran   \n...         ...     ...      ...              ...             ...   \n4230  6404054.0  6404.0     64.0   Karangan Hilir        Karangan   \n4231  3173070.0  3173.0     31.0     Karang Anyar     Sawah Besar   \n4232  3207111.0  3207.0     32.0        Purwajaya       Purwadadi   \n4233  3172040.0  3172.0     31.0  Cipinang Melayu         Makasar   \n4234  5102040.0  5102.0     51.0     Banjar Anyar          Kediri   \n\n          Kabupaten                       Provinsi           long          lat  \n0     Jakarta Barat  Daerah Khusus Ibukota Jakarta     10.676.866     -616.978  \n1            Bekasi                     Jawa Barat     10.697.870     -617.944  \n2     Jakarta Timur  Daerah Khusus Ibukota Jakarta     10.689.100     -623.449  \n3            Bekasi                     Jawa Barat     10.716.189     -630.170  \n4     Jakarta Pusat  Daerah Khusus Ibukota Jakarta     10.686.092     -616.859  \n...             ...                            ...            ...          ...  \n4230    Kutai Timur               Kalimantan Timur  1.176.655.040   13.510.431  \n4231  Jakarta Pusat  Daerah Khusus Ibukota Jakarta  1.068.276.215  -61.573.981  \n4232         Ciamis                     Jawa Barat  1.086.955.703  -74.600.767  \n4233  Jakarta Timur  Daerah Khusus Ibukota Jakarta  1.069.163.134  -62.516.120  \n4234        Tabanan                           Bali  1.151.423.004  -85.540.953  \n\n[4235 rows x 21 columns]",
      "text/html": "<div>\n<style scoped>\n    .dataframe tbody tr th:only-of-type {\n        vertical-align: middle;\n    }\n\n    .dataframe tbody tr th {\n        vertical-align: top;\n    }\n\n    .dataframe thead th {\n        text-align: right;\n    }\n</style>\n<table border=\"1\" class=\"dataframe\">\n  <thead>\n    <tr style=\"text-align: right;\">\n      <th></th>\n      <th>pkey</th>\n      <th>date</th>\n      <th>time</th>\n      <th>source</th>\n      <th>status</th>\n      <th>url</th>\n      <th>image_url</th>\n      <th>disaster_type</th>\n      <th>report_dat</th>\n      <th>tags</th>\n      <th>...</th>\n      <th>ID_Desa</th>\n      <th>ID_Kec</th>\n      <th>ID_Kab</th>\n      <th>ID_Prov</th>\n      <th>Desa</th>\n      <th>Kecamatan</th>\n      <th>Kabupaten</th>\n      <th>Provinsi</th>\n      <th>long</th>\n      <th>lat</th>\n    </tr>\n  </thead>\n  <tbody>\n    <tr>\n      <th>0</th>\n      <td>94941</td>\n      <td>01/01/2020</td>\n      <td>0:03:02</td>\n      <td>grasp</td>\n      <td>confirmed</td>\n      <td>2042596d-b551-4ef2-803d-1ee964cf2278</td>\n      <td>https://images.petabencana.id/2042596d-b551-4e...</td>\n      <td>flood</td>\n      <td>{ \"report_type\": \"flood\", \"flood_depth\": 30 }</td>\n      <td>{ \"district_id\": \"3174\", \"local_area_id\": \"125...</td>\n      <td>...</td>\n      <td>3.174020e+09</td>\n      <td>3174020.0</td>\n      <td>3174.0</td>\n      <td>31.0</td>\n      <td>Duri Kepa</td>\n      <td>Kebon Jeruk</td>\n      <td>Jakarta Barat</td>\n      <td>Daerah Khusus Ibukota Jakarta</td>\n      <td>10.676.866</td>\n      <td>-616.978</td>\n    </tr>\n    <tr>\n      <th>1</th>\n      <td>95061</td>\n      <td>01/01/2020</td>\n      <td>0:43:02</td>\n      <td>grasp</td>\n      <td>confirmed</td>\n      <td>5a0ad45f-7020-43b7-882f-672487ebc6d8</td>\n      <td>https://images.petabencana.id/5a0ad45f-7020-43...</td>\n      <td>flood</td>\n      <td>{ \"points\": 1, \"flood_depth\": 80, \"report_type...</td>\n      <td>{ \"district_id\": null, \"local_area_id\": null, ...</td>\n      <td>...</td>\n      <td>3.275061e+09</td>\n      <td>3275061.0</td>\n      <td>3275.0</td>\n      <td>32.0</td>\n      <td>Pejuang</td>\n      <td>Medan Satria</td>\n      <td>Bekasi</td>\n      <td>Jawa Barat</td>\n      <td>10.697.870</td>\n      <td>-617.944</td>\n    </tr>\n    <tr>\n      <th>2</th>\n      <td>95062</td>\n      <td>01/01/2020</td>\n      <td>1:14:53</td>\n      <td>grasp</td>\n      <td>confirmed</td>\n      <td>e065b40d-2084-48d6-b42f-1f98cb33e4cc</td>\n      <td>NaN</td>\n      <td>flood</td>\n      <td>{ \"points\": 1, \"flood_depth\": 51, \"report_type...</td>\n      <td>{ \"district_id\": \"3172\", \"local_area_id\": \"178...</td>\n      <td>...</td>\n      <td>3.172060e+09</td>\n      <td>3172060.0</td>\n      <td>3172.0</td>\n      <td>31.0</td>\n      <td>Cipinang Muara</td>\n      <td>Jatinegara</td>\n      <td>Jakarta Timur</td>\n      <td>Daerah Khusus Ibukota Jakarta</td>\n      <td>10.689.100</td>\n      <td>-623.449</td>\n    </tr>\n    <tr>\n      <th>3</th>\n      <td>95063</td>\n      <td>01/01/2020</td>\n      <td>1:15:08</td>\n      <td>grasp</td>\n      <td>confirmed</td>\n      <td>7cb26903-b1c8-4be7-8b81-7014c8a83fbd</td>\n      <td>https://images.petabencana.id/7cb26903-b1c8-4b...</td>\n      <td>flood</td>\n      <td>{ \"points\": 2, \"flood_depth\": 100, \"report_typ...</td>\n      <td>{ \"district_id\": null, \"local_area_id\": null, ...</td>\n      <td>...</td>\n      <td>3.216061e+09</td>\n      <td>3216061.0</td>\n      <td>3216.0</td>\n      <td>32.0</td>\n      <td>Mekarmukti</td>\n      <td>Cikarang Utara</td>\n      <td>Bekasi</td>\n      <td>Jawa Barat</td>\n      <td>10.716.189</td>\n      <td>-630.170</td>\n    </tr>\n    <tr>\n      <th>4</th>\n      <td>95064</td>\n      <td>01/01/2020</td>\n      <td>1:18:03</td>\n      <td>grasp</td>\n      <td>confirmed</td>\n      <td>570d2cb8-d5b6-404f-86ef-8a2a0d27f391</td>\n      <td>https://images.petabencana.id/570d2cb8-d5b6-40...</td>\n      <td>flood</td>\n      <td>{ \"points\": 1, \"flood_depth\": 15, \"report_type...</td>\n      <td>{ \"district_id\": \"3173\", \"local_area_id\": \"193...</td>\n      <td>...</td>\n      <td>3.173060e+09</td>\n      <td>3173060.0</td>\n      <td>3173.0</td>\n      <td>31.0</td>\n      <td>Cempaka Baru</td>\n      <td>Kemayoran</td>\n      <td>Jakarta Pusat</td>\n      <td>Daerah Khusus Ibukota Jakarta</td>\n      <td>10.686.092</td>\n      <td>-616.859</td>\n    </tr>\n    <tr>\n      <th>...</th>\n      <td>...</td>\n      <td>...</td>\n      <td>...</td>\n      <td>...</td>\n      <td>...</td>\n      <td>...</td>\n      <td>...</td>\n      <td>...</td>\n      <td>...</td>\n      <td>...</td>\n      <td>...</td>\n      <td>...</td>\n      <td>...</td>\n      <td>...</td>\n      <td>...</td>\n      <td>...</td>\n      <td>...</td>\n      <td>...</td>\n      <td>...</td>\n      <td>...</td>\n      <td>...</td>\n    </tr>\n    <tr>\n      <th>4230</th>\n      <td>299721</td>\n      <td>28/12/2021</td>\n      <td>01:23:43.144</td>\n      <td>grasp</td>\n      <td>confirmed</td>\n      <td>8f41806c-9d86-47a8-b52a-28cf0ec0a0be</td>\n      <td>https://images.petabencana.id/8f41806c-9d86-47...</td>\n      <td>flood</td>\n      <td>{ \"report_type\": \"flood\", \"flood_depth\": 103 }</td>\n      <td>{ \"district_id\": null, \"local_area_id\": null, ...</td>\n      <td>...</td>\n      <td>6.404054e+09</td>\n      <td>6404054.0</td>\n      <td>6404.0</td>\n      <td>64.0</td>\n      <td>Karangan Hilir</td>\n      <td>Karangan</td>\n      <td>Kutai Timur</td>\n      <td>Kalimantan Timur</td>\n      <td>1.176.655.040</td>\n      <td>13.510.431</td>\n    </tr>\n    <tr>\n      <th>4231</th>\n      <td>299723</td>\n      <td>28/12/2021</td>\n      <td>08:00:13.901</td>\n      <td>grasp</td>\n      <td>confirmed</td>\n      <td>d1bcdbc7-1819-41aa-b5fe-34d0162bb084</td>\n      <td>NaN</td>\n      <td>flood</td>\n      <td>{ \"report_type\": \"flood\", \"flood_depth\": 54 }</td>\n      <td>{ \"district_id\": \"3173\", \"local_area_id\": \"678...</td>\n      <td>...</td>\n      <td>3.173070e+09</td>\n      <td>3173070.0</td>\n      <td>3173.0</td>\n      <td>31.0</td>\n      <td>Karang Anyar</td>\n      <td>Sawah Besar</td>\n      <td>Jakarta Pusat</td>\n      <td>Daerah Khusus Ibukota Jakarta</td>\n      <td>1.068.276.215</td>\n      <td>-61.573.981</td>\n    </tr>\n    <tr>\n      <th>4232</th>\n      <td>299724</td>\n      <td>28/12/2021</td>\n      <td>10:49:48.763</td>\n      <td>grasp</td>\n      <td>confirmed</td>\n      <td>ee548663-23ad-4adb-8d85-f8c64b1fbb6c</td>\n      <td>https://images.petabencana.id/ee548663-23ad-4a...</td>\n      <td>flood</td>\n      <td>{ \"report_type\": \"flood\", \"flood_depth\": 19 }</td>\n      <td>{ \"district_id\": null, \"local_area_id\": null, ...</td>\n      <td>...</td>\n      <td>3.207111e+09</td>\n      <td>3207111.0</td>\n      <td>3207.0</td>\n      <td>32.0</td>\n      <td>Purwajaya</td>\n      <td>Purwadadi</td>\n      <td>Ciamis</td>\n      <td>Jawa Barat</td>\n      <td>1.086.955.703</td>\n      <td>-74.600.767</td>\n    </tr>\n    <tr>\n      <th>4233</th>\n      <td>299726</td>\n      <td>29/12/2021</td>\n      <td>07:22:30.000</td>\n      <td>detik</td>\n      <td>confirmed</td>\n      <td>https://pasangmata.detik.com/contribution/363227</td>\n      <td>https://akcdn.detik.net.id/community/pasma/202...</td>\n      <td>flood</td>\n      <td>NaN</td>\n      <td>{ \"district_id\": \"3172\", \"local_area_id\": \"267...</td>\n      <td>...</td>\n      <td>3.172040e+09</td>\n      <td>3172040.0</td>\n      <td>3172.0</td>\n      <td>31.0</td>\n      <td>Cipinang Melayu</td>\n      <td>Makasar</td>\n      <td>Jakarta Timur</td>\n      <td>Daerah Khusus Ibukota Jakarta</td>\n      <td>1.069.163.134</td>\n      <td>-62.516.120</td>\n    </tr>\n    <tr>\n      <th>4234</th>\n      <td>299728</td>\n      <td>30/12/2021</td>\n      <td>09:32:41.979</td>\n      <td>grasp</td>\n      <td>confirmed</td>\n      <td>14171753-a6db-40e7-8acf-31dec5dff2d6</td>\n      <td>https://images.petabencana.id/14171753-a6db-40...</td>\n      <td>flood</td>\n      <td>{ \"report_type\": \"flood\", \"flood_depth\": 22 }</td>\n      <td>{ \"district_id\": null, \"local_area_id\": null, ...</td>\n      <td>...</td>\n      <td>5.102040e+09</td>\n      <td>5102040.0</td>\n      <td>5102.0</td>\n      <td>51.0</td>\n      <td>Banjar Anyar</td>\n      <td>Kediri</td>\n      <td>Tabanan</td>\n      <td>Bali</td>\n      <td>1.151.423.004</td>\n      <td>-85.540.953</td>\n    </tr>\n  </tbody>\n</table>\n<p>4235 rows × 21 columns</p>\n</div>"
     },
     "metadata": {}
    }
   ],
   "execution_count": 2
  },
  {
   "cell_type": "code",
   "source": "#drop irrelevant\ndf = df.drop(columns=['pkey', 'date', 'time', 'source', 'status', 'url', 'image_url', 'report_dat', 'tags', 'title', 'ID_Desa', 'ID_Kec', 'ID_Kab', 'ID_Prov', 'Kecamatan', 'Kabupaten', 'Provinsi', 'long', 'lat'])\ndf",
   "metadata": {
    "cell_id": "2ccd1428e1d446d886bbf701b3785c8a",
    "tags": [],
    "deepnote_to_be_reexecuted": false,
    "source_hash": "a1ee5409",
    "execution_start": 1661020781895,
    "execution_millis": 31,
    "deepnote_cell_type": "code",
    "deepnote_cell_height": 636
   },
   "outputs": [
    {
     "output_type": "execute_result",
     "execution_count": 3,
     "data": {
      "application/vnd.deepnote.dataframe.v3+json": {
       "column_count": 2,
       "row_count": 4235,
       "columns": [
        {
         "name": "disaster_type",
         "dtype": "object",
         "stats": {
          "unique_count": 6,
          "nan_count": 0,
          "categories": [
           {
            "name": "flood",
            "count": 4008
           },
           {
            "name": "earthquake",
            "count": 131
           },
           {
            "name": "4 others",
            "count": 96
           }
          ]
         }
        },
        {
         "name": "Desa",
         "dtype": "object",
         "stats": {
          "unique_count": 1221,
          "nan_count": 8,
          "categories": [
           {
            "name": "Duri Kepa",
            "count": 91
           },
           {
            "name": "1220 others",
            "count": 4136
           },
           {
            "name": "Missing",
            "count": 8
           }
          ]
         }
        },
        {
         "name": "_deepnote_index_column",
         "dtype": "int64"
        }
       ],
       "rows": [
        {
         "disaster_type": "flood",
         "Desa": "Duri Kepa",
         "_deepnote_index_column": 0
        },
        {
         "disaster_type": "flood",
         "Desa": "Pejuang",
         "_deepnote_index_column": 1
        },
        {
         "disaster_type": "flood",
         "Desa": "Cipinang Muara",
         "_deepnote_index_column": 2
        },
        {
         "disaster_type": "flood",
         "Desa": "Mekarmukti",
         "_deepnote_index_column": 3
        },
        {
         "disaster_type": "flood",
         "Desa": "Cempaka Baru",
         "_deepnote_index_column": 4
        },
        {
         "disaster_type": "flood",
         "Desa": "Meruya Utara",
         "_deepnote_index_column": 5
        },
        {
         "disaster_type": "flood",
         "Desa": "Pejuang",
         "_deepnote_index_column": 6
        },
        {
         "disaster_type": "flood",
         "Desa": "Meruya Utara",
         "_deepnote_index_column": 7
        },
        {
         "disaster_type": "flood",
         "Desa": "Duri Kosambi",
         "_deepnote_index_column": 8
        },
        {
         "disaster_type": "flood",
         "Desa": "Pejuang",
         "_deepnote_index_column": 9
        }
       ]
      },
      "text/plain": "     disaster_type             Desa\n0            flood        Duri Kepa\n1            flood          Pejuang\n2            flood   Cipinang Muara\n3            flood       Mekarmukti\n4            flood     Cempaka Baru\n...            ...              ...\n4230         flood   Karangan Hilir\n4231         flood     Karang Anyar\n4232         flood        Purwajaya\n4233         flood  Cipinang Melayu\n4234         flood     Banjar Anyar\n\n[4235 rows x 2 columns]",
      "text/html": "<div>\n<style scoped>\n    .dataframe tbody tr th:only-of-type {\n        vertical-align: middle;\n    }\n\n    .dataframe tbody tr th {\n        vertical-align: top;\n    }\n\n    .dataframe thead th {\n        text-align: right;\n    }\n</style>\n<table border=\"1\" class=\"dataframe\">\n  <thead>\n    <tr style=\"text-align: right;\">\n      <th></th>\n      <th>disaster_type</th>\n      <th>Desa</th>\n    </tr>\n  </thead>\n  <tbody>\n    <tr>\n      <th>0</th>\n      <td>flood</td>\n      <td>Duri Kepa</td>\n    </tr>\n    <tr>\n      <th>1</th>\n      <td>flood</td>\n      <td>Pejuang</td>\n    </tr>\n    <tr>\n      <th>2</th>\n      <td>flood</td>\n      <td>Cipinang Muara</td>\n    </tr>\n    <tr>\n      <th>3</th>\n      <td>flood</td>\n      <td>Mekarmukti</td>\n    </tr>\n    <tr>\n      <th>4</th>\n      <td>flood</td>\n      <td>Cempaka Baru</td>\n    </tr>\n    <tr>\n      <th>...</th>\n      <td>...</td>\n      <td>...</td>\n    </tr>\n    <tr>\n      <th>4230</th>\n      <td>flood</td>\n      <td>Karangan Hilir</td>\n    </tr>\n    <tr>\n      <th>4231</th>\n      <td>flood</td>\n      <td>Karang Anyar</td>\n    </tr>\n    <tr>\n      <th>4232</th>\n      <td>flood</td>\n      <td>Purwajaya</td>\n    </tr>\n    <tr>\n      <th>4233</th>\n      <td>flood</td>\n      <td>Cipinang Melayu</td>\n    </tr>\n    <tr>\n      <th>4234</th>\n      <td>flood</td>\n      <td>Banjar Anyar</td>\n    </tr>\n  </tbody>\n</table>\n<p>4235 rows × 2 columns</p>\n</div>"
     },
     "metadata": {}
    }
   ],
   "execution_count": 3
  },
  {
   "cell_type": "code",
   "source": "#grouping each disaster\ndata = pd.DataFrame(df.groupby(['disaster_type', 'Desa'])['disaster_type'].size())\ndata.columns = ['total']\ndata = data.reset_index()",
   "metadata": {
    "cell_id": "e33e364e03db4dcc91e7030b171833ef",
    "tags": [],
    "deepnote_to_be_reexecuted": false,
    "source_hash": "7c5da6fe",
    "execution_start": 1661020781933,
    "execution_millis": 4,
    "deepnote_cell_type": "code",
    "deepnote_cell_height": 135
   },
   "outputs": [],
   "execution_count": 4
  },
  {
   "cell_type": "code",
   "source": "data['flood']  = np.where(data['disaster_type'] == 'flood'  , data['total'], 0)\ndata['earthquake']= np.where(data['disaster_type'] == 'earthquake', data['total'], 0)\ndata['wind']= np.where(data['disaster_type'] == 'wind', data['total'], 0)\ndata['volcano']= np.where(data['disaster_type'] == 'volcano', data['total'], 0)\ndata['fire']= np.where(data['disaster_type'] == 'fire', data['total'], 0)\ndata['haze']= np.where(data['disaster_type'] == 'haze', data['total'], 0)\ndata.drop(columns=['disaster_type'], inplace=True)\ndata",
   "metadata": {
    "cell_id": "144e9a8e56cf4d179c6be670f509bb84",
    "tags": [],
    "deepnote_to_be_reexecuted": false,
    "source_hash": "b2a0c24e",
    "execution_start": 1661020781945,
    "execution_millis": 38,
    "deepnote_table_state": {
     "pageSize": 10,
     "pageIndex": 11,
     "filters": [],
     "sortBy": [
      {
       "id": "flood",
       "type": "desc"
      }
     ]
    },
    "deepnote_table_loading": false,
    "deepnote_cell_type": "code",
    "deepnote_cell_height": 775
   },
   "outputs": [
    {
     "output_type": "execute_result",
     "execution_count": 5,
     "data": {
      "application/vnd.deepnote.dataframe.v3+json": {
       "column_count": 8,
       "row_count": 1262,
       "columns": [
        {
         "name": "Desa",
         "dtype": "object",
         "stats": {
          "unique_count": 1221,
          "nan_count": 0,
          "categories": [
           {
            "name": "Gambir",
            "count": 3
           },
           {
            "name": "Sukamulya",
            "count": 3
           },
           {
            "name": "1219 others",
            "count": 1256
           }
          ]
         }
        },
        {
         "name": "total",
         "dtype": "int64",
         "stats": {
          "unique_count": 39,
          "nan_count": 0,
          "min": "1",
          "max": "91",
          "histogram": [
           {
            "bin_start": 1,
            "bin_end": 10,
            "count": 1159
           },
           {
            "bin_start": 10,
            "bin_end": 19,
            "count": 66
           },
           {
            "bin_start": 19,
            "bin_end": 28,
            "count": 21
           },
           {
            "bin_start": 28,
            "bin_end": 37,
            "count": 6
           },
           {
            "bin_start": 37,
            "bin_end": 46,
            "count": 7
           },
           {
            "bin_start": 46,
            "bin_end": 55,
            "count": 1
           },
           {
            "bin_start": 55,
            "bin_end": 64,
            "count": 1
           },
           {
            "bin_start": 64,
            "bin_end": 73,
            "count": 0
           },
           {
            "bin_start": 73,
            "bin_end": 82,
            "count": 0
           },
           {
            "bin_start": 82,
            "bin_end": 91,
            "count": 1
           }
          ]
         }
        },
        {
         "name": "flood",
         "dtype": "int64",
         "stats": {
          "unique_count": 40,
          "nan_count": 0,
          "min": "0",
          "max": "91",
          "histogram": [
           {
            "bin_start": 0,
            "bin_end": 9.1,
            "count": 1160
           },
           {
            "bin_start": 9.1,
            "bin_end": 18.2,
            "count": 65
           },
           {
            "bin_start": 18.2,
            "bin_end": 27.299999999999997,
            "count": 21
           },
           {
            "bin_start": 27.299999999999997,
            "bin_end": 36.4,
            "count": 6
           },
           {
            "bin_start": 36.4,
            "bin_end": 45.5,
            "count": 7
           },
           {
            "bin_start": 45.5,
            "bin_end": 54.599999999999994,
            "count": 1
           },
           {
            "bin_start": 54.599999999999994,
            "bin_end": 63.699999999999996,
            "count": 1
           },
           {
            "bin_start": 63.699999999999996,
            "bin_end": 72.8,
            "count": 0
           },
           {
            "bin_start": 72.8,
            "bin_end": 81.89999999999999,
            "count": 0
           },
           {
            "bin_start": 81.89999999999999,
            "bin_end": 91,
            "count": 1
           }
          ]
         }
        },
        {
         "name": "earthquake",
         "dtype": "int64",
         "stats": {
          "unique_count": 8,
          "nan_count": 0,
          "min": "0",
          "max": "10",
          "histogram": [
           {
            "bin_start": 0,
            "bin_end": 1,
            "count": 1179
           },
           {
            "bin_start": 1,
            "bin_end": 2,
            "count": 65
           },
           {
            "bin_start": 2,
            "bin_end": 3,
            "count": 8
           },
           {
            "bin_start": 3,
            "bin_end": 4,
            "count": 4
           },
           {
            "bin_start": 4,
            "bin_end": 5,
            "count": 2
           },
           {
            "bin_start": 5,
            "bin_end": 6,
            "count": 1
           },
           {
            "bin_start": 6,
            "bin_end": 7,
            "count": 2
           },
           {
            "bin_start": 7,
            "bin_end": 8,
            "count": 0
           },
           {
            "bin_start": 8,
            "bin_end": 9,
            "count": 0
           },
           {
            "bin_start": 9,
            "bin_end": 10,
            "count": 1
           }
          ]
         }
        },
        {
         "name": "wind",
         "dtype": "int64",
         "stats": {
          "unique_count": 4,
          "nan_count": 0,
          "min": "0",
          "max": "3",
          "histogram": [
           {
            "bin_start": 0,
            "bin_end": 0.3,
            "count": 1207
           },
           {
            "bin_start": 0.3,
            "bin_end": 0.6,
            "count": 0
           },
           {
            "bin_start": 0.6,
            "bin_end": 0.8999999999999999,
            "count": 0
           },
           {
            "bin_start": 0.8999999999999999,
            "bin_end": 1.2,
            "count": 48
           },
           {
            "bin_start": 1.2,
            "bin_end": 1.5,
            "count": 0
           },
           {
            "bin_start": 1.5,
            "bin_end": 1.7999999999999998,
            "count": 0
           },
           {
            "bin_start": 1.7999999999999998,
            "bin_end": 2.1,
            "count": 6
           },
           {
            "bin_start": 2.1,
            "bin_end": 2.4,
            "count": 0
           },
           {
            "bin_start": 2.4,
            "bin_end": 2.6999999999999997,
            "count": 0
           },
           {
            "bin_start": 2.6999999999999997,
            "bin_end": 3,
            "count": 1
           }
          ]
         }
        },
        {
         "name": "volcano",
         "dtype": "int64",
         "stats": {
          "unique_count": 3,
          "nan_count": 0,
          "min": "0",
          "max": "5",
          "histogram": [
           {
            "bin_start": 0,
            "bin_end": 0.5,
            "count": 1248
           },
           {
            "bin_start": 0.5,
            "bin_end": 1,
            "count": 0
           },
           {
            "bin_start": 1,
            "bin_end": 1.5,
            "count": 13
           },
           {
            "bin_start": 1.5,
            "bin_end": 2,
            "count": 0
           },
           {
            "bin_start": 2,
            "bin_end": 2.5,
            "count": 0
           },
           {
            "bin_start": 2.5,
            "bin_end": 3,
            "count": 0
           },
           {
            "bin_start": 3,
            "bin_end": 3.5,
            "count": 0
           },
           {
            "bin_start": 3.5,
            "bin_end": 4,
            "count": 0
           },
           {
            "bin_start": 4,
            "bin_end": 4.5,
            "count": 0
           },
           {
            "bin_start": 4.5,
            "bin_end": 5,
            "count": 1
           }
          ]
         }
        },
        {
         "name": "fire",
         "dtype": "int64",
         "stats": {
          "unique_count": 3,
          "nan_count": 0,
          "min": "0",
          "max": "6",
          "histogram": [
           {
            "bin_start": 0,
            "bin_end": 0.6,
            "count": 1255
           },
           {
            "bin_start": 0.6,
            "bin_end": 1.2,
            "count": 6
           },
           {
            "bin_start": 1.2,
            "bin_end": 1.7999999999999998,
            "count": 0
           },
           {
            "bin_start": 1.7999999999999998,
            "bin_end": 2.4,
            "count": 0
           },
           {
            "bin_start": 2.4,
            "bin_end": 3,
            "count": 0
           },
           {
            "bin_start": 3,
            "bin_end": 3.5999999999999996,
            "count": 0
           },
           {
            "bin_start": 3.5999999999999996,
            "bin_end": 4.2,
            "count": 0
           },
           {
            "bin_start": 4.2,
            "bin_end": 4.8,
            "count": 0
           },
           {
            "bin_start": 4.8,
            "bin_end": 5.3999999999999995,
            "count": 0
           },
           {
            "bin_start": 5.3999999999999995,
            "bin_end": 6,
            "count": 1
           }
          ]
         }
        },
        {
         "name": "haze",
         "dtype": "int64",
         "stats": {
          "unique_count": 2,
          "nan_count": 0,
          "min": "0",
          "max": "1",
          "histogram": [
           {
            "bin_start": 0,
            "bin_end": 0.1,
            "count": 1260
           },
           {
            "bin_start": 0.1,
            "bin_end": 0.2,
            "count": 0
           },
           {
            "bin_start": 0.2,
            "bin_end": 0.30000000000000004,
            "count": 0
           },
           {
            "bin_start": 0.30000000000000004,
            "bin_end": 0.4,
            "count": 0
           },
           {
            "bin_start": 0.4,
            "bin_end": 0.5,
            "count": 0
           },
           {
            "bin_start": 0.5,
            "bin_end": 0.6000000000000001,
            "count": 0
           },
           {
            "bin_start": 0.6000000000000001,
            "bin_end": 0.7000000000000001,
            "count": 0
           },
           {
            "bin_start": 0.7000000000000001,
            "bin_end": 0.8,
            "count": 0
           },
           {
            "bin_start": 0.8,
            "bin_end": 0.9,
            "count": 0
           },
           {
            "bin_start": 0.9,
            "bin_end": 1,
            "count": 2
           }
          ]
         }
        },
        {
         "name": "_deepnote_index_column",
         "dtype": "int64"
        }
       ],
       "rows": [
        {
         "Desa": "Cililitan",
         "total": 9,
         "flood": 9,
         "earthquake": 0,
         "wind": 0,
         "volcano": 0,
         "fire": 0,
         "haze": 0,
         "_deepnote_index_column": 246
        },
        {
         "Desa": "Cilangkap",
         "total": 9,
         "flood": 9,
         "earthquake": 0,
         "wind": 0,
         "volcano": 0,
         "fire": 0,
         "haze": 0,
         "_deepnote_index_column": 243
        },
        {
         "Desa": "Ciracas",
         "total": 9,
         "flood": 9,
         "earthquake": 0,
         "wind": 0,
         "volcano": 0,
         "fire": 0,
         "haze": 0,
         "_deepnote_index_column": 272
        },
        {
         "Desa": "Handil Bakti",
         "total": 9,
         "flood": 9,
         "earthquake": 0,
         "wind": 0,
         "volcano": 0,
         "fire": 0,
         "haze": 0,
         "_deepnote_index_column": 363
        },
        {
         "Desa": "Jatikramat",
         "total": 9,
         "flood": 9,
         "earthquake": 0,
         "wind": 0,
         "volcano": 0,
         "fire": 0,
         "haze": 0,
         "_deepnote_index_column": 392
        },
        {
         "Desa": "Harakit",
         "total": 9,
         "flood": 9,
         "earthquake": 0,
         "wind": 0,
         "volcano": 0,
         "fire": 0,
         "haze": 0,
         "_deepnote_index_column": 365
        },
        {
         "Desa": "Duren Mekar",
         "total": 9,
         "flood": 9,
         "earthquake": 0,
         "wind": 0,
         "volcano": 0,
         "fire": 0,
         "haze": 0,
         "_deepnote_index_column": 311
        },
        {
         "Desa": "Rawa Sari",
         "total": 9,
         "flood": 9,
         "earthquake": 0,
         "wind": 0,
         "volcano": 0,
         "fire": 0,
         "haze": 0,
         "_deepnote_index_column": 916
        },
        {
         "Desa": "Mekarmukti",
         "total": 9,
         "flood": 9,
         "earthquake": 0,
         "wind": 0,
         "volcano": 0,
         "fire": 0,
         "haze": 0,
         "_deepnote_index_column": 679
        },
        {
         "Desa": "Cakung Barat",
         "total": 8,
         "flood": 8,
         "earthquake": 0,
         "wind": 0,
         "volcano": 0,
         "fire": 0,
         "haze": 0,
         "_deepnote_index_column": 201
        }
       ]
      },
      "text/plain": "               Desa  total  flood  earthquake  wind  volcano  fire  haze\n0             Abang      1      0           1     0        0     0     0\n1           Adipala      1      0           1     0        0     0     0\n2         Aek Unsin      1      0           1     0        0     0     0\n3            Bajeng      1      0           1     0        0     0     0\n4         Baleendah      1      0           1     0        0     0     0\n...             ...    ...    ...         ...   ...      ...   ...   ...\n1257  Sumurpanggang      1      0           0     1        0     0     0\n1258  Sunggal Kanan      1      0           0     1        0     0     0\n1259   Tanjung Rejo      1      0           0     1        0     0     0\n1260     Tugu Utara      1      0           0     1        0     0     0\n1261     Wanutengah      1      0           0     1        0     0     0\n\n[1262 rows x 8 columns]",
      "text/html": "<div>\n<style scoped>\n    .dataframe tbody tr th:only-of-type {\n        vertical-align: middle;\n    }\n\n    .dataframe tbody tr th {\n        vertical-align: top;\n    }\n\n    .dataframe thead th {\n        text-align: right;\n    }\n</style>\n<table border=\"1\" class=\"dataframe\">\n  <thead>\n    <tr style=\"text-align: right;\">\n      <th></th>\n      <th>Desa</th>\n      <th>total</th>\n      <th>flood</th>\n      <th>earthquake</th>\n      <th>wind</th>\n      <th>volcano</th>\n      <th>fire</th>\n      <th>haze</th>\n    </tr>\n  </thead>\n  <tbody>\n    <tr>\n      <th>0</th>\n      <td>Abang</td>\n      <td>1</td>\n      <td>0</td>\n      <td>1</td>\n      <td>0</td>\n      <td>0</td>\n      <td>0</td>\n      <td>0</td>\n    </tr>\n    <tr>\n      <th>1</th>\n      <td>Adipala</td>\n      <td>1</td>\n      <td>0</td>\n      <td>1</td>\n      <td>0</td>\n      <td>0</td>\n      <td>0</td>\n      <td>0</td>\n    </tr>\n    <tr>\n      <th>2</th>\n      <td>Aek Unsin</td>\n      <td>1</td>\n      <td>0</td>\n      <td>1</td>\n      <td>0</td>\n      <td>0</td>\n      <td>0</td>\n      <td>0</td>\n    </tr>\n    <tr>\n      <th>3</th>\n      <td>Bajeng</td>\n      <td>1</td>\n      <td>0</td>\n      <td>1</td>\n      <td>0</td>\n      <td>0</td>\n      <td>0</td>\n      <td>0</td>\n    </tr>\n    <tr>\n      <th>4</th>\n      <td>Baleendah</td>\n      <td>1</td>\n      <td>0</td>\n      <td>1</td>\n      <td>0</td>\n      <td>0</td>\n      <td>0</td>\n      <td>0</td>\n    </tr>\n    <tr>\n      <th>...</th>\n      <td>...</td>\n      <td>...</td>\n      <td>...</td>\n      <td>...</td>\n      <td>...</td>\n      <td>...</td>\n      <td>...</td>\n      <td>...</td>\n    </tr>\n    <tr>\n      <th>1257</th>\n      <td>Sumurpanggang</td>\n      <td>1</td>\n      <td>0</td>\n      <td>0</td>\n      <td>1</td>\n      <td>0</td>\n      <td>0</td>\n      <td>0</td>\n    </tr>\n    <tr>\n      <th>1258</th>\n      <td>Sunggal Kanan</td>\n      <td>1</td>\n      <td>0</td>\n      <td>0</td>\n      <td>1</td>\n      <td>0</td>\n      <td>0</td>\n      <td>0</td>\n    </tr>\n    <tr>\n      <th>1259</th>\n      <td>Tanjung Rejo</td>\n      <td>1</td>\n      <td>0</td>\n      <td>0</td>\n      <td>1</td>\n      <td>0</td>\n      <td>0</td>\n      <td>0</td>\n    </tr>\n    <tr>\n      <th>1260</th>\n      <td>Tugu Utara</td>\n      <td>1</td>\n      <td>0</td>\n      <td>0</td>\n      <td>1</td>\n      <td>0</td>\n      <td>0</td>\n      <td>0</td>\n    </tr>\n    <tr>\n      <th>1261</th>\n      <td>Wanutengah</td>\n      <td>1</td>\n      <td>0</td>\n      <td>0</td>\n      <td>1</td>\n      <td>0</td>\n      <td>0</td>\n      <td>0</td>\n    </tr>\n  </tbody>\n</table>\n<p>1262 rows × 8 columns</p>\n</div>"
     },
     "metadata": {}
    }
   ],
   "execution_count": 5
  },
  {
   "cell_type": "code",
   "source": "#split categoril type (Desa) into cat and codes\nkode, desa = pd.factorize(data['Desa'])\ndata['Desa'] = kode\ndata.drop(columns=['total'],inplace=True)",
   "metadata": {
    "cell_id": "e3125c0f94af43e983aee23a26c32e88",
    "tags": [],
    "deepnote_to_be_reexecuted": false,
    "source_hash": "ec85b009",
    "execution_start": 1661020781988,
    "execution_millis": 1,
    "deepnote_table_state": {
     "pageSize": 10,
     "pageIndex": 4,
     "filters": [],
     "sortBy": []
    },
    "deepnote_table_loading": false,
    "deepnote_cell_type": "code",
    "deepnote_cell_height": 130
   },
   "outputs": [],
   "execution_count": 6
  },
  {
   "cell_type": "code",
   "source": "#standardization data\nfrom sklearn.preprocessing import StandardScaler\nscaler = StandardScaler()\nscaler.fit(data)\nscaled_data = scaler.transform(data)\ndataset = pd.DataFrame(scaled_data, columns=data.columns)\ndataset",
   "metadata": {
    "cell_id": "a2ea2ecbe4ae472bad9aacd406c39110",
    "tags": [],
    "deepnote_to_be_reexecuted": false,
    "source_hash": "3a1ffd9d",
    "execution_start": 1661020781992,
    "execution_millis": 230,
    "deepnote_cell_type": "code",
    "deepnote_cell_height": 720
   },
   "outputs": [
    {
     "output_type": "execute_result",
     "execution_count": 7,
     "data": {
      "application/vnd.deepnote.dataframe.v3+json": {
       "column_count": 7,
       "row_count": 1262,
       "columns": [
        {
         "name": "Desa",
         "dtype": "float64",
         "stats": {
          "unique_count": 1221,
          "nan_count": 0,
          "min": "-1.675629113311436",
          "max": "1.733099547026494",
          "histogram": [
           {
            "bin_start": -1.675629113311436,
            "bin_end": -1.334756247277643,
            "count": 148
           },
           {
            "bin_start": -1.334756247277643,
            "bin_end": -0.99388338124385,
            "count": 125
           },
           {
            "bin_start": -0.99388338124385,
            "bin_end": -0.6530105152100569,
            "count": 123
           },
           {
            "bin_start": -0.6530105152100569,
            "bin_end": -0.31213764917626396,
            "count": 121
           },
           {
            "bin_start": -0.31213764917626396,
            "bin_end": 0.028735216857529,
            "count": 124
           },
           {
            "bin_start": 0.028735216857529,
            "bin_end": 0.3696080828913222,
            "count": 124
           },
           {
            "bin_start": 0.3696080828913222,
            "bin_end": 0.7104809489251149,
            "count": 123
           },
           {
            "bin_start": 0.7104809489251149,
            "bin_end": 1.0513538149589081,
            "count": 126
           },
           {
            "bin_start": 1.0513538149589081,
            "bin_end": 1.3922266809927013,
            "count": 125
           },
           {
            "bin_start": 1.3922266809927013,
            "bin_end": 1.733099547026494,
            "count": 123
           }
          ]
         }
        },
        {
         "name": "flood",
         "dtype": "float64",
         "stats": {
          "unique_count": 40,
          "nan_count": 0,
          "min": "-0.518427933041202",
          "max": "14.351027782822367",
          "histogram": [
           {
            "bin_start": -0.518427933041202,
            "bin_end": 0.9685176385451548,
            "count": 1160
           },
           {
            "bin_start": 0.9685176385451548,
            "bin_end": 2.4554632101315117,
            "count": 65
           },
           {
            "bin_start": 2.4554632101315117,
            "bin_end": 3.942408781717868,
            "count": 21
           },
           {
            "bin_start": 3.942408781717868,
            "bin_end": 5.429354353304225,
            "count": 6
           },
           {
            "bin_start": 5.429354353304225,
            "bin_end": 6.916299924890582,
            "count": 7
           },
           {
            "bin_start": 6.916299924890582,
            "bin_end": 8.403245496476938,
            "count": 1
           },
           {
            "bin_start": 8.403245496476938,
            "bin_end": 9.890191068063295,
            "count": 1
           },
           {
            "bin_start": 9.890191068063295,
            "bin_end": 11.377136639649652,
            "count": 0
           },
           {
            "bin_start": 11.377136639649652,
            "bin_end": 12.86408221123601,
            "count": 0
           },
           {
            "bin_start": 12.86408221123601,
            "bin_end": 14.351027782822367,
            "count": 1
           }
          ]
         }
        },
        {
         "name": "earthquake",
         "dtype": "float64",
         "stats": {
          "unique_count": 8,
          "nan_count": 0,
          "min": "-0.1928664703017664",
          "max": "18.82256208601301",
          "histogram": [
           {
            "bin_start": -0.1928664703017664,
            "bin_end": 1.7086763853297113,
            "count": 1179
           },
           {
            "bin_start": 1.7086763853297113,
            "bin_end": 3.610219240961189,
            "count": 65
           },
           {
            "bin_start": 3.610219240961189,
            "bin_end": 5.511762096592667,
            "count": 8
           },
           {
            "bin_start": 5.511762096592667,
            "bin_end": 7.413304952224145,
            "count": 4
           },
           {
            "bin_start": 7.413304952224145,
            "bin_end": 9.314847807855623,
            "count": 2
           },
           {
            "bin_start": 9.314847807855623,
            "bin_end": 11.2163906634871,
            "count": 1
           },
           {
            "bin_start": 11.2163906634871,
            "bin_end": 13.117933519118578,
            "count": 2
           },
           {
            "bin_start": 13.117933519118578,
            "bin_end": 15.019476374750056,
            "count": 0
           },
           {
            "bin_start": 15.019476374750056,
            "bin_end": 16.921019230381532,
            "count": 0
           },
           {
            "bin_start": 16.921019230381532,
            "bin_end": 18.82256208601301,
            "count": 1
           }
          ]
         }
        },
        {
         "name": "wind",
         "dtype": "float64",
         "stats": {
          "unique_count": 4,
          "nan_count": 0,
          "min": "-0.20098684809707498",
          "max": "11.8773656423081",
          "histogram": [
           {
            "bin_start": -0.20098684809707498,
            "bin_end": 1.0068484009434426,
            "count": 1207
           },
           {
            "bin_start": 1.0068484009434426,
            "bin_end": 2.21468364998396,
            "count": 0
           },
           {
            "bin_start": 2.21468364998396,
            "bin_end": 3.4225188990244777,
            "count": 0
           },
           {
            "bin_start": 3.4225188990244777,
            "bin_end": 4.6303541480649955,
            "count": 48
           },
           {
            "bin_start": 4.6303541480649955,
            "bin_end": 5.838189397105513,
            "count": 0
           },
           {
            "bin_start": 5.838189397105513,
            "bin_end": 7.046024646146031,
            "count": 0
           },
           {
            "bin_start": 7.046024646146031,
            "bin_end": 8.253859895186547,
            "count": 6
           },
           {
            "bin_start": 8.253859895186547,
            "bin_end": 9.461695144227065,
            "count": 0
           },
           {
            "bin_start": 9.461695144227065,
            "bin_end": 10.669530393267582,
            "count": 0
           },
           {
            "bin_start": 10.669530393267582,
            "bin_end": 11.8773656423081,
            "count": 1
           }
          ]
         }
        },
        {
         "name": "volcano",
         "dtype": "float64",
         "stats": {
          "unique_count": 3,
          "nan_count": 0,
          "min": "-0.08247514665188692",
          "max": "28.82964570742625",
          "histogram": [
           {
            "bin_start": -0.08247514665188692,
            "bin_end": 2.808736938755927,
            "count": 1248
           },
           {
            "bin_start": 2.808736938755927,
            "bin_end": 5.6999490241637405,
            "count": 13
           },
           {
            "bin_start": 5.6999490241637405,
            "bin_end": 8.591161109571553,
            "count": 0
           },
           {
            "bin_start": 8.591161109571553,
            "bin_end": 11.482373194979367,
            "count": 0
           },
           {
            "bin_start": 11.482373194979367,
            "bin_end": 14.37358528038718,
            "count": 0
           },
           {
            "bin_start": 14.37358528038718,
            "bin_end": 17.264797365794994,
            "count": 0
           },
           {
            "bin_start": 17.264797365794994,
            "bin_end": 20.156009451202806,
            "count": 0
           },
           {
            "bin_start": 20.156009451202806,
            "bin_end": 23.04722153661062,
            "count": 0
           },
           {
            "bin_start": 23.04722153661062,
            "bin_end": 25.938433622018437,
            "count": 0
           },
           {
            "bin_start": 25.938433622018437,
            "bin_end": 28.82964570742625,
            "count": 1
           }
          ]
         }
        },
        {
         "name": "fire",
         "dtype": "float64",
         "stats": {
          "unique_count": 3,
          "nan_count": 0,
          "min": "-0.052193649723981266",
          "max": "32.88199932610819",
          "histogram": [
           {
            "bin_start": -0.052193649723981266,
            "bin_end": 3.2412256478592365,
            "count": 1255
           },
           {
            "bin_start": 3.2412256478592365,
            "bin_end": 6.534644945442454,
            "count": 6
           },
           {
            "bin_start": 6.534644945442454,
            "bin_end": 9.828064243025672,
            "count": 0
           },
           {
            "bin_start": 9.828064243025672,
            "bin_end": 13.121483540608889,
            "count": 0
           },
           {
            "bin_start": 13.121483540608889,
            "bin_end": 16.414902838192106,
            "count": 0
           },
           {
            "bin_start": 16.414902838192106,
            "bin_end": 19.708322135775326,
            "count": 0
           },
           {
            "bin_start": 19.708322135775326,
            "bin_end": 23.001741433358543,
            "count": 0
           },
           {
            "bin_start": 23.001741433358543,
            "bin_end": 26.29516073094176,
            "count": 0
           },
           {
            "bin_start": 26.29516073094176,
            "bin_end": 29.588580028524976,
            "count": 0
           },
           {
            "bin_start": 29.588580028524976,
            "bin_end": 32.88199932610819,
            "count": 1
           }
          ]
         }
        },
        {
         "name": "haze",
         "dtype": "float64",
         "stats": {
          "unique_count": 2,
          "nan_count": 0,
          "min": "-0.03984095364447979",
          "max": "25.09980079602227",
          "histogram": [
           {
            "bin_start": -0.03984095364447979,
            "bin_end": 2.474123221322195,
            "count": 1260
           },
           {
            "bin_start": 2.474123221322195,
            "bin_end": 4.988087396288869,
            "count": 0
           },
           {
            "bin_start": 4.988087396288869,
            "bin_end": 7.502051571255544,
            "count": 0
           },
           {
            "bin_start": 7.502051571255544,
            "bin_end": 10.016015746222218,
            "count": 0
           },
           {
            "bin_start": 10.016015746222218,
            "bin_end": 12.529979921188891,
            "count": 0
           },
           {
            "bin_start": 12.529979921188891,
            "bin_end": 15.043944096155567,
            "count": 0
           },
           {
            "bin_start": 15.043944096155567,
            "bin_end": 17.557908271122244,
            "count": 0
           },
           {
            "bin_start": 17.557908271122244,
            "bin_end": 20.071872446088918,
            "count": 0
           },
           {
            "bin_start": 20.071872446088918,
            "bin_end": 22.58583662105559,
            "count": 0
           },
           {
            "bin_start": 22.58583662105559,
            "bin_end": 25.09980079602227,
            "count": 2
           }
          ]
         }
        },
        {
         "name": "_deepnote_index_column",
         "dtype": "int64"
        }
       ],
       "rows": [
        {
         "Desa": -1.5638675178905204,
         "flood": -0.518427933041202,
         "earthquake": 5.511762096592668,
         "wind": -0.20098684809707498,
         "volcano": -0.08247514665188692,
         "fire": -0.052193649723981266,
         "haze": -0.03984095364447979,
         "_deepnote_index_column": 40
        },
        {
         "Desa": -1.5610734780049975,
         "flood": -0.518427933041202,
         "earthquake": 1.7086763853297116,
         "wind": -0.20098684809707498,
         "volcano": -0.08247514665188692,
         "fire": -0.052193649723981266,
         "haze": -0.03984095364447979,
         "_deepnote_index_column": 41
        },
        {
         "Desa": -1.5582794381194744,
         "flood": -0.518427933041202,
         "earthquake": 1.7086763853297116,
         "wind": -0.20098684809707498,
         "volcano": -0.08247514665188692,
         "fire": -0.052193649723981266,
         "haze": -0.03984095364447979,
         "_deepnote_index_column": 42
        },
        {
         "Desa": -1.5554853982339516,
         "flood": -0.518427933041202,
         "earthquake": 1.7086763853297116,
         "wind": -0.20098684809707498,
         "volcano": -0.08247514665188692,
         "fire": -0.052193649723981266,
         "haze": -0.03984095364447979,
         "_deepnote_index_column": 43
        },
        {
         "Desa": -1.5526913583484288,
         "flood": -0.518427933041202,
         "earthquake": 1.7086763853297116,
         "wind": -0.20098684809707498,
         "volcano": -0.08247514665188692,
         "fire": -0.052193649723981266,
         "haze": -0.03984095364447979,
         "_deepnote_index_column": 44
        },
        {
         "Desa": -1.549897318462906,
         "flood": -0.518427933041202,
         "earthquake": 1.7086763853297116,
         "wind": -0.20098684809707498,
         "volcano": -0.08247514665188692,
         "fire": -0.052193649723981266,
         "haze": -0.03984095364447979,
         "_deepnote_index_column": 45
        },
        {
         "Desa": -1.547103278577383,
         "flood": -0.518427933041202,
         "earthquake": 1.7086763853297116,
         "wind": -0.20098684809707498,
         "volcano": -0.08247514665188692,
         "fire": -0.052193649723981266,
         "haze": -0.03984095364447979,
         "_deepnote_index_column": 46
        },
        {
         "Desa": -1.54430923869186,
         "flood": -0.518427933041202,
         "earthquake": 1.7086763853297116,
         "wind": -0.20098684809707498,
         "volcano": -0.08247514665188692,
         "fire": -0.052193649723981266,
         "haze": -0.03984095364447979,
         "_deepnote_index_column": 47
        },
        {
         "Desa": -1.5415151988063371,
         "flood": -0.518427933041202,
         "earthquake": 1.7086763853297116,
         "wind": -0.20098684809707498,
         "volcano": -0.08247514665188692,
         "fire": -0.052193649723981266,
         "haze": -0.03984095364447979,
         "_deepnote_index_column": 48
        },
        {
         "Desa": -1.5387211589208143,
         "flood": -0.518427933041202,
         "earthquake": 1.7086763853297116,
         "wind": -0.20098684809707498,
         "volcano": -0.08247514665188692,
         "fire": -0.052193649723981266,
         "haze": -0.03984095364447979,
         "_deepnote_index_column": 49
        }
       ]
      },
      "text/plain": "          Desa     flood  earthquake      wind   volcano      fire      haze\n0    -1.675629 -0.518428    1.708676 -0.200987 -0.082475 -0.052194 -0.039841\n1    -1.672835 -0.518428    1.708676 -0.200987 -0.082475 -0.052194 -0.039841\n2    -1.670041 -0.518428    1.708676 -0.200987 -0.082475 -0.052194 -0.039841\n3    -1.667247 -0.518428    1.708676 -0.200987 -0.082475 -0.052194 -0.039841\n4    -1.664453 -0.518428    1.708676 -0.200987 -0.082475 -0.052194 -0.039841\n...        ...       ...         ...       ...       ...       ...       ...\n1257  1.724717 -0.518428   -0.192866  3.825131 -0.082475 -0.052194 -0.039841\n1258  1.727511 -0.518428   -0.192866  3.825131 -0.082475 -0.052194 -0.039841\n1259  1.730306 -0.518428   -0.192866  3.825131 -0.082475 -0.052194 -0.039841\n1260  1.492812 -0.518428   -0.192866  3.825131 -0.082475 -0.052194 -0.039841\n1261  1.733100 -0.518428   -0.192866  3.825131 -0.082475 -0.052194 -0.039841\n\n[1262 rows x 7 columns]",
      "text/html": "<div>\n<style scoped>\n    .dataframe tbody tr th:only-of-type {\n        vertical-align: middle;\n    }\n\n    .dataframe tbody tr th {\n        vertical-align: top;\n    }\n\n    .dataframe thead th {\n        text-align: right;\n    }\n</style>\n<table border=\"1\" class=\"dataframe\">\n  <thead>\n    <tr style=\"text-align: right;\">\n      <th></th>\n      <th>Desa</th>\n      <th>flood</th>\n      <th>earthquake</th>\n      <th>wind</th>\n      <th>volcano</th>\n      <th>fire</th>\n      <th>haze</th>\n    </tr>\n  </thead>\n  <tbody>\n    <tr>\n      <th>0</th>\n      <td>-1.675629</td>\n      <td>-0.518428</td>\n      <td>1.708676</td>\n      <td>-0.200987</td>\n      <td>-0.082475</td>\n      <td>-0.052194</td>\n      <td>-0.039841</td>\n    </tr>\n    <tr>\n      <th>1</th>\n      <td>-1.672835</td>\n      <td>-0.518428</td>\n      <td>1.708676</td>\n      <td>-0.200987</td>\n      <td>-0.082475</td>\n      <td>-0.052194</td>\n      <td>-0.039841</td>\n    </tr>\n    <tr>\n      <th>2</th>\n      <td>-1.670041</td>\n      <td>-0.518428</td>\n      <td>1.708676</td>\n      <td>-0.200987</td>\n      <td>-0.082475</td>\n      <td>-0.052194</td>\n      <td>-0.039841</td>\n    </tr>\n    <tr>\n      <th>3</th>\n      <td>-1.667247</td>\n      <td>-0.518428</td>\n      <td>1.708676</td>\n      <td>-0.200987</td>\n      <td>-0.082475</td>\n      <td>-0.052194</td>\n      <td>-0.039841</td>\n    </tr>\n    <tr>\n      <th>4</th>\n      <td>-1.664453</td>\n      <td>-0.518428</td>\n      <td>1.708676</td>\n      <td>-0.200987</td>\n      <td>-0.082475</td>\n      <td>-0.052194</td>\n      <td>-0.039841</td>\n    </tr>\n    <tr>\n      <th>...</th>\n      <td>...</td>\n      <td>...</td>\n      <td>...</td>\n      <td>...</td>\n      <td>...</td>\n      <td>...</td>\n      <td>...</td>\n    </tr>\n    <tr>\n      <th>1257</th>\n      <td>1.724717</td>\n      <td>-0.518428</td>\n      <td>-0.192866</td>\n      <td>3.825131</td>\n      <td>-0.082475</td>\n      <td>-0.052194</td>\n      <td>-0.039841</td>\n    </tr>\n    <tr>\n      <th>1258</th>\n      <td>1.727511</td>\n      <td>-0.518428</td>\n      <td>-0.192866</td>\n      <td>3.825131</td>\n      <td>-0.082475</td>\n      <td>-0.052194</td>\n      <td>-0.039841</td>\n    </tr>\n    <tr>\n      <th>1259</th>\n      <td>1.730306</td>\n      <td>-0.518428</td>\n      <td>-0.192866</td>\n      <td>3.825131</td>\n      <td>-0.082475</td>\n      <td>-0.052194</td>\n      <td>-0.039841</td>\n    </tr>\n    <tr>\n      <th>1260</th>\n      <td>1.492812</td>\n      <td>-0.518428</td>\n      <td>-0.192866</td>\n      <td>3.825131</td>\n      <td>-0.082475</td>\n      <td>-0.052194</td>\n      <td>-0.039841</td>\n    </tr>\n    <tr>\n      <th>1261</th>\n      <td>1.733100</td>\n      <td>-0.518428</td>\n      <td>-0.192866</td>\n      <td>3.825131</td>\n      <td>-0.082475</td>\n      <td>-0.052194</td>\n      <td>-0.039841</td>\n    </tr>\n  </tbody>\n</table>\n<p>1262 rows × 7 columns</p>\n</div>"
     },
     "metadata": {}
    }
   ],
   "execution_count": 7
  },
  {
   "cell_type": "code",
   "source": "#getting matrix of dataframe\nX = dataset.iloc[:, [0, 1]].values\n\nm = X.shape[0]\nn = X.shape[1]\n\n#number of iteration\nn_iter = 100\n\n#number of cluster\nk = 3\n\n#determine centroid\ncentroid = np.array([]).reshape(n,0)\nfor i in range(k):\n    rand = rd.randint(0, m-1)\n    centroid = np.c_[centroid,X[rand]]\noutput = {}\n\n#count euclidian distance\neuclidDist = np.array([]).reshape(m,0)\nfor i in range(k):\n    tempDist = np.sum((X-centroid[:,i])**2, axis=1)\n    euclidDist = np.c_[euclidDist, tempDist]\n\nc = np.argmin(euclidDist,axis=1)+1\ncentroid",
   "metadata": {
    "cell_id": "2c03933621c74512a201af303924112c",
    "tags": [],
    "deepnote_to_be_reexecuted": false,
    "source_hash": "909d0230",
    "execution_start": 1661020782269,
    "execution_millis": 2,
    "deepnote_cell_type": "code",
    "deepnote_cell_height": 599.390625,
    "deepnote_output_heights": [
     39.375
    ]
   },
   "outputs": [
    {
     "output_type": "execute_result",
     "execution_count": 8,
     "data": {
      "text/plain": "array([[ 0.76915579,  0.09020409,  1.69118895],\n       [-0.35502732, -0.35502732, -0.51842793]])"
     },
     "metadata": {}
    }
   ],
   "execution_count": 8
  },
  {
   "cell_type": "code",
   "source": "#k-means clustering algorithm\nfor i in range(n_iter):\n    euclidDist = np.array([]).reshape(m,0)\n    for i in range(k):\n        tempDist = np.sum((X-centroid[:,i])**2, axis=1)\n        euclidDist = np.c_[euclidDist, tempDist]\n\n    c = np.argmin(euclidDist,axis=1)+1\n    y = {}\n    for j in range(k):\n        y[j+1] = np.array([]).reshape(2,0)\n    for j in range(m):\n        y[c[j]] = np.c_[y[c[j]], X[j]]\n    for j in range(k):\n        y[j+1] = y[j+1].T\n    for j in range(k):\n        centroid[:,j] = np.mean(y[j+1], axis=0)\n    output = y",
   "metadata": {
    "cell_id": "1bb244570c6f4853bbdded162110dd4e",
    "tags": [],
    "deepnote_to_be_reexecuted": false,
    "source_hash": "5fd4cb4a",
    "execution_start": 1661020782270,
    "execution_millis": 2399,
    "deepnote_cell_type": "code",
    "deepnote_cell_height": 382
   },
   "outputs": [],
   "execution_count": 9
  },
  {
   "cell_type": "code",
   "source": "#visualization cluster\ncolor = ['red', 'blue', 'green']\nlabels = ['c1', 'c2', 'c3']\nfor i in range(k):\n    plt.scatter(output[i+1][:,0], output[i+1][:,1], c = color[i], label=labels[i])\nplt.scatter(centroid[0,:], centroid[1,:], s=300, c='yellow', label='centroid')\n\nplt.legend()\nplt.show()",
   "metadata": {
    "cell_id": "4c67e6e97d504f22981c1b0b041ba0b6",
    "tags": [],
    "deepnote_to_be_reexecuted": false,
    "source_hash": "9cf98569",
    "execution_start": 1661020784676,
    "execution_millis": 333,
    "deepnote_cell_type": "code",
    "deepnote_cell_height": 490,
    "deepnote_output_heights": [
     249
    ]
   },
   "outputs": [
    {
     "data": {
      "text/plain": "<Figure size 432x288 with 1 Axes>",
      "image/png": "[encoded data removed]"
     },
     "metadata": {
      "needs_background": "light",
      "image/png": {
       "width": 368,
       "height": 248
      }
     },
     "output_type": "display_data"
    }
   ],
   "execution_count": 10
  },
  {
   "cell_type": "code",
   "source": "#clustered data\nnewdata = pd.DataFrame(data)\nnewdata['cluster'] = c\nnewdata['Desa'] = desa[kode]\nnewdata",
   "metadata": {
    "cell_id": "425b2ab18fbe4c5eb7f9afa2351ad663",
    "tags": [],
    "deepnote_to_be_reexecuted": false,
    "source_hash": "514d0cdb",
    "execution_start": 1661020785043,
    "execution_millis": 6,
    "deepnote_cell_type": "code",
    "deepnote_cell_height": 684
   },
   "outputs": [
    {
     "output_type": "execute_result",
     "execution_count": 11,
     "data": {
      "application/vnd.deepnote.dataframe.v3+json": {
       "column_count": 8,
       "row_count": 1262,
       "columns": [
        {
         "name": "Desa",
         "dtype": "object",
         "stats": {
          "unique_count": 1221,
          "nan_count": 0,
          "categories": [
           {
            "name": "Cibabat",
            "count": 3
           },
           {
            "name": "Gambir",
            "count": 3
           },
           {
            "name": "1219 others",
            "count": 1256
           }
          ]
         }
        },
        {
         "name": "flood",
         "dtype": "int64",
         "stats": {
          "unique_count": 40,
          "nan_count": 0,
          "min": "0",
          "max": "91",
          "histogram": [
           {
            "bin_start": 0,
            "bin_end": 9.1,
            "count": 1160
           },
           {
            "bin_start": 9.1,
            "bin_end": 18.2,
            "count": 65
           },
           {
            "bin_start": 18.2,
            "bin_end": 27.299999999999997,
            "count": 21
           },
           {
            "bin_start": 27.299999999999997,
            "bin_end": 36.4,
            "count": 6
           },
           {
            "bin_start": 36.4,
            "bin_end": 45.5,
            "count": 7
           },
           {
            "bin_start": 45.5,
            "bin_end": 54.599999999999994,
            "count": 1
           },
           {
            "bin_start": 54.599999999999994,
            "bin_end": 63.699999999999996,
            "count": 1
           },
           {
            "bin_start": 63.699999999999996,
            "bin_end": 72.8,
            "count": 0
           },
           {
            "bin_start": 72.8,
            "bin_end": 81.89999999999999,
            "count": 0
           },
           {
            "bin_start": 81.89999999999999,
            "bin_end": 91,
            "count": 1
           }
          ]
         }
        },
        {
         "name": "earthquake",
         "dtype": "int64",
         "stats": {
          "unique_count": 8,
          "nan_count": 0,
          "min": "0",
          "max": "10",
          "histogram": [
           {
            "bin_start": 0,
            "bin_end": 1,
            "count": 1179
           },
           {
            "bin_start": 1,
            "bin_end": 2,
            "count": 65
           },
           {
            "bin_start": 2,
            "bin_end": 3,
            "count": 8
           },
           {
            "bin_start": 3,
            "bin_end": 4,
            "count": 4
           },
           {
            "bin_start": 4,
            "bin_end": 5,
            "count": 2
           },
           {
            "bin_start": 5,
            "bin_end": 6,
            "count": 1
           },
           {
            "bin_start": 6,
            "bin_end": 7,
            "count": 2
           },
           {
            "bin_start": 7,
            "bin_end": 8,
            "count": 0
           },
           {
            "bin_start": 8,
            "bin_end": 9,
            "count": 0
           },
           {
            "bin_start": 9,
            "bin_end": 10,
            "count": 1
           }
          ]
         }
        },
        {
         "name": "wind",
         "dtype": "int64",
         "stats": {
          "unique_count": 4,
          "nan_count": 0,
          "min": "0",
          "max": "3",
          "histogram": [
           {
            "bin_start": 0,
            "bin_end": 0.3,
            "count": 1207
           },
           {
            "bin_start": 0.3,
            "bin_end": 0.6,
            "count": 0
           },
           {
            "bin_start": 0.6,
            "bin_end": 0.8999999999999999,
            "count": 0
           },
           {
            "bin_start": 0.8999999999999999,
            "bin_end": 1.2,
            "count": 48
           },
           {
            "bin_start": 1.2,
            "bin_end": 1.5,
            "count": 0
           },
           {
            "bin_start": 1.5,
            "bin_end": 1.7999999999999998,
            "count": 0
           },
           {
            "bin_start": 1.7999999999999998,
            "bin_end": 2.1,
            "count": 6
           },
           {
            "bin_start": 2.1,
            "bin_end": 2.4,
            "count": 0
           },
           {
            "bin_start": 2.4,
            "bin_end": 2.6999999999999997,
            "count": 0
           },
           {
            "bin_start": 2.6999999999999997,
            "bin_end": 3,
            "count": 1
           }
          ]
         }
        },
        {
         "name": "volcano",
         "dtype": "int64",
         "stats": {
          "unique_count": 3,
          "nan_count": 0,
          "min": "0",
          "max": "5",
          "histogram": [
           {
            "bin_start": 0,
            "bin_end": 0.5,
            "count": 1248
           },
           {
            "bin_start": 0.5,
            "bin_end": 1,
            "count": 0
           },
           {
            "bin_start": 1,
            "bin_end": 1.5,
            "count": 13
           },
           {
            "bin_start": 1.5,
            "bin_end": 2,
            "count": 0
           },
           {
            "bin_start": 2,
            "bin_end": 2.5,
            "count": 0
           },
           {
            "bin_start": 2.5,
            "bin_end": 3,
            "count": 0
           },
           {
            "bin_start": 3,
            "bin_end": 3.5,
            "count": 0
           },
           {
            "bin_start": 3.5,
            "bin_end": 4,
            "count": 0
           },
           {
            "bin_start": 4,
            "bin_end": 4.5,
            "count": 0
           },
           {
            "bin_start": 4.5,
            "bin_end": 5,
            "count": 1
           }
          ]
         }
        },
        {
         "name": "fire",
         "dtype": "int64",
         "stats": {
          "unique_count": 3,
          "nan_count": 0,
          "min": "0",
          "max": "6",
          "histogram": [
           {
            "bin_start": 0,
            "bin_end": 0.6,
            "count": 1255
           },
           {
            "bin_start": 0.6,
            "bin_end": 1.2,
            "count": 6
           },
           {
            "bin_start": 1.2,
            "bin_end": 1.7999999999999998,
            "count": 0
           },
           {
            "bin_start": 1.7999999999999998,
            "bin_end": 2.4,
            "count": 0
           },
           {
            "bin_start": 2.4,
            "bin_end": 3,
            "count": 0
           },
           {
            "bin_start": 3,
            "bin_end": 3.5999999999999996,
            "count": 0
           },
           {
            "bin_start": 3.5999999999999996,
            "bin_end": 4.2,
            "count": 0
           },
           {
            "bin_start": 4.2,
            "bin_end": 4.8,
            "count": 0
           },
           {
            "bin_start": 4.8,
            "bin_end": 5.3999999999999995,
            "count": 0
           },
           {
            "bin_start": 5.3999999999999995,
            "bin_end": 6,
            "count": 1
           }
          ]
         }
        },
        {
         "name": "haze",
         "dtype": "int64",
         "stats": {
          "unique_count": 2,
          "nan_count": 0,
          "min": "0",
          "max": "1",
          "histogram": [
           {
            "bin_start": 0,
            "bin_end": 0.1,
            "count": 1260
           },
           {
            "bin_start": 0.1,
            "bin_end": 0.2,
            "count": 0
           },
           {
            "bin_start": 0.2,
            "bin_end": 0.30000000000000004,
            "count": 0
           },
           {
            "bin_start": 0.30000000000000004,
            "bin_end": 0.4,
            "count": 0
           },
           {
            "bin_start": 0.4,
            "bin_end": 0.5,
            "count": 0
           },
           {
            "bin_start": 0.5,
            "bin_end": 0.6000000000000001,
            "count": 0
           },
           {
            "bin_start": 0.6000000000000001,
            "bin_end": 0.7000000000000001,
            "count": 0
           },
           {
            "bin_start": 0.7000000000000001,
            "bin_end": 0.8,
            "count": 0
           },
           {
            "bin_start": 0.8,
            "bin_end": 0.9,
            "count": 0
           },
           {
            "bin_start": 0.9,
            "bin_end": 1,
            "count": 2
           }
          ]
         }
        },
        {
         "name": "cluster",
         "dtype": "int64",
         "stats": {
          "unique_count": 3,
          "nan_count": 0,
          "min": "1",
          "max": "3",
          "histogram": [
           {
            "bin_start": 1,
            "bin_end": 1.2,
            "count": 66
           },
           {
            "bin_start": 1.2,
            "bin_end": 1.4,
            "count": 0
           },
           {
            "bin_start": 1.4,
            "bin_end": 1.6,
            "count": 0
           },
           {
            "bin_start": 1.6,
            "bin_end": 1.8,
            "count": 0
           },
           {
            "bin_start": 1.8,
            "bin_end": 2,
            "count": 0
           },
           {
            "bin_start": 2,
            "bin_end": 2.2,
            "count": 589
           },
           {
            "bin_start": 2.2,
            "bin_end": 2.4000000000000004,
            "count": 0
           },
           {
            "bin_start": 2.4000000000000004,
            "bin_end": 2.6,
            "count": 0
           },
           {
            "bin_start": 2.6,
            "bin_end": 2.8,
            "count": 0
           },
           {
            "bin_start": 2.8,
            "bin_end": 3,
            "count": 607
           }
          ]
         }
        },
        {
         "name": "_deepnote_index_column",
         "dtype": "int64"
        }
       ],
       "rows": [
        {
         "Desa": "Abang",
         "flood": 0,
         "earthquake": 1,
         "wind": 0,
         "volcano": 0,
         "fire": 0,
         "haze": 0,
         "cluster": 2,
         "_deepnote_index_column": 0
        },
        {
         "Desa": "Adipala",
         "flood": 0,
         "earthquake": 1,
         "wind": 0,
         "volcano": 0,
         "fire": 0,
         "haze": 0,
         "cluster": 2,
         "_deepnote_index_column": 1
        },
        {
         "Desa": "Aek Unsin",
         "flood": 0,
         "earthquake": 1,
         "wind": 0,
         "volcano": 0,
         "fire": 0,
         "haze": 0,
         "cluster": 2,
         "_deepnote_index_column": 2
        },
        {
         "Desa": "Bajeng",
         "flood": 0,
         "earthquake": 1,
         "wind": 0,
         "volcano": 0,
         "fire": 0,
         "haze": 0,
         "cluster": 2,
         "_deepnote_index_column": 3
        },
        {
         "Desa": "Baleendah",
         "flood": 0,
         "earthquake": 1,
         "wind": 0,
         "volcano": 0,
         "fire": 0,
         "haze": 0,
         "cluster": 2,
         "_deepnote_index_column": 4
        },
        {
         "Desa": "Bandengan",
         "flood": 0,
         "earthquake": 1,
         "wind": 0,
         "volcano": 0,
         "fire": 0,
         "haze": 0,
         "cluster": 2,
         "_deepnote_index_column": 5
        },
        {
         "Desa": "Bangunjiwo",
         "flood": 0,
         "earthquake": 1,
         "wind": 0,
         "volcano": 0,
         "fire": 0,
         "haze": 0,
         "cluster": 2,
         "_deepnote_index_column": 6
        },
        {
         "Desa": "Bantargadung",
         "flood": 0,
         "earthquake": 1,
         "wind": 0,
         "volcano": 0,
         "fire": 0,
         "haze": 0,
         "cluster": 2,
         "_deepnote_index_column": 7
        },
        {
         "Desa": "Batur Utara",
         "flood": 0,
         "earthquake": 1,
         "wind": 0,
         "volcano": 0,
         "fire": 0,
         "haze": 0,
         "cluster": 2,
         "_deepnote_index_column": 8
        },
        {
         "Desa": "Bonea",
         "flood": 0,
         "earthquake": 1,
         "wind": 0,
         "volcano": 0,
         "fire": 0,
         "haze": 0,
         "cluster": 2,
         "_deepnote_index_column": 9
        }
       ]
      },
      "text/plain": "               Desa  flood  earthquake  wind  volcano  fire  haze  cluster\n0             Abang      0           1     0        0     0     0        2\n1           Adipala      0           1     0        0     0     0        2\n2         Aek Unsin      0           1     0        0     0     0        2\n3            Bajeng      0           1     0        0     0     0        2\n4         Baleendah      0           1     0        0     0     0        2\n...             ...    ...         ...   ...      ...   ...   ...      ...\n1257  Sumurpanggang      0           0     1        0     0     0        3\n1258  Sunggal Kanan      0           0     1        0     0     0        3\n1259   Tanjung Rejo      0           0     1        0     0     0        3\n1260     Tugu Utara      0           0     1        0     0     0        3\n1261     Wanutengah      0           0     1        0     0     0        3\n\n[1262 rows x 8 columns]",
      "text/html": "<div>\n<style scoped>\n    .dataframe tbody tr th:only-of-type {\n        vertical-align: middle;\n    }\n\n    .dataframe tbody tr th {\n        vertical-align: top;\n    }\n\n    .dataframe thead th {\n        text-align: right;\n    }\n</style>\n<table border=\"1\" class=\"dataframe\">\n  <thead>\n    <tr style=\"text-align: right;\">\n      <th></th>\n      <th>Desa</th>\n      <th>flood</th>\n      <th>earthquake</th>\n      <th>wind</th>\n      <th>volcano</th>\n      <th>fire</th>\n      <th>haze</th>\n      <th>cluster</th>\n    </tr>\n  </thead>\n  <tbody>\n    <tr>\n      <th>0</th>\n      <td>Abang</td>\n      <td>0</td>\n      <td>1</td>\n      <td>0</td>\n      <td>0</td>\n      <td>0</td>\n      <td>0</td>\n      <td>2</td>\n    </tr>\n    <tr>\n      <th>1</th>\n      <td>Adipala</td>\n      <td>0</td>\n      <td>1</td>\n      <td>0</td>\n      <td>0</td>\n      <td>0</td>\n      <td>0</td>\n      <td>2</td>\n    </tr>\n    <tr>\n      <th>2</th>\n      <td>Aek Unsin</td>\n      <td>0</td>\n      <td>1</td>\n      <td>0</td>\n      <td>0</td>\n      <td>0</td>\n      <td>0</td>\n      <td>2</td>\n    </tr>\n    <tr>\n      <th>3</th>\n      <td>Bajeng</td>\n      <td>0</td>\n      <td>1</td>\n      <td>0</td>\n      <td>0</td>\n      <td>0</td>\n      <td>0</td>\n      <td>2</td>\n    </tr>\n    <tr>\n      <th>4</th>\n      <td>Baleendah</td>\n      <td>0</td>\n      <td>1</td>\n      <td>0</td>\n      <td>0</td>\n      <td>0</td>\n      <td>0</td>\n      <td>2</td>\n    </tr>\n    <tr>\n      <th>...</th>\n      <td>...</td>\n      <td>...</td>\n      <td>...</td>\n      <td>...</td>\n      <td>...</td>\n      <td>...</td>\n      <td>...</td>\n      <td>...</td>\n    </tr>\n    <tr>\n      <th>1257</th>\n      <td>Sumurpanggang</td>\n      <td>0</td>\n      <td>0</td>\n      <td>1</td>\n      <td>0</td>\n      <td>0</td>\n      <td>0</td>\n      <td>3</td>\n    </tr>\n    <tr>\n      <th>1258</th>\n      <td>Sunggal Kanan</td>\n      <td>0</td>\n      <td>0</td>\n      <td>1</td>\n      <td>0</td>\n      <td>0</td>\n      <td>0</td>\n      <td>3</td>\n    </tr>\n    <tr>\n      <th>1259</th>\n      <td>Tanjung Rejo</td>\n      <td>0</td>\n      <td>0</td>\n      <td>1</td>\n      <td>0</td>\n      <td>0</td>\n      <td>0</td>\n      <td>3</td>\n    </tr>\n    <tr>\n      <th>1260</th>\n      <td>Tugu Utara</td>\n      <td>0</td>\n      <td>0</td>\n      <td>1</td>\n      <td>0</td>\n      <td>0</td>\n      <td>0</td>\n      <td>3</td>\n    </tr>\n    <tr>\n      <th>1261</th>\n      <td>Wanutengah</td>\n      <td>0</td>\n      <td>0</td>\n      <td>1</td>\n      <td>0</td>\n      <td>0</td>\n      <td>0</td>\n      <td>3</td>\n    </tr>\n  </tbody>\n</table>\n<p>1262 rows × 8 columns</p>\n</div>"
     },
     "metadata": {}
    }
   ],
   "execution_count": 11
  },
  {
   "cell_type": "code",
   "source": "#total each cluster\npd.value_counts(newdata['cluster'])",
   "metadata": {
    "cell_id": "9bcd907e89f845fc833eebaca7d08412",
    "tags": [],
    "deepnote_to_be_reexecuted": false,
    "source_hash": "22a53c1e",
    "execution_start": 1661020826859,
    "execution_millis": 5,
    "deepnote_cell_type": "code",
    "deepnote_cell_height": 170,
    "deepnote_output_heights": [
     77.75
    ]
   },
   "outputs": [
    {
     "output_type": "execute_result",
     "execution_count": 14,
     "data": {
      "text/plain": "3    607\n2    589\n1     66\nName: cluster, dtype: int64"
     },
     "metadata": {}
    }
   ],
   "execution_count": 14
  },
  {
   "cell_type": "markdown",
   "source": "## Summary",
   "metadata": {
    "is_collapsed": false,
    "cell_id": "d1ee1babaf874b7f9a9d62dadd753c35",
    "tags": [],
    "formattedRanges": [],
    "deepnote_cell_type": "text-cell-h2"
   }
  },
  {
   "cell_type": "markdown",
   "source": "Berdasarkan hasil analisis yang dilakukan bencana alam yang sering terjadi adalah bencana banjir yaitu sekitar 4000an kasus kemudian bencana gempa sekitar 200an kasus dan sisanya adalah bencana gungung meletus, angin kencang, dan kebakaran. Bencana yang terjadi dapat diklusterisasikan menjadi 3 jenis kluster yaitu kluster pertama (c1): tingkat rawan bencana ringan, kluster kedua(c2): tingkat rawan bencana sedang, dan kluster ketiga (c3): tingkat rawan bencana tinggi.",
   "metadata": {
    "is_collapsed": false,
    "cell_id": "8fa4155d013a45b096368487f56ac0e4",
    "tags": [],
    "formattedRanges": [],
    "deepnote_cell_type": "text-cell-p"
   }
  },
  {
   "cell_type": "markdown",
   "source": "Daerah yang termmasuk kedalam kluster 3 (tingkat rawan bencana tinggi) yaitu daerah DKI Jakarta dan Jawa Barat dengan bencana terbanyak adalah banjir.Daerah yang termasuk kedalam kluster 2 (tingkat rawan bencana sedang) yaitu daerah Banten, Kalimantan selatan, Jawa Tengah dan sekitarnya, dan yang termasuk kedalam kluster 1 (tingkat rawan bencana sedang) adalah daerah Kalimantan Timur, Kalimantan Tengah, Sulawesi.",
   "metadata": {
    "is_collapsed": false,
    "cell_id": "b5e4a725-bce5-4fd5-992b-9e5fc9cd1d38",
    "tags": [],
    "formattedRanges": [],
    "deepnote_cell_type": "text-cell-p"
   }
  },
  {
   "cell_type": "markdown",
   "source": "Frekuensi terjadinya bencana terbanyak yaitu pada bulan Januari sampai Februari, khusunya bencana banjir hal ini dikarenakan pada bulan merupakan puncaknya musim hujan di Indonesia.",
   "metadata": {
    "is_collapsed": false,
    "cell_id": "26d77d95-acbc-4d50-b4b7-3516dbc8cdb6",
    "tags": [],
    "formattedRanges": [],
    "deepnote_cell_type": "text-cell-p"
   }
  },
  {
   "cell_type": "markdown",
   "source": "Rekomendasi yang dapat diberikan:",
   "metadata": {
    "is_collapsed": false,
    "cell_id": "a96e2472-75b6-4293-99c1-495269641318",
    "tags": [],
    "formattedRanges": [
     {
      "type": "marks",
      "fromCodePoint": 0,
      "toCodePoint": 33,
      "marks": {
       "bold": true
      }
     }
    ],
    "deepnote_cell_type": "text-cell-p"
   }
  },
  {
   "cell_type": "markdown",
   "source": "1. Bagi Masyarakat: Masyarakat harus lebih waspada dengan potensi bencana yang terjadi khususnya pada bulan Januari sampai bulan Februari karena menjadi puncak musim hujan dan berpotensi terjadinya banjir seperti pada daerah Kepa, Rawa buaya dan sekitarnya.",
   "metadata": {
    "is_collapsed": false,
    "cell_id": "21963381-1e2c-4c56-8b13-8b28e265bbe2",
    "tags": [],
    "number": 1,
    "style": "decimal",
    "formattedRanges": [],
    "deepnote_cell_type": "text-cell-number"
   }
  },
  {
   "cell_type": "markdown",
   "source": "undefined. Bagi Pemerintah: Pemerintah harus lebih siap siaga untuk mengantisipasi ternjadinya banjir ataupun bencana lain yang terjadi dengan melihat pengalaman yang terjadi pada tahun sebelumnya sehingga tingkat kerugian yang dialami dapat diminimalisir.",
   "metadata": {
    "is_collapsed": false,
    "cell_id": "a4a4abbc-125f-4ef1-a1ec-c0f608ab24f0",
    "tags": [],
    "style": "decimal",
    "formattedRanges": [],
    "deepnote_cell_type": "text-cell-number"
   }
  },
  {
   "cell_type": "markdown",
   "source": "<a style='text-decoration:none;line-height:16px;display:flex;color:#5B5B62;padding:10px;justify-content:end;' href='https://deepnote.com?utm_source=created-in-deepnote-cell&projectId=e5796937-50eb-437b-95bb-507260916b44' target=\"_blank\">\n<img alt='Created in deepnote.com' style='display:inline;max-height:16px;margin:0px;margin-right:7.5px;' src='data:image/svg+xml;base64,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' > </img>\nCreated in <span style='font-weight:600;margin-left:4px;'>Deepnote</span></a>",
   "metadata": {
    "tags": [],
    "created_in_deepnote_cell": true,
    "deepnote_cell_type": "markdown"
   }
  }
 ],
 "nbformat": 4,
 "nbformat_minor": 2,
 "metadata": {
  "orig_nbformat": 2,
  "deepnote": {},
  "deepnote_notebook_id": "5a81472f-f305-4692-8ca0-8d1210e324dd",
  "deepnote_execution_queue": []
 }
}